{
 "cells": [
  {
   "cell_type": "markdown",
   "metadata": {},
   "source": [
    "# Introduction\n",
    "\n",
    "This notebook analyzes data collected from a survey to determine the factors influencing drivers' acceptance of coupons in various driving scenarios. The data encompasses different aspects such as destination, current time, weather, presence of passengers, and coupon types (e.g., restaurants, coffee houses, bars). The goal is to leverage visualizations and probability distributions to distinguish between customers who accepted a driving coupon and those who did not.\n",
    "\n",
    "Key Questions:\n",
    "- What are the primary factors influencing coupon acceptance?\n",
    "- How do different scenarios impact the likelihood of accepting a coupon?\n",
    "- Focus on Bar coupon and Coffee House coupon\n",
    "\n",
    "Let's delve into the data exploration and analysis to uncover insights into driver behavior regarding coupon acceptance."
   ]
  },
  {
   "cell_type": "code",
   "execution_count": 796,
   "metadata": {},
   "outputs": [],
   "source": [
    "import matplotlib.pyplot as plt\n",
    "import seaborn as sns\n",
    "import pandas as pd\n",
    "import numpy as np"
   ]
  },
  {
   "cell_type": "markdown",
   "metadata": {},
   "source": [
    "# Data loading and overview \n",
    "\n",
    "1. Read in the `coupons.csv` file."
   ]
  },
  {
   "cell_type": "code",
   "execution_count": 797,
   "metadata": {},
   "outputs": [],
   "source": [
    "data = pd.read_csv('data/coupons.csv')"
   ]
  },
  {
   "cell_type": "code",
   "execution_count": 798,
   "metadata": {},
   "outputs": [
    {
     "data": {
      "text/html": [
       "<div>\n",
       "<style scoped>\n",
       "    .dataframe tbody tr th:only-of-type {\n",
       "        vertical-align: middle;\n",
       "    }\n",
       "\n",
       "    .dataframe tbody tr th {\n",
       "        vertical-align: top;\n",
       "    }\n",
       "\n",
       "    .dataframe thead th {\n",
       "        text-align: right;\n",
       "    }\n",
       "</style>\n",
       "<table border=\"1\" class=\"dataframe\">\n",
       "  <thead>\n",
       "    <tr style=\"text-align: right;\">\n",
       "      <th></th>\n",
       "      <th>destination</th>\n",
       "      <th>passanger</th>\n",
       "      <th>weather</th>\n",
       "      <th>temperature</th>\n",
       "      <th>time</th>\n",
       "      <th>coupon</th>\n",
       "      <th>expiration</th>\n",
       "      <th>gender</th>\n",
       "      <th>age</th>\n",
       "      <th>maritalStatus</th>\n",
       "      <th>...</th>\n",
       "      <th>CoffeeHouse</th>\n",
       "      <th>CarryAway</th>\n",
       "      <th>RestaurantLessThan20</th>\n",
       "      <th>Restaurant20To50</th>\n",
       "      <th>toCoupon_GEQ5min</th>\n",
       "      <th>toCoupon_GEQ15min</th>\n",
       "      <th>toCoupon_GEQ25min</th>\n",
       "      <th>direction_same</th>\n",
       "      <th>direction_opp</th>\n",
       "      <th>Y</th>\n",
       "    </tr>\n",
       "  </thead>\n",
       "  <tbody>\n",
       "    <tr>\n",
       "      <th>0</th>\n",
       "      <td>No Urgent Place</td>\n",
       "      <td>Alone</td>\n",
       "      <td>Sunny</td>\n",
       "      <td>55</td>\n",
       "      <td>2PM</td>\n",
       "      <td>Restaurant(&lt;20)</td>\n",
       "      <td>1d</td>\n",
       "      <td>Female</td>\n",
       "      <td>21</td>\n",
       "      <td>Unmarried partner</td>\n",
       "      <td>...</td>\n",
       "      <td>never</td>\n",
       "      <td>NaN</td>\n",
       "      <td>4~8</td>\n",
       "      <td>1~3</td>\n",
       "      <td>1</td>\n",
       "      <td>0</td>\n",
       "      <td>0</td>\n",
       "      <td>0</td>\n",
       "      <td>1</td>\n",
       "      <td>1</td>\n",
       "    </tr>\n",
       "    <tr>\n",
       "      <th>1</th>\n",
       "      <td>No Urgent Place</td>\n",
       "      <td>Friend(s)</td>\n",
       "      <td>Sunny</td>\n",
       "      <td>80</td>\n",
       "      <td>10AM</td>\n",
       "      <td>Coffee House</td>\n",
       "      <td>2h</td>\n",
       "      <td>Female</td>\n",
       "      <td>21</td>\n",
       "      <td>Unmarried partner</td>\n",
       "      <td>...</td>\n",
       "      <td>never</td>\n",
       "      <td>NaN</td>\n",
       "      <td>4~8</td>\n",
       "      <td>1~3</td>\n",
       "      <td>1</td>\n",
       "      <td>0</td>\n",
       "      <td>0</td>\n",
       "      <td>0</td>\n",
       "      <td>1</td>\n",
       "      <td>0</td>\n",
       "    </tr>\n",
       "    <tr>\n",
       "      <th>2</th>\n",
       "      <td>No Urgent Place</td>\n",
       "      <td>Friend(s)</td>\n",
       "      <td>Sunny</td>\n",
       "      <td>80</td>\n",
       "      <td>10AM</td>\n",
       "      <td>Carry out &amp; Take away</td>\n",
       "      <td>2h</td>\n",
       "      <td>Female</td>\n",
       "      <td>21</td>\n",
       "      <td>Unmarried partner</td>\n",
       "      <td>...</td>\n",
       "      <td>never</td>\n",
       "      <td>NaN</td>\n",
       "      <td>4~8</td>\n",
       "      <td>1~3</td>\n",
       "      <td>1</td>\n",
       "      <td>1</td>\n",
       "      <td>0</td>\n",
       "      <td>0</td>\n",
       "      <td>1</td>\n",
       "      <td>1</td>\n",
       "    </tr>\n",
       "    <tr>\n",
       "      <th>3</th>\n",
       "      <td>No Urgent Place</td>\n",
       "      <td>Friend(s)</td>\n",
       "      <td>Sunny</td>\n",
       "      <td>80</td>\n",
       "      <td>2PM</td>\n",
       "      <td>Coffee House</td>\n",
       "      <td>2h</td>\n",
       "      <td>Female</td>\n",
       "      <td>21</td>\n",
       "      <td>Unmarried partner</td>\n",
       "      <td>...</td>\n",
       "      <td>never</td>\n",
       "      <td>NaN</td>\n",
       "      <td>4~8</td>\n",
       "      <td>1~3</td>\n",
       "      <td>1</td>\n",
       "      <td>1</td>\n",
       "      <td>0</td>\n",
       "      <td>0</td>\n",
       "      <td>1</td>\n",
       "      <td>0</td>\n",
       "    </tr>\n",
       "    <tr>\n",
       "      <th>4</th>\n",
       "      <td>No Urgent Place</td>\n",
       "      <td>Friend(s)</td>\n",
       "      <td>Sunny</td>\n",
       "      <td>80</td>\n",
       "      <td>2PM</td>\n",
       "      <td>Coffee House</td>\n",
       "      <td>1d</td>\n",
       "      <td>Female</td>\n",
       "      <td>21</td>\n",
       "      <td>Unmarried partner</td>\n",
       "      <td>...</td>\n",
       "      <td>never</td>\n",
       "      <td>NaN</td>\n",
       "      <td>4~8</td>\n",
       "      <td>1~3</td>\n",
       "      <td>1</td>\n",
       "      <td>1</td>\n",
       "      <td>0</td>\n",
       "      <td>0</td>\n",
       "      <td>1</td>\n",
       "      <td>0</td>\n",
       "    </tr>\n",
       "    <tr>\n",
       "      <th>...</th>\n",
       "      <td>...</td>\n",
       "      <td>...</td>\n",
       "      <td>...</td>\n",
       "      <td>...</td>\n",
       "      <td>...</td>\n",
       "      <td>...</td>\n",
       "      <td>...</td>\n",
       "      <td>...</td>\n",
       "      <td>...</td>\n",
       "      <td>...</td>\n",
       "      <td>...</td>\n",
       "      <td>...</td>\n",
       "      <td>...</td>\n",
       "      <td>...</td>\n",
       "      <td>...</td>\n",
       "      <td>...</td>\n",
       "      <td>...</td>\n",
       "      <td>...</td>\n",
       "      <td>...</td>\n",
       "      <td>...</td>\n",
       "      <td>...</td>\n",
       "    </tr>\n",
       "    <tr>\n",
       "      <th>12679</th>\n",
       "      <td>Home</td>\n",
       "      <td>Partner</td>\n",
       "      <td>Rainy</td>\n",
       "      <td>55</td>\n",
       "      <td>6PM</td>\n",
       "      <td>Carry out &amp; Take away</td>\n",
       "      <td>1d</td>\n",
       "      <td>Male</td>\n",
       "      <td>26</td>\n",
       "      <td>Single</td>\n",
       "      <td>...</td>\n",
       "      <td>never</td>\n",
       "      <td>1~3</td>\n",
       "      <td>4~8</td>\n",
       "      <td>1~3</td>\n",
       "      <td>1</td>\n",
       "      <td>0</td>\n",
       "      <td>0</td>\n",
       "      <td>1</td>\n",
       "      <td>0</td>\n",
       "      <td>1</td>\n",
       "    </tr>\n",
       "    <tr>\n",
       "      <th>12680</th>\n",
       "      <td>Work</td>\n",
       "      <td>Alone</td>\n",
       "      <td>Rainy</td>\n",
       "      <td>55</td>\n",
       "      <td>7AM</td>\n",
       "      <td>Carry out &amp; Take away</td>\n",
       "      <td>1d</td>\n",
       "      <td>Male</td>\n",
       "      <td>26</td>\n",
       "      <td>Single</td>\n",
       "      <td>...</td>\n",
       "      <td>never</td>\n",
       "      <td>1~3</td>\n",
       "      <td>4~8</td>\n",
       "      <td>1~3</td>\n",
       "      <td>1</td>\n",
       "      <td>0</td>\n",
       "      <td>0</td>\n",
       "      <td>0</td>\n",
       "      <td>1</td>\n",
       "      <td>1</td>\n",
       "    </tr>\n",
       "    <tr>\n",
       "      <th>12681</th>\n",
       "      <td>Work</td>\n",
       "      <td>Alone</td>\n",
       "      <td>Snowy</td>\n",
       "      <td>30</td>\n",
       "      <td>7AM</td>\n",
       "      <td>Coffee House</td>\n",
       "      <td>1d</td>\n",
       "      <td>Male</td>\n",
       "      <td>26</td>\n",
       "      <td>Single</td>\n",
       "      <td>...</td>\n",
       "      <td>never</td>\n",
       "      <td>1~3</td>\n",
       "      <td>4~8</td>\n",
       "      <td>1~3</td>\n",
       "      <td>1</td>\n",
       "      <td>0</td>\n",
       "      <td>0</td>\n",
       "      <td>1</td>\n",
       "      <td>0</td>\n",
       "      <td>0</td>\n",
       "    </tr>\n",
       "    <tr>\n",
       "      <th>12682</th>\n",
       "      <td>Work</td>\n",
       "      <td>Alone</td>\n",
       "      <td>Snowy</td>\n",
       "      <td>30</td>\n",
       "      <td>7AM</td>\n",
       "      <td>Bar</td>\n",
       "      <td>1d</td>\n",
       "      <td>Male</td>\n",
       "      <td>26</td>\n",
       "      <td>Single</td>\n",
       "      <td>...</td>\n",
       "      <td>never</td>\n",
       "      <td>1~3</td>\n",
       "      <td>4~8</td>\n",
       "      <td>1~3</td>\n",
       "      <td>1</td>\n",
       "      <td>1</td>\n",
       "      <td>1</td>\n",
       "      <td>0</td>\n",
       "      <td>1</td>\n",
       "      <td>0</td>\n",
       "    </tr>\n",
       "    <tr>\n",
       "      <th>12683</th>\n",
       "      <td>Work</td>\n",
       "      <td>Alone</td>\n",
       "      <td>Sunny</td>\n",
       "      <td>80</td>\n",
       "      <td>7AM</td>\n",
       "      <td>Restaurant(20-50)</td>\n",
       "      <td>2h</td>\n",
       "      <td>Male</td>\n",
       "      <td>26</td>\n",
       "      <td>Single</td>\n",
       "      <td>...</td>\n",
       "      <td>never</td>\n",
       "      <td>1~3</td>\n",
       "      <td>4~8</td>\n",
       "      <td>1~3</td>\n",
       "      <td>1</td>\n",
       "      <td>0</td>\n",
       "      <td>0</td>\n",
       "      <td>1</td>\n",
       "      <td>0</td>\n",
       "      <td>0</td>\n",
       "    </tr>\n",
       "  </tbody>\n",
       "</table>\n",
       "<p>12684 rows × 26 columns</p>\n",
       "</div>"
      ],
      "text/plain": [
       "           destination  passanger weather  temperature  time  \\\n",
       "0      No Urgent Place      Alone   Sunny           55   2PM   \n",
       "1      No Urgent Place  Friend(s)   Sunny           80  10AM   \n",
       "2      No Urgent Place  Friend(s)   Sunny           80  10AM   \n",
       "3      No Urgent Place  Friend(s)   Sunny           80   2PM   \n",
       "4      No Urgent Place  Friend(s)   Sunny           80   2PM   \n",
       "...                ...        ...     ...          ...   ...   \n",
       "12679             Home    Partner   Rainy           55   6PM   \n",
       "12680             Work      Alone   Rainy           55   7AM   \n",
       "12681             Work      Alone   Snowy           30   7AM   \n",
       "12682             Work      Alone   Snowy           30   7AM   \n",
       "12683             Work      Alone   Sunny           80   7AM   \n",
       "\n",
       "                      coupon expiration  gender age      maritalStatus  ...  \\\n",
       "0            Restaurant(<20)         1d  Female  21  Unmarried partner  ...   \n",
       "1               Coffee House         2h  Female  21  Unmarried partner  ...   \n",
       "2      Carry out & Take away         2h  Female  21  Unmarried partner  ...   \n",
       "3               Coffee House         2h  Female  21  Unmarried partner  ...   \n",
       "4               Coffee House         1d  Female  21  Unmarried partner  ...   \n",
       "...                      ...        ...     ...  ..                ...  ...   \n",
       "12679  Carry out & Take away         1d    Male  26             Single  ...   \n",
       "12680  Carry out & Take away         1d    Male  26             Single  ...   \n",
       "12681           Coffee House         1d    Male  26             Single  ...   \n",
       "12682                    Bar         1d    Male  26             Single  ...   \n",
       "12683      Restaurant(20-50)         2h    Male  26             Single  ...   \n",
       "\n",
       "       CoffeeHouse CarryAway RestaurantLessThan20 Restaurant20To50  \\\n",
       "0            never       NaN                  4~8              1~3   \n",
       "1            never       NaN                  4~8              1~3   \n",
       "2            never       NaN                  4~8              1~3   \n",
       "3            never       NaN                  4~8              1~3   \n",
       "4            never       NaN                  4~8              1~3   \n",
       "...            ...       ...                  ...              ...   \n",
       "12679        never       1~3                  4~8              1~3   \n",
       "12680        never       1~3                  4~8              1~3   \n",
       "12681        never       1~3                  4~8              1~3   \n",
       "12682        never       1~3                  4~8              1~3   \n",
       "12683        never       1~3                  4~8              1~3   \n",
       "\n",
       "      toCoupon_GEQ5min toCoupon_GEQ15min toCoupon_GEQ25min direction_same  \\\n",
       "0                    1                 0                 0              0   \n",
       "1                    1                 0                 0              0   \n",
       "2                    1                 1                 0              0   \n",
       "3                    1                 1                 0              0   \n",
       "4                    1                 1                 0              0   \n",
       "...                ...               ...               ...            ...   \n",
       "12679                1                 0                 0              1   \n",
       "12680                1                 0                 0              0   \n",
       "12681                1                 0                 0              1   \n",
       "12682                1                 1                 1              0   \n",
       "12683                1                 0                 0              1   \n",
       "\n",
       "      direction_opp  Y  \n",
       "0                 1  1  \n",
       "1                 1  0  \n",
       "2                 1  1  \n",
       "3                 1  0  \n",
       "4                 1  0  \n",
       "...             ... ..  \n",
       "12679             0  1  \n",
       "12680             1  1  \n",
       "12681             0  0  \n",
       "12682             1  0  \n",
       "12683             0  0  \n",
       "\n",
       "[12684 rows x 26 columns]"
      ]
     },
     "execution_count": 798,
     "metadata": {},
     "output_type": "execute_result"
    }
   ],
   "source": [
    "data"
   ]
  },
  {
   "cell_type": "code",
   "execution_count": 799,
   "metadata": {},
   "outputs": [
    {
     "name": "stdout",
     "output_type": "stream",
     "text": [
      "<class 'pandas.core.frame.DataFrame'>\n",
      "RangeIndex: 12684 entries, 0 to 12683\n",
      "Data columns (total 26 columns):\n",
      " #   Column                Non-Null Count  Dtype \n",
      "---  ------                --------------  ----- \n",
      " 0   destination           12684 non-null  object\n",
      " 1   passanger             12684 non-null  object\n",
      " 2   weather               12684 non-null  object\n",
      " 3   temperature           12684 non-null  int64 \n",
      " 4   time                  12684 non-null  object\n",
      " 5   coupon                12684 non-null  object\n",
      " 6   expiration            12684 non-null  object\n",
      " 7   gender                12684 non-null  object\n",
      " 8   age                   12684 non-null  object\n",
      " 9   maritalStatus         12684 non-null  object\n",
      " 10  has_children          12684 non-null  int64 \n",
      " 11  education             12684 non-null  object\n",
      " 12  occupation            12684 non-null  object\n",
      " 13  income                12684 non-null  object\n",
      " 14  car                   108 non-null    object\n",
      " 15  Bar                   12577 non-null  object\n",
      " 16  CoffeeHouse           12467 non-null  object\n",
      " 17  CarryAway             12533 non-null  object\n",
      " 18  RestaurantLessThan20  12554 non-null  object\n",
      " 19  Restaurant20To50      12495 non-null  object\n",
      " 20  toCoupon_GEQ5min      12684 non-null  int64 \n",
      " 21  toCoupon_GEQ15min     12684 non-null  int64 \n",
      " 22  toCoupon_GEQ25min     12684 non-null  int64 \n",
      " 23  direction_same        12684 non-null  int64 \n",
      " 24  direction_opp         12684 non-null  int64 \n",
      " 25  Y                     12684 non-null  int64 \n",
      "dtypes: int64(8), object(18)\n",
      "memory usage: 2.5+ MB\n"
     ]
    }
   ],
   "source": [
    "data.info()"
   ]
  },
  {
   "cell_type": "markdown",
   "metadata": {},
   "source": [
    "2. Investigate the dataset for missing or problematic data."
   ]
  },
  {
   "cell_type": "code",
   "execution_count": 800,
   "metadata": {},
   "outputs": [
    {
     "data": {
      "text/plain": [
       "destination\n",
       "No Urgent Place    6283\n",
       "Home               3237\n",
       "Work               3164\n",
       "Name: count, dtype: int64"
      ]
     },
     "execution_count": 800,
     "metadata": {},
     "output_type": "execute_result"
    }
   ],
   "source": [
    "#checking the different values of columns to see any problematic data\n",
    "data['destination'].value_counts()"
   ]
  },
  {
   "cell_type": "code",
   "execution_count": 801,
   "metadata": {},
   "outputs": [
    {
     "data": {
      "text/plain": [
       "passanger\n",
       "Alone        7305\n",
       "Friend(s)    3298\n",
       "Partner      1075\n",
       "Kid(s)       1006\n",
       "Name: count, dtype: int64"
      ]
     },
     "execution_count": 801,
     "metadata": {},
     "output_type": "execute_result"
    }
   ],
   "source": [
    "data['passanger'].value_counts()"
   ]
  },
  {
   "cell_type": "code",
   "execution_count": 802,
   "metadata": {},
   "outputs": [
    {
     "data": {
      "text/plain": [
       "weather\n",
       "Sunny    10069\n",
       "Snowy     1405\n",
       "Rainy     1210\n",
       "Name: count, dtype: int64"
      ]
     },
     "execution_count": 802,
     "metadata": {},
     "output_type": "execute_result"
    }
   ],
   "source": [
    "data['weather'].value_counts()"
   ]
  },
  {
   "cell_type": "code",
   "execution_count": 803,
   "metadata": {},
   "outputs": [
    {
     "data": {
      "text/plain": [
       "temperature\n",
       "80    6528\n",
       "55    3840\n",
       "30    2316\n",
       "Name: count, dtype: int64"
      ]
     },
     "execution_count": 803,
     "metadata": {},
     "output_type": "execute_result"
    }
   ],
   "source": [
    "data['temperature'].value_counts()"
   ]
  },
  {
   "cell_type": "code",
   "execution_count": 804,
   "metadata": {},
   "outputs": [
    {
     "data": {
      "text/plain": [
       "time\n",
       "6PM     3230\n",
       "7AM     3164\n",
       "10AM    2275\n",
       "2PM     2009\n",
       "10PM    2006\n",
       "Name: count, dtype: int64"
      ]
     },
     "execution_count": 804,
     "metadata": {},
     "output_type": "execute_result"
    }
   ],
   "source": [
    "data['time'].value_counts()"
   ]
  },
  {
   "cell_type": "code",
   "execution_count": 805,
   "metadata": {},
   "outputs": [
    {
     "data": {
      "text/plain": [
       "coupon\n",
       "Coffee House             3996\n",
       "Restaurant(<20)          2786\n",
       "Carry out & Take away    2393\n",
       "Bar                      2017\n",
       "Restaurant(20-50)        1492\n",
       "Name: count, dtype: int64"
      ]
     },
     "execution_count": 805,
     "metadata": {},
     "output_type": "execute_result"
    }
   ],
   "source": [
    "data['coupon'].value_counts()"
   ]
  },
  {
   "cell_type": "code",
   "execution_count": 806,
   "metadata": {},
   "outputs": [
    {
     "data": {
      "text/plain": [
       "expiration\n",
       "1d    7091\n",
       "2h    5593\n",
       "Name: count, dtype: int64"
      ]
     },
     "execution_count": 806,
     "metadata": {},
     "output_type": "execute_result"
    }
   ],
   "source": [
    "data['expiration'].value_counts()"
   ]
  },
  {
   "cell_type": "code",
   "execution_count": 807,
   "metadata": {},
   "outputs": [
    {
     "data": {
      "text/plain": [
       "gender\n",
       "Female    6511\n",
       "Male      6173\n",
       "Name: count, dtype: int64"
      ]
     },
     "execution_count": 807,
     "metadata": {},
     "output_type": "execute_result"
    }
   ],
   "source": [
    "data['gender'].value_counts()"
   ]
  },
  {
   "cell_type": "code",
   "execution_count": 808,
   "metadata": {},
   "outputs": [
    {
     "data": {
      "text/plain": [
       "age\n",
       "21         2653\n",
       "26         2559\n",
       "31         2039\n",
       "50plus     1788\n",
       "36         1319\n",
       "41         1093\n",
       "46          686\n",
       "below21     547\n",
       "Name: count, dtype: int64"
      ]
     },
     "execution_count": 808,
     "metadata": {},
     "output_type": "execute_result"
    }
   ],
   "source": [
    "data['age'].value_counts()"
   ]
  },
  {
   "cell_type": "code",
   "execution_count": 809,
   "metadata": {},
   "outputs": [
    {
     "data": {
      "text/plain": [
       "maritalStatus\n",
       "Married partner      5100\n",
       "Single               4752\n",
       "Unmarried partner    2186\n",
       "Divorced              516\n",
       "Widowed               130\n",
       "Name: count, dtype: int64"
      ]
     },
     "execution_count": 809,
     "metadata": {},
     "output_type": "execute_result"
    }
   ],
   "source": [
    "data['maritalStatus'].value_counts()"
   ]
  },
  {
   "cell_type": "code",
   "execution_count": 810,
   "metadata": {},
   "outputs": [
    {
     "data": {
      "text/plain": [
       "has_children\n",
       "0    7431\n",
       "1    5253\n",
       "Name: count, dtype: int64"
      ]
     },
     "execution_count": 810,
     "metadata": {},
     "output_type": "execute_result"
    }
   ],
   "source": [
    "data['has_children'].value_counts()"
   ]
  },
  {
   "cell_type": "code",
   "execution_count": 811,
   "metadata": {},
   "outputs": [
    {
     "data": {
      "text/plain": [
       "education\n",
       "Some college - no degree                  4351\n",
       "Bachelors degree                          4335\n",
       "Graduate degree (Masters or Doctorate)    1852\n",
       "Associates degree                         1153\n",
       "High School Graduate                       905\n",
       "Some High School                            88\n",
       "Name: count, dtype: int64"
      ]
     },
     "execution_count": 811,
     "metadata": {},
     "output_type": "execute_result"
    }
   ],
   "source": [
    "data['education'].value_counts()"
   ]
  },
  {
   "cell_type": "code",
   "execution_count": 812,
   "metadata": {},
   "outputs": [
    {
     "data": {
      "text/plain": [
       "occupation\n",
       "Unemployed                                   1870\n",
       "Student                                      1584\n",
       "Computer & Mathematical                      1408\n",
       "Sales & Related                              1093\n",
       "Education&Training&Library                    943\n",
       "Management                                    838\n",
       "Office & Administrative Support               639\n",
       "Arts Design Entertainment Sports & Media      629\n",
       "Business & Financial                          544\n",
       "Retired                                       495\n",
       "Food Preparation & Serving Related            298\n",
       "Healthcare Practitioners & Technical          244\n",
       "Healthcare Support                            242\n",
       "Community & Social Services                   241\n",
       "Legal                                         219\n",
       "Transportation & Material Moving              218\n",
       "Architecture & Engineering                    175\n",
       "Personal Care & Service                       175\n",
       "Protective Service                            175\n",
       "Life Physical Social Science                  170\n",
       "Construction & Extraction                     154\n",
       "Installation Maintenance & Repair             133\n",
       "Production Occupations                        110\n",
       "Building & Grounds Cleaning & Maintenance      44\n",
       "Farming Fishing & Forestry                     43\n",
       "Name: count, dtype: int64"
      ]
     },
     "execution_count": 812,
     "metadata": {},
     "output_type": "execute_result"
    }
   ],
   "source": [
    "data['occupation'].value_counts()"
   ]
  },
  {
   "cell_type": "code",
   "execution_count": 813,
   "metadata": {},
   "outputs": [
    {
     "data": {
      "text/plain": [
       "income\n",
       "$25000 - $37499     2013\n",
       "$12500 - $24999     1831\n",
       "$37500 - $49999     1805\n",
       "$100000 or More     1736\n",
       "$50000 - $62499     1659\n",
       "Less than $12500    1042\n",
       "$87500 - $99999      895\n",
       "$75000 - $87499      857\n",
       "$62500 - $74999      846\n",
       "Name: count, dtype: int64"
      ]
     },
     "execution_count": 813,
     "metadata": {},
     "output_type": "execute_result"
    }
   ],
   "source": [
    "data['income'].value_counts()"
   ]
  },
  {
   "cell_type": "code",
   "execution_count": 814,
   "metadata": {},
   "outputs": [
    {
     "data": {
      "text/plain": [
       "car\n",
       "Scooter and motorcycle                      22\n",
       "Mazda5                                      22\n",
       "do not drive                                22\n",
       "crossover                                   21\n",
       "Car that is too old to install Onstar :D    21\n",
       "Name: count, dtype: int64"
      ]
     },
     "execution_count": 814,
     "metadata": {},
     "output_type": "execute_result"
    }
   ],
   "source": [
    "data['car'].value_counts()"
   ]
  },
  {
   "cell_type": "code",
   "execution_count": 815,
   "metadata": {},
   "outputs": [
    {
     "data": {
      "text/plain": [
       "Bar\n",
       "never    5197\n",
       "less1    3482\n",
       "1~3      2473\n",
       "4~8      1076\n",
       "gt8       349\n",
       "Name: count, dtype: int64"
      ]
     },
     "execution_count": 815,
     "metadata": {},
     "output_type": "execute_result"
    }
   ],
   "source": [
    "data['Bar'].value_counts()"
   ]
  },
  {
   "cell_type": "code",
   "execution_count": 816,
   "metadata": {},
   "outputs": [
    {
     "data": {
      "text/plain": [
       "CoffeeHouse\n",
       "less1    3385\n",
       "1~3      3225\n",
       "never    2962\n",
       "4~8      1784\n",
       "gt8      1111\n",
       "Name: count, dtype: int64"
      ]
     },
     "execution_count": 816,
     "metadata": {},
     "output_type": "execute_result"
    }
   ],
   "source": [
    "data['CoffeeHouse'].value_counts()"
   ]
  },
  {
   "cell_type": "code",
   "execution_count": 817,
   "metadata": {},
   "outputs": [
    {
     "data": {
      "text/plain": [
       "CarryAway\n",
       "1~3      4672\n",
       "4~8      4258\n",
       "less1    1856\n",
       "gt8      1594\n",
       "never     153\n",
       "Name: count, dtype: int64"
      ]
     },
     "execution_count": 817,
     "metadata": {},
     "output_type": "execute_result"
    }
   ],
   "source": [
    "data['CarryAway'].value_counts()"
   ]
  },
  {
   "cell_type": "code",
   "execution_count": 818,
   "metadata": {},
   "outputs": [
    {
     "data": {
      "text/plain": [
       "RestaurantLessThan20\n",
       "1~3      5376\n",
       "4~8      3580\n",
       "less1    2093\n",
       "gt8      1285\n",
       "never     220\n",
       "Name: count, dtype: int64"
      ]
     },
     "execution_count": 818,
     "metadata": {},
     "output_type": "execute_result"
    }
   ],
   "source": [
    "data['RestaurantLessThan20'].value_counts()"
   ]
  },
  {
   "cell_type": "code",
   "execution_count": 819,
   "metadata": {},
   "outputs": [
    {
     "data": {
      "text/plain": [
       "Restaurant20To50\n",
       "less1    6077\n",
       "1~3      3290\n",
       "never    2136\n",
       "4~8       728\n",
       "gt8       264\n",
       "Name: count, dtype: int64"
      ]
     },
     "execution_count": 819,
     "metadata": {},
     "output_type": "execute_result"
    }
   ],
   "source": [
    "data['Restaurant20To50'].value_counts()"
   ]
  },
  {
   "cell_type": "code",
   "execution_count": 820,
   "metadata": {},
   "outputs": [
    {
     "data": {
      "text/plain": [
       "toCoupon_GEQ5min\n",
       "1    12684\n",
       "Name: count, dtype: int64"
      ]
     },
     "execution_count": 820,
     "metadata": {},
     "output_type": "execute_result"
    }
   ],
   "source": [
    "data['toCoupon_GEQ5min'].value_counts()"
   ]
  },
  {
   "cell_type": "code",
   "execution_count": 821,
   "metadata": {},
   "outputs": [
    {
     "data": {
      "text/plain": [
       "toCoupon_GEQ15min\n",
       "1    7122\n",
       "0    5562\n",
       "Name: count, dtype: int64"
      ]
     },
     "execution_count": 821,
     "metadata": {},
     "output_type": "execute_result"
    }
   ],
   "source": [
    "data['toCoupon_GEQ15min'].value_counts()"
   ]
  },
  {
   "cell_type": "code",
   "execution_count": 822,
   "metadata": {},
   "outputs": [
    {
     "data": {
      "text/plain": [
       "toCoupon_GEQ25min\n",
       "0    11173\n",
       "1     1511\n",
       "Name: count, dtype: int64"
      ]
     },
     "execution_count": 822,
     "metadata": {},
     "output_type": "execute_result"
    }
   ],
   "source": [
    "data['toCoupon_GEQ25min'].value_counts()"
   ]
  },
  {
   "cell_type": "code",
   "execution_count": 823,
   "metadata": {},
   "outputs": [
    {
     "data": {
      "text/plain": [
       "direction_same\n",
       "0    9960\n",
       "1    2724\n",
       "Name: count, dtype: int64"
      ]
     },
     "execution_count": 823,
     "metadata": {},
     "output_type": "execute_result"
    }
   ],
   "source": [
    "data['direction_same'].value_counts()"
   ]
  },
  {
   "cell_type": "code",
   "execution_count": 824,
   "metadata": {},
   "outputs": [
    {
     "data": {
      "text/plain": [
       "direction_opp\n",
       "1    9960\n",
       "0    2724\n",
       "Name: count, dtype: int64"
      ]
     },
     "execution_count": 824,
     "metadata": {},
     "output_type": "execute_result"
    }
   ],
   "source": [
    "data['direction_opp'].value_counts()"
   ]
  },
  {
   "cell_type": "code",
   "execution_count": 825,
   "metadata": {},
   "outputs": [
    {
     "data": {
      "text/plain": [
       "Y\n",
       "1    7210\n",
       "0    5474\n",
       "Name: count, dtype: int64"
      ]
     },
     "execution_count": 825,
     "metadata": {},
     "output_type": "execute_result"
    }
   ],
   "source": [
    "data['Y'].value_counts()"
   ]
  },
  {
   "cell_type": "markdown",
   "metadata": {},
   "source": [
    "*Data don't look problematic*"
   ]
  },
  {
   "cell_type": "code",
   "execution_count": 826,
   "metadata": {},
   "outputs": [
    {
     "name": "stdout",
     "output_type": "stream",
     "text": [
      "destination                 0\n",
      "passanger                   0\n",
      "weather                     0\n",
      "temperature                 0\n",
      "time                        0\n",
      "coupon                      0\n",
      "expiration                  0\n",
      "gender                      0\n",
      "age                         0\n",
      "maritalStatus               0\n",
      "has_children                0\n",
      "education                   0\n",
      "occupation                  0\n",
      "income                      0\n",
      "car                     12576\n",
      "Bar                       107\n",
      "CoffeeHouse               217\n",
      "CarryAway                 151\n",
      "RestaurantLessThan20      130\n",
      "Restaurant20To50          189\n",
      "toCoupon_GEQ5min            0\n",
      "toCoupon_GEQ15min           0\n",
      "toCoupon_GEQ25min           0\n",
      "direction_same              0\n",
      "direction_opp               0\n",
      "Y                           0\n",
      "dtype: int64\n"
     ]
    }
   ],
   "source": [
    "# Count missing values in each column\n",
    "missing_data_count = data.isnull().sum()\n",
    "print(missing_data_count)"
   ]
  },
  {
   "cell_type": "markdown",
   "metadata": {},
   "source": [
    "*There is missing data on user's car, and user's habits on food*"
   ]
  },
  {
   "cell_type": "markdown",
   "metadata": {},
   "source": [
    "# Data cleaning & Preprocessnig\n",
    "\n",
    "3. Decide what to do about your missing data -- drop, replace, other..."
   ]
  },
  {
   "cell_type": "markdown",
   "metadata": {},
   "source": [
    "As there is 12684 rows in total, the column `car` with 12576 won't be used, because there is too few filled.\n",
    "\n",
    "Because, I don't want to remove lines from the dataset, I choose to add an \"Unknown\" category when we have no data on the other columns."
   ]
  },
  {
   "cell_type": "code",
   "execution_count": 827,
   "metadata": {},
   "outputs": [
    {
     "data": {
      "text/html": [
       "<div>\n",
       "<style scoped>\n",
       "    .dataframe tbody tr th:only-of-type {\n",
       "        vertical-align: middle;\n",
       "    }\n",
       "\n",
       "    .dataframe tbody tr th {\n",
       "        vertical-align: top;\n",
       "    }\n",
       "\n",
       "    .dataframe thead th {\n",
       "        text-align: right;\n",
       "    }\n",
       "</style>\n",
       "<table border=\"1\" class=\"dataframe\">\n",
       "  <thead>\n",
       "    <tr style=\"text-align: right;\">\n",
       "      <th></th>\n",
       "      <th>destination</th>\n",
       "      <th>passenger</th>\n",
       "      <th>weather</th>\n",
       "      <th>temperature</th>\n",
       "      <th>time</th>\n",
       "      <th>coupon</th>\n",
       "      <th>expiration</th>\n",
       "      <th>gender</th>\n",
       "      <th>age</th>\n",
       "      <th>maritalStatus</th>\n",
       "      <th>...</th>\n",
       "      <th>Bar</th>\n",
       "      <th>CoffeeHouse</th>\n",
       "      <th>CarryAway</th>\n",
       "      <th>RestaurantLessThan20</th>\n",
       "      <th>Restaurant20To50</th>\n",
       "      <th>toCoupon_GEQ5min</th>\n",
       "      <th>toCoupon_GEQ15min</th>\n",
       "      <th>toCoupon_GEQ25min</th>\n",
       "      <th>Y</th>\n",
       "      <th>direction</th>\n",
       "    </tr>\n",
       "  </thead>\n",
       "  <tbody>\n",
       "    <tr>\n",
       "      <th>0</th>\n",
       "      <td>No Urgent Place</td>\n",
       "      <td>Alone</td>\n",
       "      <td>Sunny</td>\n",
       "      <td>55</td>\n",
       "      <td>2PM</td>\n",
       "      <td>Restaurant(&lt;20)</td>\n",
       "      <td>1d</td>\n",
       "      <td>Female</td>\n",
       "      <td>21</td>\n",
       "      <td>Unmarried partner</td>\n",
       "      <td>...</td>\n",
       "      <td>never</td>\n",
       "      <td>never</td>\n",
       "      <td>Unknown</td>\n",
       "      <td>4~8</td>\n",
       "      <td>1~3</td>\n",
       "      <td>1</td>\n",
       "      <td>0</td>\n",
       "      <td>0</td>\n",
       "      <td>Accepted</td>\n",
       "      <td>opposite</td>\n",
       "    </tr>\n",
       "    <tr>\n",
       "      <th>1</th>\n",
       "      <td>No Urgent Place</td>\n",
       "      <td>Friend(s)</td>\n",
       "      <td>Sunny</td>\n",
       "      <td>80</td>\n",
       "      <td>10AM</td>\n",
       "      <td>Coffee House</td>\n",
       "      <td>2h</td>\n",
       "      <td>Female</td>\n",
       "      <td>21</td>\n",
       "      <td>Unmarried partner</td>\n",
       "      <td>...</td>\n",
       "      <td>never</td>\n",
       "      <td>never</td>\n",
       "      <td>Unknown</td>\n",
       "      <td>4~8</td>\n",
       "      <td>1~3</td>\n",
       "      <td>1</td>\n",
       "      <td>0</td>\n",
       "      <td>0</td>\n",
       "      <td>Rejected</td>\n",
       "      <td>opposite</td>\n",
       "    </tr>\n",
       "    <tr>\n",
       "      <th>2</th>\n",
       "      <td>No Urgent Place</td>\n",
       "      <td>Friend(s)</td>\n",
       "      <td>Sunny</td>\n",
       "      <td>80</td>\n",
       "      <td>10AM</td>\n",
       "      <td>Carry out &amp; Take away</td>\n",
       "      <td>2h</td>\n",
       "      <td>Female</td>\n",
       "      <td>21</td>\n",
       "      <td>Unmarried partner</td>\n",
       "      <td>...</td>\n",
       "      <td>never</td>\n",
       "      <td>never</td>\n",
       "      <td>Unknown</td>\n",
       "      <td>4~8</td>\n",
       "      <td>1~3</td>\n",
       "      <td>1</td>\n",
       "      <td>1</td>\n",
       "      <td>0</td>\n",
       "      <td>Accepted</td>\n",
       "      <td>opposite</td>\n",
       "    </tr>\n",
       "    <tr>\n",
       "      <th>3</th>\n",
       "      <td>No Urgent Place</td>\n",
       "      <td>Friend(s)</td>\n",
       "      <td>Sunny</td>\n",
       "      <td>80</td>\n",
       "      <td>2PM</td>\n",
       "      <td>Coffee House</td>\n",
       "      <td>2h</td>\n",
       "      <td>Female</td>\n",
       "      <td>21</td>\n",
       "      <td>Unmarried partner</td>\n",
       "      <td>...</td>\n",
       "      <td>never</td>\n",
       "      <td>never</td>\n",
       "      <td>Unknown</td>\n",
       "      <td>4~8</td>\n",
       "      <td>1~3</td>\n",
       "      <td>1</td>\n",
       "      <td>1</td>\n",
       "      <td>0</td>\n",
       "      <td>Rejected</td>\n",
       "      <td>opposite</td>\n",
       "    </tr>\n",
       "    <tr>\n",
       "      <th>4</th>\n",
       "      <td>No Urgent Place</td>\n",
       "      <td>Friend(s)</td>\n",
       "      <td>Sunny</td>\n",
       "      <td>80</td>\n",
       "      <td>2PM</td>\n",
       "      <td>Coffee House</td>\n",
       "      <td>1d</td>\n",
       "      <td>Female</td>\n",
       "      <td>21</td>\n",
       "      <td>Unmarried partner</td>\n",
       "      <td>...</td>\n",
       "      <td>never</td>\n",
       "      <td>never</td>\n",
       "      <td>Unknown</td>\n",
       "      <td>4~8</td>\n",
       "      <td>1~3</td>\n",
       "      <td>1</td>\n",
       "      <td>1</td>\n",
       "      <td>0</td>\n",
       "      <td>Rejected</td>\n",
       "      <td>opposite</td>\n",
       "    </tr>\n",
       "    <tr>\n",
       "      <th>...</th>\n",
       "      <td>...</td>\n",
       "      <td>...</td>\n",
       "      <td>...</td>\n",
       "      <td>...</td>\n",
       "      <td>...</td>\n",
       "      <td>...</td>\n",
       "      <td>...</td>\n",
       "      <td>...</td>\n",
       "      <td>...</td>\n",
       "      <td>...</td>\n",
       "      <td>...</td>\n",
       "      <td>...</td>\n",
       "      <td>...</td>\n",
       "      <td>...</td>\n",
       "      <td>...</td>\n",
       "      <td>...</td>\n",
       "      <td>...</td>\n",
       "      <td>...</td>\n",
       "      <td>...</td>\n",
       "      <td>...</td>\n",
       "      <td>...</td>\n",
       "    </tr>\n",
       "    <tr>\n",
       "      <th>12679</th>\n",
       "      <td>Home</td>\n",
       "      <td>Partner</td>\n",
       "      <td>Rainy</td>\n",
       "      <td>55</td>\n",
       "      <td>6PM</td>\n",
       "      <td>Carry out &amp; Take away</td>\n",
       "      <td>1d</td>\n",
       "      <td>Male</td>\n",
       "      <td>26</td>\n",
       "      <td>Single</td>\n",
       "      <td>...</td>\n",
       "      <td>never</td>\n",
       "      <td>never</td>\n",
       "      <td>1~3</td>\n",
       "      <td>4~8</td>\n",
       "      <td>1~3</td>\n",
       "      <td>1</td>\n",
       "      <td>0</td>\n",
       "      <td>0</td>\n",
       "      <td>Accepted</td>\n",
       "      <td>same</td>\n",
       "    </tr>\n",
       "    <tr>\n",
       "      <th>12680</th>\n",
       "      <td>Work</td>\n",
       "      <td>Alone</td>\n",
       "      <td>Rainy</td>\n",
       "      <td>55</td>\n",
       "      <td>7AM</td>\n",
       "      <td>Carry out &amp; Take away</td>\n",
       "      <td>1d</td>\n",
       "      <td>Male</td>\n",
       "      <td>26</td>\n",
       "      <td>Single</td>\n",
       "      <td>...</td>\n",
       "      <td>never</td>\n",
       "      <td>never</td>\n",
       "      <td>1~3</td>\n",
       "      <td>4~8</td>\n",
       "      <td>1~3</td>\n",
       "      <td>1</td>\n",
       "      <td>0</td>\n",
       "      <td>0</td>\n",
       "      <td>Accepted</td>\n",
       "      <td>opposite</td>\n",
       "    </tr>\n",
       "    <tr>\n",
       "      <th>12681</th>\n",
       "      <td>Work</td>\n",
       "      <td>Alone</td>\n",
       "      <td>Snowy</td>\n",
       "      <td>30</td>\n",
       "      <td>7AM</td>\n",
       "      <td>Coffee House</td>\n",
       "      <td>1d</td>\n",
       "      <td>Male</td>\n",
       "      <td>26</td>\n",
       "      <td>Single</td>\n",
       "      <td>...</td>\n",
       "      <td>never</td>\n",
       "      <td>never</td>\n",
       "      <td>1~3</td>\n",
       "      <td>4~8</td>\n",
       "      <td>1~3</td>\n",
       "      <td>1</td>\n",
       "      <td>0</td>\n",
       "      <td>0</td>\n",
       "      <td>Rejected</td>\n",
       "      <td>same</td>\n",
       "    </tr>\n",
       "    <tr>\n",
       "      <th>12682</th>\n",
       "      <td>Work</td>\n",
       "      <td>Alone</td>\n",
       "      <td>Snowy</td>\n",
       "      <td>30</td>\n",
       "      <td>7AM</td>\n",
       "      <td>Bar</td>\n",
       "      <td>1d</td>\n",
       "      <td>Male</td>\n",
       "      <td>26</td>\n",
       "      <td>Single</td>\n",
       "      <td>...</td>\n",
       "      <td>never</td>\n",
       "      <td>never</td>\n",
       "      <td>1~3</td>\n",
       "      <td>4~8</td>\n",
       "      <td>1~3</td>\n",
       "      <td>1</td>\n",
       "      <td>1</td>\n",
       "      <td>1</td>\n",
       "      <td>Rejected</td>\n",
       "      <td>opposite</td>\n",
       "    </tr>\n",
       "    <tr>\n",
       "      <th>12683</th>\n",
       "      <td>Work</td>\n",
       "      <td>Alone</td>\n",
       "      <td>Sunny</td>\n",
       "      <td>80</td>\n",
       "      <td>7AM</td>\n",
       "      <td>Restaurant(20-50)</td>\n",
       "      <td>2h</td>\n",
       "      <td>Male</td>\n",
       "      <td>26</td>\n",
       "      <td>Single</td>\n",
       "      <td>...</td>\n",
       "      <td>never</td>\n",
       "      <td>never</td>\n",
       "      <td>1~3</td>\n",
       "      <td>4~8</td>\n",
       "      <td>1~3</td>\n",
       "      <td>1</td>\n",
       "      <td>0</td>\n",
       "      <td>0</td>\n",
       "      <td>Rejected</td>\n",
       "      <td>same</td>\n",
       "    </tr>\n",
       "  </tbody>\n",
       "</table>\n",
       "<p>12684 rows × 24 columns</p>\n",
       "</div>"
      ],
      "text/plain": [
       "           destination  passenger weather  temperature  time  \\\n",
       "0      No Urgent Place      Alone   Sunny           55   2PM   \n",
       "1      No Urgent Place  Friend(s)   Sunny           80  10AM   \n",
       "2      No Urgent Place  Friend(s)   Sunny           80  10AM   \n",
       "3      No Urgent Place  Friend(s)   Sunny           80   2PM   \n",
       "4      No Urgent Place  Friend(s)   Sunny           80   2PM   \n",
       "...                ...        ...     ...          ...   ...   \n",
       "12679             Home    Partner   Rainy           55   6PM   \n",
       "12680             Work      Alone   Rainy           55   7AM   \n",
       "12681             Work      Alone   Snowy           30   7AM   \n",
       "12682             Work      Alone   Snowy           30   7AM   \n",
       "12683             Work      Alone   Sunny           80   7AM   \n",
       "\n",
       "                      coupon expiration  gender age      maritalStatus  ...  \\\n",
       "0            Restaurant(<20)         1d  Female  21  Unmarried partner  ...   \n",
       "1               Coffee House         2h  Female  21  Unmarried partner  ...   \n",
       "2      Carry out & Take away         2h  Female  21  Unmarried partner  ...   \n",
       "3               Coffee House         2h  Female  21  Unmarried partner  ...   \n",
       "4               Coffee House         1d  Female  21  Unmarried partner  ...   \n",
       "...                      ...        ...     ...  ..                ...  ...   \n",
       "12679  Carry out & Take away         1d    Male  26             Single  ...   \n",
       "12680  Carry out & Take away         1d    Male  26             Single  ...   \n",
       "12681           Coffee House         1d    Male  26             Single  ...   \n",
       "12682                    Bar         1d    Male  26             Single  ...   \n",
       "12683      Restaurant(20-50)         2h    Male  26             Single  ...   \n",
       "\n",
       "         Bar CoffeeHouse CarryAway RestaurantLessThan20 Restaurant20To50  \\\n",
       "0      never       never   Unknown                  4~8              1~3   \n",
       "1      never       never   Unknown                  4~8              1~3   \n",
       "2      never       never   Unknown                  4~8              1~3   \n",
       "3      never       never   Unknown                  4~8              1~3   \n",
       "4      never       never   Unknown                  4~8              1~3   \n",
       "...      ...         ...       ...                  ...              ...   \n",
       "12679  never       never       1~3                  4~8              1~3   \n",
       "12680  never       never       1~3                  4~8              1~3   \n",
       "12681  never       never       1~3                  4~8              1~3   \n",
       "12682  never       never       1~3                  4~8              1~3   \n",
       "12683  never       never       1~3                  4~8              1~3   \n",
       "\n",
       "      toCoupon_GEQ5min toCoupon_GEQ15min toCoupon_GEQ25min         Y  \\\n",
       "0                    1                 0                 0  Accepted   \n",
       "1                    1                 0                 0  Rejected   \n",
       "2                    1                 1                 0  Accepted   \n",
       "3                    1                 1                 0  Rejected   \n",
       "4                    1                 1                 0  Rejected   \n",
       "...                ...               ...               ...       ...   \n",
       "12679                1                 0                 0  Accepted   \n",
       "12680                1                 0                 0  Accepted   \n",
       "12681                1                 0                 0  Rejected   \n",
       "12682                1                 1                 1  Rejected   \n",
       "12683                1                 0                 0  Rejected   \n",
       "\n",
       "       direction  \n",
       "0       opposite  \n",
       "1       opposite  \n",
       "2       opposite  \n",
       "3       opposite  \n",
       "4       opposite  \n",
       "...          ...  \n",
       "12679       same  \n",
       "12680   opposite  \n",
       "12681       same  \n",
       "12682   opposite  \n",
       "12683       same  \n",
       "\n",
       "[12684 rows x 24 columns]"
      ]
     },
     "execution_count": 827,
     "metadata": {},
     "output_type": "execute_result"
    }
   ],
   "source": [
    "# deletion of the useless column car\n",
    "data = data.drop('car', axis=1)\n",
    "# renaming empty value by Unknown\n",
    "data = data.fillna('Unknown')\n",
    "# renaming of values and columns for clarity and ease of use\n",
    "data['Y'] = data['Y'].replace(1, \"Accepted\")\n",
    "data['Y'] = data['Y'].replace(0, \"Rejected\")\n",
    "data['direction'] = data['direction_same'].replace(0, \"opposite\")\n",
    "data['direction'] = data['direction'].replace(1, \"same\")\n",
    "data.rename(columns={'passanger': 'passenger'}, inplace=True)\n",
    "# deletion of useless column\n",
    "data = data.drop(columns=['direction_opp'])\n",
    "data = data.drop(columns=['direction_same'])\n",
    "data"
   ]
  },
  {
   "cell_type": "markdown",
   "metadata": {},
   "source": [
    "Saving the preprocessed data into a new csv"
   ]
  },
  {
   "cell_type": "code",
   "execution_count": 828,
   "metadata": {},
   "outputs": [],
   "source": [
    "data.to_csv('data/cleaned_coupons.csv', index=False)"
   ]
  },
  {
   "cell_type": "markdown",
   "metadata": {},
   "source": [
    "# Exploratory data analysis\n",
    "\n",
    "## Global exploration\n",
    "\n",
    "4. What proportion of the total observations chose to accept the coupon? "
   ]
  },
  {
   "cell_type": "code",
   "execution_count": 829,
   "metadata": {},
   "outputs": [
    {
     "name": "stdout",
     "output_type": "stream",
     "text": [
      "Proportion of customers who accepted the coupon: 56.84%\n"
     ]
    }
   ],
   "source": [
    "# Count the occurrences of each unique value in the 'Y' column\n",
    "acceptance_counts = data[data['Y'] == 'Accepted'].shape[0]\n",
    "\n",
    "# Calculate the proportion of customers who accepted the coupon (Y = 1)\n",
    "proportion_accepted = acceptance_counts / len(data)\n",
    "\n",
    "print(f\"Proportion of customers who accepted the coupon: {proportion_accepted:.2%}\")"
   ]
  },
  {
   "cell_type": "markdown",
   "metadata": {},
   "source": [
    "5. Use a bar plot to visualize the `coupon` column."
   ]
  },
  {
   "cell_type": "code",
   "execution_count": 830,
   "metadata": {},
   "outputs": [
    {
     "data": {
      "image/png": "[encoded data removed]",
      "text/plain": [
       "<Figure size 800x600 with 1 Axes>"
      ]
     },
     "metadata": {},
     "output_type": "display_data"
    }
   ],
   "source": [
    "# Build the bar plot with Seaborn\n",
    "plt.figure(figsize=(8, 6))\n",
    "sns.countplot(data=data.sort_values('coupon'), x='coupon', hue='Y')\n",
    "\n",
    "# Update titles and labels\n",
    "plt.title('Distribution of Coupon acceptance by type of coupon')\n",
    "plt.xlabel('Coupon Type')\n",
    "plt.ylabel('Count')\n",
    "\n",
    "# Change the legend labels\n",
    "plt.legend(title='')\n",
    "\n",
    "# Rotate x-axis labels by 45 degrees\n",
    "plt.xticks(rotation=45)\n",
    "\n",
    "# Display the plot\n",
    "plt.show()"
   ]
  },
  {
   "cell_type": "markdown",
   "metadata": {},
   "source": [
    "6. Use a histogram to visualize the temperature column."
   ]
  },
  {
   "cell_type": "code",
   "execution_count": 831,
   "metadata": {},
   "outputs": [
    {
     "data": {
      "image/png": "[encoded data removed]",
      "text/plain": [
       "<Figure size 800x600 with 1 Axes>"
      ]
     },
     "metadata": {},
     "output_type": "display_data"
    }
   ],
   "source": [
    "# Build the histogram plot with Seaborn\n",
    "plt.figure(figsize=(8, 6))\n",
    "sns.histplot(data=data, x='temperature', hue='Y', multiple='stack')\n",
    "\n",
    "# Update titles and labels\n",
    "plt.title('Distribution of Coupon acceptance by temperature')\n",
    "plt.xlabel('Temperature')\n",
    "plt.ylabel('Count')\n",
    "\n",
    "# Change the legend labels\n",
    "plt.legend(title='', labels=['Rejected', 'Accepted'])\n",
    "\n",
    "# Display the plot\n",
    "plt.show()"
   ]
  },
  {
   "cell_type": "markdown",
   "metadata": {},
   "source": [
    "## Investigating the Bar Coupons\n",
    "\n",
    "Now, we will lead you through an exploration of just the bar related coupons.  \n",
    "\n",
    "1. Create a new `DataFrame` that contains just the bar coupons.\n"
   ]
  },
  {
   "cell_type": "code",
   "execution_count": 832,
   "metadata": {},
   "outputs": [
    {
     "data": {
      "text/html": [
       "<div>\n",
       "<style scoped>\n",
       "    .dataframe tbody tr th:only-of-type {\n",
       "        vertical-align: middle;\n",
       "    }\n",
       "\n",
       "    .dataframe tbody tr th {\n",
       "        vertical-align: top;\n",
       "    }\n",
       "\n",
       "    .dataframe thead th {\n",
       "        text-align: right;\n",
       "    }\n",
       "</style>\n",
       "<table border=\"1\" class=\"dataframe\">\n",
       "  <thead>\n",
       "    <tr style=\"text-align: right;\">\n",
       "      <th></th>\n",
       "      <th>destination</th>\n",
       "      <th>passenger</th>\n",
       "      <th>weather</th>\n",
       "      <th>temperature</th>\n",
       "      <th>time</th>\n",
       "      <th>coupon</th>\n",
       "      <th>expiration</th>\n",
       "      <th>gender</th>\n",
       "      <th>age</th>\n",
       "      <th>maritalStatus</th>\n",
       "      <th>...</th>\n",
       "      <th>Bar</th>\n",
       "      <th>CoffeeHouse</th>\n",
       "      <th>CarryAway</th>\n",
       "      <th>RestaurantLessThan20</th>\n",
       "      <th>Restaurant20To50</th>\n",
       "      <th>toCoupon_GEQ5min</th>\n",
       "      <th>toCoupon_GEQ15min</th>\n",
       "      <th>toCoupon_GEQ25min</th>\n",
       "      <th>Y</th>\n",
       "      <th>direction</th>\n",
       "    </tr>\n",
       "  </thead>\n",
       "  <tbody>\n",
       "    <tr>\n",
       "      <th>9</th>\n",
       "      <td>No Urgent Place</td>\n",
       "      <td>Kid(s)</td>\n",
       "      <td>Sunny</td>\n",
       "      <td>80</td>\n",
       "      <td>10AM</td>\n",
       "      <td>Bar</td>\n",
       "      <td>1d</td>\n",
       "      <td>Female</td>\n",
       "      <td>21</td>\n",
       "      <td>Unmarried partner</td>\n",
       "      <td>...</td>\n",
       "      <td>never</td>\n",
       "      <td>never</td>\n",
       "      <td>Unknown</td>\n",
       "      <td>4~8</td>\n",
       "      <td>1~3</td>\n",
       "      <td>1</td>\n",
       "      <td>1</td>\n",
       "      <td>0</td>\n",
       "      <td>Rejected</td>\n",
       "      <td>opposite</td>\n",
       "    </tr>\n",
       "    <tr>\n",
       "      <th>13</th>\n",
       "      <td>Home</td>\n",
       "      <td>Alone</td>\n",
       "      <td>Sunny</td>\n",
       "      <td>55</td>\n",
       "      <td>6PM</td>\n",
       "      <td>Bar</td>\n",
       "      <td>1d</td>\n",
       "      <td>Female</td>\n",
       "      <td>21</td>\n",
       "      <td>Unmarried partner</td>\n",
       "      <td>...</td>\n",
       "      <td>never</td>\n",
       "      <td>never</td>\n",
       "      <td>Unknown</td>\n",
       "      <td>4~8</td>\n",
       "      <td>1~3</td>\n",
       "      <td>1</td>\n",
       "      <td>0</td>\n",
       "      <td>0</td>\n",
       "      <td>Accepted</td>\n",
       "      <td>same</td>\n",
       "    </tr>\n",
       "    <tr>\n",
       "      <th>17</th>\n",
       "      <td>Work</td>\n",
       "      <td>Alone</td>\n",
       "      <td>Sunny</td>\n",
       "      <td>55</td>\n",
       "      <td>7AM</td>\n",
       "      <td>Bar</td>\n",
       "      <td>1d</td>\n",
       "      <td>Female</td>\n",
       "      <td>21</td>\n",
       "      <td>Unmarried partner</td>\n",
       "      <td>...</td>\n",
       "      <td>never</td>\n",
       "      <td>never</td>\n",
       "      <td>Unknown</td>\n",
       "      <td>4~8</td>\n",
       "      <td>1~3</td>\n",
       "      <td>1</td>\n",
       "      <td>1</td>\n",
       "      <td>1</td>\n",
       "      <td>Rejected</td>\n",
       "      <td>opposite</td>\n",
       "    </tr>\n",
       "    <tr>\n",
       "      <th>24</th>\n",
       "      <td>No Urgent Place</td>\n",
       "      <td>Friend(s)</td>\n",
       "      <td>Sunny</td>\n",
       "      <td>80</td>\n",
       "      <td>10AM</td>\n",
       "      <td>Bar</td>\n",
       "      <td>1d</td>\n",
       "      <td>Male</td>\n",
       "      <td>21</td>\n",
       "      <td>Single</td>\n",
       "      <td>...</td>\n",
       "      <td>never</td>\n",
       "      <td>less1</td>\n",
       "      <td>4~8</td>\n",
       "      <td>4~8</td>\n",
       "      <td>less1</td>\n",
       "      <td>1</td>\n",
       "      <td>0</td>\n",
       "      <td>0</td>\n",
       "      <td>Accepted</td>\n",
       "      <td>opposite</td>\n",
       "    </tr>\n",
       "    <tr>\n",
       "      <th>35</th>\n",
       "      <td>Home</td>\n",
       "      <td>Alone</td>\n",
       "      <td>Sunny</td>\n",
       "      <td>55</td>\n",
       "      <td>6PM</td>\n",
       "      <td>Bar</td>\n",
       "      <td>1d</td>\n",
       "      <td>Male</td>\n",
       "      <td>21</td>\n",
       "      <td>Single</td>\n",
       "      <td>...</td>\n",
       "      <td>never</td>\n",
       "      <td>less1</td>\n",
       "      <td>4~8</td>\n",
       "      <td>4~8</td>\n",
       "      <td>less1</td>\n",
       "      <td>1</td>\n",
       "      <td>0</td>\n",
       "      <td>0</td>\n",
       "      <td>Accepted</td>\n",
       "      <td>same</td>\n",
       "    </tr>\n",
       "    <tr>\n",
       "      <th>...</th>\n",
       "      <td>...</td>\n",
       "      <td>...</td>\n",
       "      <td>...</td>\n",
       "      <td>...</td>\n",
       "      <td>...</td>\n",
       "      <td>...</td>\n",
       "      <td>...</td>\n",
       "      <td>...</td>\n",
       "      <td>...</td>\n",
       "      <td>...</td>\n",
       "      <td>...</td>\n",
       "      <td>...</td>\n",
       "      <td>...</td>\n",
       "      <td>...</td>\n",
       "      <td>...</td>\n",
       "      <td>...</td>\n",
       "      <td>...</td>\n",
       "      <td>...</td>\n",
       "      <td>...</td>\n",
       "      <td>...</td>\n",
       "      <td>...</td>\n",
       "    </tr>\n",
       "    <tr>\n",
       "      <th>12663</th>\n",
       "      <td>No Urgent Place</td>\n",
       "      <td>Friend(s)</td>\n",
       "      <td>Sunny</td>\n",
       "      <td>80</td>\n",
       "      <td>10PM</td>\n",
       "      <td>Bar</td>\n",
       "      <td>1d</td>\n",
       "      <td>Male</td>\n",
       "      <td>26</td>\n",
       "      <td>Single</td>\n",
       "      <td>...</td>\n",
       "      <td>never</td>\n",
       "      <td>never</td>\n",
       "      <td>1~3</td>\n",
       "      <td>4~8</td>\n",
       "      <td>1~3</td>\n",
       "      <td>1</td>\n",
       "      <td>1</td>\n",
       "      <td>0</td>\n",
       "      <td>Rejected</td>\n",
       "      <td>opposite</td>\n",
       "    </tr>\n",
       "    <tr>\n",
       "      <th>12664</th>\n",
       "      <td>No Urgent Place</td>\n",
       "      <td>Friend(s)</td>\n",
       "      <td>Sunny</td>\n",
       "      <td>55</td>\n",
       "      <td>10PM</td>\n",
       "      <td>Bar</td>\n",
       "      <td>2h</td>\n",
       "      <td>Male</td>\n",
       "      <td>26</td>\n",
       "      <td>Single</td>\n",
       "      <td>...</td>\n",
       "      <td>never</td>\n",
       "      <td>never</td>\n",
       "      <td>1~3</td>\n",
       "      <td>4~8</td>\n",
       "      <td>1~3</td>\n",
       "      <td>1</td>\n",
       "      <td>1</td>\n",
       "      <td>0</td>\n",
       "      <td>Rejected</td>\n",
       "      <td>opposite</td>\n",
       "    </tr>\n",
       "    <tr>\n",
       "      <th>12667</th>\n",
       "      <td>No Urgent Place</td>\n",
       "      <td>Alone</td>\n",
       "      <td>Rainy</td>\n",
       "      <td>55</td>\n",
       "      <td>10AM</td>\n",
       "      <td>Bar</td>\n",
       "      <td>1d</td>\n",
       "      <td>Male</td>\n",
       "      <td>26</td>\n",
       "      <td>Single</td>\n",
       "      <td>...</td>\n",
       "      <td>never</td>\n",
       "      <td>never</td>\n",
       "      <td>1~3</td>\n",
       "      <td>4~8</td>\n",
       "      <td>1~3</td>\n",
       "      <td>1</td>\n",
       "      <td>1</td>\n",
       "      <td>0</td>\n",
       "      <td>Rejected</td>\n",
       "      <td>opposite</td>\n",
       "    </tr>\n",
       "    <tr>\n",
       "      <th>12670</th>\n",
       "      <td>No Urgent Place</td>\n",
       "      <td>Partner</td>\n",
       "      <td>Rainy</td>\n",
       "      <td>55</td>\n",
       "      <td>6PM</td>\n",
       "      <td>Bar</td>\n",
       "      <td>2h</td>\n",
       "      <td>Male</td>\n",
       "      <td>26</td>\n",
       "      <td>Single</td>\n",
       "      <td>...</td>\n",
       "      <td>never</td>\n",
       "      <td>never</td>\n",
       "      <td>1~3</td>\n",
       "      <td>4~8</td>\n",
       "      <td>1~3</td>\n",
       "      <td>1</td>\n",
       "      <td>1</td>\n",
       "      <td>0</td>\n",
       "      <td>Rejected</td>\n",
       "      <td>opposite</td>\n",
       "    </tr>\n",
       "    <tr>\n",
       "      <th>12682</th>\n",
       "      <td>Work</td>\n",
       "      <td>Alone</td>\n",
       "      <td>Snowy</td>\n",
       "      <td>30</td>\n",
       "      <td>7AM</td>\n",
       "      <td>Bar</td>\n",
       "      <td>1d</td>\n",
       "      <td>Male</td>\n",
       "      <td>26</td>\n",
       "      <td>Single</td>\n",
       "      <td>...</td>\n",
       "      <td>never</td>\n",
       "      <td>never</td>\n",
       "      <td>1~3</td>\n",
       "      <td>4~8</td>\n",
       "      <td>1~3</td>\n",
       "      <td>1</td>\n",
       "      <td>1</td>\n",
       "      <td>1</td>\n",
       "      <td>Rejected</td>\n",
       "      <td>opposite</td>\n",
       "    </tr>\n",
       "  </tbody>\n",
       "</table>\n",
       "<p>2017 rows × 24 columns</p>\n",
       "</div>"
      ],
      "text/plain": [
       "           destination  passenger weather  temperature  time coupon  \\\n",
       "9      No Urgent Place     Kid(s)   Sunny           80  10AM    Bar   \n",
       "13                Home      Alone   Sunny           55   6PM    Bar   \n",
       "17                Work      Alone   Sunny           55   7AM    Bar   \n",
       "24     No Urgent Place  Friend(s)   Sunny           80  10AM    Bar   \n",
       "35                Home      Alone   Sunny           55   6PM    Bar   \n",
       "...                ...        ...     ...          ...   ...    ...   \n",
       "12663  No Urgent Place  Friend(s)   Sunny           80  10PM    Bar   \n",
       "12664  No Urgent Place  Friend(s)   Sunny           55  10PM    Bar   \n",
       "12667  No Urgent Place      Alone   Rainy           55  10AM    Bar   \n",
       "12670  No Urgent Place    Partner   Rainy           55   6PM    Bar   \n",
       "12682             Work      Alone   Snowy           30   7AM    Bar   \n",
       "\n",
       "      expiration  gender age      maritalStatus  ...    Bar CoffeeHouse  \\\n",
       "9             1d  Female  21  Unmarried partner  ...  never       never   \n",
       "13            1d  Female  21  Unmarried partner  ...  never       never   \n",
       "17            1d  Female  21  Unmarried partner  ...  never       never   \n",
       "24            1d    Male  21             Single  ...  never       less1   \n",
       "35            1d    Male  21             Single  ...  never       less1   \n",
       "...          ...     ...  ..                ...  ...    ...         ...   \n",
       "12663         1d    Male  26             Single  ...  never       never   \n",
       "12664         2h    Male  26             Single  ...  never       never   \n",
       "12667         1d    Male  26             Single  ...  never       never   \n",
       "12670         2h    Male  26             Single  ...  never       never   \n",
       "12682         1d    Male  26             Single  ...  never       never   \n",
       "\n",
       "      CarryAway RestaurantLessThan20 Restaurant20To50 toCoupon_GEQ5min  \\\n",
       "9       Unknown                  4~8              1~3                1   \n",
       "13      Unknown                  4~8              1~3                1   \n",
       "17      Unknown                  4~8              1~3                1   \n",
       "24          4~8                  4~8            less1                1   \n",
       "35          4~8                  4~8            less1                1   \n",
       "...         ...                  ...              ...              ...   \n",
       "12663       1~3                  4~8              1~3                1   \n",
       "12664       1~3                  4~8              1~3                1   \n",
       "12667       1~3                  4~8              1~3                1   \n",
       "12670       1~3                  4~8              1~3                1   \n",
       "12682       1~3                  4~8              1~3                1   \n",
       "\n",
       "      toCoupon_GEQ15min toCoupon_GEQ25min         Y  direction  \n",
       "9                     1                 0  Rejected   opposite  \n",
       "13                    0                 0  Accepted       same  \n",
       "17                    1                 1  Rejected   opposite  \n",
       "24                    0                 0  Accepted   opposite  \n",
       "35                    0                 0  Accepted       same  \n",
       "...                 ...               ...       ...        ...  \n",
       "12663                 1                 0  Rejected   opposite  \n",
       "12664                 1                 0  Rejected   opposite  \n",
       "12667                 1                 0  Rejected   opposite  \n",
       "12670                 1                 0  Rejected   opposite  \n",
       "12682                 1                 1  Rejected   opposite  \n",
       "\n",
       "[2017 rows x 24 columns]"
      ]
     },
     "execution_count": 832,
     "metadata": {},
     "output_type": "execute_result"
    }
   ],
   "source": [
    "bar_df = data.query('coupon == \"Bar\"')\n",
    "bar_df"
   ]
  },
  {
   "cell_type": "markdown",
   "metadata": {},
   "source": [
    "2. What proportion of bar coupons were accepted?\n"
   ]
  },
  {
   "cell_type": "code",
   "execution_count": 833,
   "metadata": {},
   "outputs": [
    {
     "name": "stdout",
     "output_type": "stream",
     "text": [
      "Number of customers who accepted the coupon: 827\n",
      "Total of customers who get the Bar coupon proposed: 2017\n",
      "Proportion of customers who accepted the coupon: 41.00%\n"
     ]
    }
   ],
   "source": [
    "# Count the occurrences of each unique value in the 'Y' column\n",
    "acceptance_counts = (bar_df['Y'] == 'Accepted').sum()\n",
    "print(f\"Number of customers who accepted the coupon: {acceptance_counts}\")\n",
    "print(f\"Total of customers who get the Bar coupon proposed: {len(bar_df)}\")\n",
    "\n",
    "# Calculate the proportion of customers who accepted the coupon (Y = 1)\n",
    "proportion_accepted = acceptance_counts / len(bar_df)\n",
    "\n",
    "print(f\"Proportion of customers who accepted the coupon: {proportion_accepted:.2%}\")"
   ]
  },
  {
   "cell_type": "markdown",
   "metadata": {},
   "source": [
    "### 41% of customers accepted the bar coupon"
   ]
  },
  {
   "cell_type": "markdown",
   "metadata": {},
   "source": [
    "3. Compare the acceptance rate between those who went to a bar 3 or fewer times a month to those who went more.\n"
   ]
  },
  {
   "cell_type": "code",
   "execution_count": 834,
   "metadata": {},
   "outputs": [],
   "source": [
    "# this function calculate the acceptance rate for a specific query and for a specific dataset\n",
    "# and display the result\n",
    "def calculate_acceptance_rate(query, data):\n",
    "    filtered_df = data.query(query)\n",
    "    # Calculate the count of 'Accepted' for the specified conditions\n",
    "    acceptance_counts = (filtered_df['Y'] == 'Accepted').sum()\n",
    "    \n",
    "    # Calculate the total count for the specified conditions \n",
    "    total = len(filtered_df)\n",
    "    \n",
    "    # Calculate the proportion of customers who accepted the coupon (Y = 1) for those \n",
    "    proportion_accepted = acceptance_counts / total\n",
    "    print(f\"Acceptance rate: {proportion_accepted:.1%}\")\n",
    "    return proportion_accepted * 100\n"
   ]
  },
  {
   "cell_type": "code",
   "execution_count": 835,
   "metadata": {},
   "outputs": [
    {
     "name": "stdout",
     "output_type": "stream",
     "text": [
      "Drivers who went to a bar 3 or fewer times a month \n",
      "Acceptance rate: 37.1%\n",
      "\n",
      "Drivers who went to a bar 4 or more times a month \n",
      "Acceptance rate: 76.9%\n"
     ]
    },
    {
     "data": {
      "text/plain": [
       "76.88442211055276"
      ]
     },
     "execution_count": 835,
     "metadata": {},
     "output_type": "execute_result"
    }
   ],
   "source": [
    "print('Drivers who went to a bar 3 or fewer times a month ')\n",
    "fewTimes = {'never', 'less1', '1~3'}\n",
    "calculate_acceptance_rate('Bar in @fewTimes', bar_df)\n",
    "print('')\n",
    "print('Drivers who went to a bar 4 or more times a month ')\n",
    "aLotTimes= {'4~8','gt8'}\n",
    "calculate_acceptance_rate('Bar in @aLotTimes', bar_df)"
   ]
  },
  {
   "cell_type": "markdown",
   "metadata": {},
   "source": [
    "### But only 37% accepted for those who go fewer times to a bar compared to 77% for those who go a lot of times to a bar"
   ]
  },
  {
   "cell_type": "markdown",
   "metadata": {},
   "source": [
    "4. Compare the acceptance rate between drivers who go to a bar more than once a month and are over the age of 25 to the all others.  Is there a difference?\n"
   ]
  },
  {
   "cell_type": "code",
   "execution_count": 836,
   "metadata": {},
   "outputs": [
    {
     "name": "stdout",
     "output_type": "stream",
     "text": [
      "Drivers who go to a bar more than once a month and are over the age of 25 \n",
      "Acceptance rate: 69.5%\n",
      "\n",
      "All other drivers\n",
      "Acceptance rate: 33.5%\n"
     ]
    },
    {
     "data": {
      "text/plain": [
       "33.500313087038194"
      ]
     },
     "execution_count": 836,
     "metadata": {},
     "output_type": "execute_result"
    }
   ],
   "source": [
    "# Custom function to handle '50plus' and 'below21' values in age column of data\n",
    "def age_converter(value):\n",
    "    if value == '50plus':\n",
    "        return 51  # Assuming '50plus' represents more than 50 years old\n",
    "    elif value == 'below21':\n",
    "        return 20  # Assuming 'below21' represents less than 21 years old\n",
    "    else:\n",
    "        return pd.to_numeric(value, errors='coerce')\n",
    "\n",
    "# Apply the custom function to the 'age' column\n",
    "bar_df.loc[:, 'age'] = bar_df['age'].apply(age_converter)\n",
    "\n",
    "print('Drivers who go to a bar more than once a month and are over the age of 25 ')\n",
    "#  Build the query \n",
    "barHabitSelection= {'1~3', '4~8', 'gt8'}\n",
    "query = 'Bar in @barHabitSelection and age > 25'\n",
    "calculate_acceptance_rate(query, bar_df)\n",
    "print('')\n",
    "print('All other drivers')\n",
    "query = '~(' + query + ')'\n",
    "calculate_acceptance_rate(query, bar_df)"
   ]
  },
  {
   "cell_type": "markdown",
   "metadata": {},
   "source": [
    "### The acceptance rate for the drivers who go to a bar MORE than once a month and are OVER the age of 25 is 70% while the acceptance rate for the drivers who go to a bar LESS than once a month or are UNDER the age of 25 is 34%. This is a big difference."
   ]
  },
  {
   "cell_type": "markdown",
   "metadata": {},
   "source": [
    "5. Use the same process to compare the acceptance rate between drivers who go to bars more than once a month and had passengers that were not a kid and had occupations other than farming, fishing, or forestry. \n"
   ]
  },
  {
   "cell_type": "code",
   "execution_count": 837,
   "metadata": {},
   "outputs": [
    {
     "name": "stdout",
     "output_type": "stream",
     "text": [
      "Drivers who go to bars more than once a month and had passengers that were not a kid and had occupations other than farming, fishing, or forestry \n",
      "Acceptance rate: 67.3%\n",
      "\n",
      "All other drivers\n",
      "Acceptance rate: 34.5%\n"
     ]
    },
    {
     "data": {
      "text/plain": [
       "34.46782178217821"
      ]
     },
     "execution_count": 837,
     "metadata": {},
     "output_type": "execute_result"
    }
   ],
   "source": [
    "print('Drivers who go to bars more than once a month and had passengers that were not a kid and had occupations other than farming, fishing, or forestry ')\n",
    "# Build the query\n",
    "barHabitSelection  = {'1~3', '4~8', 'gt8'}\n",
    "passengerSelection = {'Kid(s)', 'Alone'} \n",
    "query = 'Bar in @barHabitSelection and passenger in @passengerSelection and occupation != \"Farming Fishing & Forestry\"'\n",
    "calculate_acceptance_rate(query, bar_df)\n",
    "print('')\n",
    "print('All other drivers')\n",
    "query = '~(' + query + ')'\n",
    "calculate_acceptance_rate(query, bar_df)"
   ]
  },
  {
   "cell_type": "markdown",
   "metadata": {},
   "source": [
    "### The proportion of customers who accepted the coupon and who go to bars MORE than once a month and had passengers that were not a kid and had occupations other than farming, fishing, or forestry is 67.33%\n",
    "### While the proportion of customers who accepted the coupon and who go to bars LESS than once a month or had no passengers or passengers that were kid(s) or had a farming, fishing, or forestry occupation is only 34.47%"
   ]
  },
  {
   "cell_type": "markdown",
   "metadata": {},
   "source": [
    "6. Compare the acceptance rates between those drivers who:\n",
    "\n",
    "- go to bars more than once a month, had passengers that were not a kid, and were not widowed *OR*\n",
    "- go to bars more than once a month and are under the age of 30 *OR*\n",
    "- go to cheap restaurants more than 4 times a month and income is less than 50K. "
   ]
  },
  {
   "cell_type": "code",
   "execution_count": 838,
   "metadata": {},
   "outputs": [
    {
     "name": "stdout",
     "output_type": "stream",
     "text": [
      "Drivers who go to bars more than once a month, had passengers that were not a kid, and were not widowed\n",
      "Acceptance rate: 67.3%\n",
      "All other drivers\n",
      "Acceptance rate: 34.5%\n",
      "\n",
      "Drivers who go to bars more than once a month and are under the age of 30\n",
      "Acceptance rate: 72.2%\n",
      "All other drivers\n",
      "Acceptance rate: 34.6%\n",
      "\n",
      "Drivers who go to cheap restaurants more than 4 times a month and income is less than 50K\n",
      "Acceptance rate: 45.3%\n",
      "All other drivers\n",
      "Acceptance rate: 40.1%\n"
     ]
    },
    {
     "data": {
      "text/plain": [
       "40.107591153616255"
      ]
     },
     "execution_count": 838,
     "metadata": {},
     "output_type": "execute_result"
    }
   ],
   "source": [
    "print('Drivers who go to bars more than once a month, had passengers that were not a kid, and were not widowed')\n",
    "# Build the query\n",
    "barHabitSelection  = {'1~3', '4~8', 'gt8'}\n",
    "passengerSelection = {'Kid(s)', 'Alone'} \n",
    "query = 'Bar in @barHabitSelection and passenger in @passengerSelection and maritalStatus != \"Widowed\"'\n",
    "calculate_acceptance_rate(query, bar_df)\n",
    "print('All other drivers')\n",
    "query = '~(' + query + ')'\n",
    "calculate_acceptance_rate(query, bar_df)\n",
    "\n",
    "print('')\n",
    "print('Drivers who go to bars more than once a month and are under the age of 30')\n",
    "# Build the query\n",
    "query = 'Bar in @barHabitSelection and age < 30'\n",
    "calculate_acceptance_rate(query, bar_df)\n",
    "print('All other drivers')\n",
    "query = '~(' + query + ')'\n",
    "calculate_acceptance_rate(query, bar_df)\n",
    "\n",
    "print('')\n",
    "print('Drivers who go to cheap restaurants more than 4 times a month and income is less than 50K')\n",
    "# Build the query\n",
    "cheapRestaurantSelection = {'4~8','gt8'}\n",
    "incomeSelection = {'Less than $12500','$12500 - $24999','$25000 - $37499', '$37500 - $49999'}\n",
    "query = 'RestaurantLessThan20 in @cheapRestaurantSelection and income in @incomeSelection'\n",
    "calculate_acceptance_rate(query, bar_df)\n",
    "print('All other drivers')\n",
    "query = '~(' + query + ')'\n",
    "calculate_acceptance_rate(query, bar_df)"
   ]
  },
  {
   "cell_type": "markdown",
   "metadata": {},
   "source": [
    "7.  Based on these observations, what do you hypothesize about drivers who accepted the bar coupons?"
   ]
  },
  {
   "cell_type": "markdown",
   "metadata": {},
   "source": [
    "### Drivers who accepts Bar coupons are most likely the ones who used to go often to bars (more than 4 times a month). \n",
    "\n",
    "### Some criteria and habits increase the acceptance rate such as having passengers (except kids), being young (<30 years old), marital_status (not being widowed)\n",
    "\n",
    "### Others criteria such as habits on frequency to go to cheap restaurant and income doesn't impact much the acceptance rate.\n"
   ]
  },
  {
   "cell_type": "markdown",
   "metadata": {},
   "source": [
    "## Investigating Coffee House coupon\n",
    "\n",
    "### What is the profile of customers who accept the coffee house coupon ?"
   ]
  },
  {
   "cell_type": "code",
   "execution_count": 839,
   "metadata": {},
   "outputs": [
    {
     "data": {
      "text/html": [
       "<div>\n",
       "<style scoped>\n",
       "    .dataframe tbody tr th:only-of-type {\n",
       "        vertical-align: middle;\n",
       "    }\n",
       "\n",
       "    .dataframe tbody tr th {\n",
       "        vertical-align: top;\n",
       "    }\n",
       "\n",
       "    .dataframe thead th {\n",
       "        text-align: right;\n",
       "    }\n",
       "</style>\n",
       "<table border=\"1\" class=\"dataframe\">\n",
       "  <thead>\n",
       "    <tr style=\"text-align: right;\">\n",
       "      <th></th>\n",
       "      <th>destination</th>\n",
       "      <th>passenger</th>\n",
       "      <th>weather</th>\n",
       "      <th>temperature</th>\n",
       "      <th>time</th>\n",
       "      <th>coupon</th>\n",
       "      <th>expiration</th>\n",
       "      <th>gender</th>\n",
       "      <th>age</th>\n",
       "      <th>maritalStatus</th>\n",
       "      <th>...</th>\n",
       "      <th>Bar</th>\n",
       "      <th>CoffeeHouse</th>\n",
       "      <th>CarryAway</th>\n",
       "      <th>RestaurantLessThan20</th>\n",
       "      <th>Restaurant20To50</th>\n",
       "      <th>toCoupon_GEQ5min</th>\n",
       "      <th>toCoupon_GEQ15min</th>\n",
       "      <th>toCoupon_GEQ25min</th>\n",
       "      <th>Y</th>\n",
       "      <th>direction</th>\n",
       "    </tr>\n",
       "  </thead>\n",
       "  <tbody>\n",
       "    <tr>\n",
       "      <th>1</th>\n",
       "      <td>No Urgent Place</td>\n",
       "      <td>Friend(s)</td>\n",
       "      <td>Sunny</td>\n",
       "      <td>80</td>\n",
       "      <td>10AM</td>\n",
       "      <td>Coffee House</td>\n",
       "      <td>2h</td>\n",
       "      <td>Female</td>\n",
       "      <td>21</td>\n",
       "      <td>Unmarried partner</td>\n",
       "      <td>...</td>\n",
       "      <td>never</td>\n",
       "      <td>never</td>\n",
       "      <td>Unknown</td>\n",
       "      <td>4~8</td>\n",
       "      <td>1~3</td>\n",
       "      <td>1</td>\n",
       "      <td>0</td>\n",
       "      <td>0</td>\n",
       "      <td>Rejected</td>\n",
       "      <td>opposite</td>\n",
       "    </tr>\n",
       "    <tr>\n",
       "      <th>3</th>\n",
       "      <td>No Urgent Place</td>\n",
       "      <td>Friend(s)</td>\n",
       "      <td>Sunny</td>\n",
       "      <td>80</td>\n",
       "      <td>2PM</td>\n",
       "      <td>Coffee House</td>\n",
       "      <td>2h</td>\n",
       "      <td>Female</td>\n",
       "      <td>21</td>\n",
       "      <td>Unmarried partner</td>\n",
       "      <td>...</td>\n",
       "      <td>never</td>\n",
       "      <td>never</td>\n",
       "      <td>Unknown</td>\n",
       "      <td>4~8</td>\n",
       "      <td>1~3</td>\n",
       "      <td>1</td>\n",
       "      <td>1</td>\n",
       "      <td>0</td>\n",
       "      <td>Rejected</td>\n",
       "      <td>opposite</td>\n",
       "    </tr>\n",
       "    <tr>\n",
       "      <th>4</th>\n",
       "      <td>No Urgent Place</td>\n",
       "      <td>Friend(s)</td>\n",
       "      <td>Sunny</td>\n",
       "      <td>80</td>\n",
       "      <td>2PM</td>\n",
       "      <td>Coffee House</td>\n",
       "      <td>1d</td>\n",
       "      <td>Female</td>\n",
       "      <td>21</td>\n",
       "      <td>Unmarried partner</td>\n",
       "      <td>...</td>\n",
       "      <td>never</td>\n",
       "      <td>never</td>\n",
       "      <td>Unknown</td>\n",
       "      <td>4~8</td>\n",
       "      <td>1~3</td>\n",
       "      <td>1</td>\n",
       "      <td>1</td>\n",
       "      <td>0</td>\n",
       "      <td>Rejected</td>\n",
       "      <td>opposite</td>\n",
       "    </tr>\n",
       "    <tr>\n",
       "      <th>12</th>\n",
       "      <td>No Urgent Place</td>\n",
       "      <td>Kid(s)</td>\n",
       "      <td>Sunny</td>\n",
       "      <td>55</td>\n",
       "      <td>6PM</td>\n",
       "      <td>Coffee House</td>\n",
       "      <td>2h</td>\n",
       "      <td>Female</td>\n",
       "      <td>21</td>\n",
       "      <td>Unmarried partner</td>\n",
       "      <td>...</td>\n",
       "      <td>never</td>\n",
       "      <td>never</td>\n",
       "      <td>Unknown</td>\n",
       "      <td>4~8</td>\n",
       "      <td>1~3</td>\n",
       "      <td>1</td>\n",
       "      <td>1</td>\n",
       "      <td>0</td>\n",
       "      <td>Accepted</td>\n",
       "      <td>opposite</td>\n",
       "    </tr>\n",
       "    <tr>\n",
       "      <th>15</th>\n",
       "      <td>Home</td>\n",
       "      <td>Alone</td>\n",
       "      <td>Sunny</td>\n",
       "      <td>80</td>\n",
       "      <td>6PM</td>\n",
       "      <td>Coffee House</td>\n",
       "      <td>2h</td>\n",
       "      <td>Female</td>\n",
       "      <td>21</td>\n",
       "      <td>Unmarried partner</td>\n",
       "      <td>...</td>\n",
       "      <td>never</td>\n",
       "      <td>never</td>\n",
       "      <td>Unknown</td>\n",
       "      <td>4~8</td>\n",
       "      <td>1~3</td>\n",
       "      <td>1</td>\n",
       "      <td>0</td>\n",
       "      <td>0</td>\n",
       "      <td>Rejected</td>\n",
       "      <td>opposite</td>\n",
       "    </tr>\n",
       "    <tr>\n",
       "      <th>...</th>\n",
       "      <td>...</td>\n",
       "      <td>...</td>\n",
       "      <td>...</td>\n",
       "      <td>...</td>\n",
       "      <td>...</td>\n",
       "      <td>...</td>\n",
       "      <td>...</td>\n",
       "      <td>...</td>\n",
       "      <td>...</td>\n",
       "      <td>...</td>\n",
       "      <td>...</td>\n",
       "      <td>...</td>\n",
       "      <td>...</td>\n",
       "      <td>...</td>\n",
       "      <td>...</td>\n",
       "      <td>...</td>\n",
       "      <td>...</td>\n",
       "      <td>...</td>\n",
       "      <td>...</td>\n",
       "      <td>...</td>\n",
       "      <td>...</td>\n",
       "    </tr>\n",
       "    <tr>\n",
       "      <th>12656</th>\n",
       "      <td>Home</td>\n",
       "      <td>Alone</td>\n",
       "      <td>Snowy</td>\n",
       "      <td>30</td>\n",
       "      <td>10PM</td>\n",
       "      <td>Coffee House</td>\n",
       "      <td>2h</td>\n",
       "      <td>Male</td>\n",
       "      <td>31</td>\n",
       "      <td>Married partner</td>\n",
       "      <td>...</td>\n",
       "      <td>less1</td>\n",
       "      <td>never</td>\n",
       "      <td>4~8</td>\n",
       "      <td>gt8</td>\n",
       "      <td>less1</td>\n",
       "      <td>1</td>\n",
       "      <td>1</td>\n",
       "      <td>0</td>\n",
       "      <td>Rejected</td>\n",
       "      <td>opposite</td>\n",
       "    </tr>\n",
       "    <tr>\n",
       "      <th>12659</th>\n",
       "      <td>Work</td>\n",
       "      <td>Alone</td>\n",
       "      <td>Snowy</td>\n",
       "      <td>30</td>\n",
       "      <td>7AM</td>\n",
       "      <td>Coffee House</td>\n",
       "      <td>1d</td>\n",
       "      <td>Male</td>\n",
       "      <td>31</td>\n",
       "      <td>Married partner</td>\n",
       "      <td>...</td>\n",
       "      <td>less1</td>\n",
       "      <td>never</td>\n",
       "      <td>4~8</td>\n",
       "      <td>gt8</td>\n",
       "      <td>less1</td>\n",
       "      <td>1</td>\n",
       "      <td>0</td>\n",
       "      <td>0</td>\n",
       "      <td>Rejected</td>\n",
       "      <td>same</td>\n",
       "    </tr>\n",
       "    <tr>\n",
       "      <th>12674</th>\n",
       "      <td>Home</td>\n",
       "      <td>Alone</td>\n",
       "      <td>Rainy</td>\n",
       "      <td>55</td>\n",
       "      <td>10PM</td>\n",
       "      <td>Coffee House</td>\n",
       "      <td>2h</td>\n",
       "      <td>Male</td>\n",
       "      <td>26</td>\n",
       "      <td>Single</td>\n",
       "      <td>...</td>\n",
       "      <td>never</td>\n",
       "      <td>never</td>\n",
       "      <td>1~3</td>\n",
       "      <td>4~8</td>\n",
       "      <td>1~3</td>\n",
       "      <td>1</td>\n",
       "      <td>0</td>\n",
       "      <td>0</td>\n",
       "      <td>Rejected</td>\n",
       "      <td>same</td>\n",
       "    </tr>\n",
       "    <tr>\n",
       "      <th>12675</th>\n",
       "      <td>Home</td>\n",
       "      <td>Alone</td>\n",
       "      <td>Snowy</td>\n",
       "      <td>30</td>\n",
       "      <td>10PM</td>\n",
       "      <td>Coffee House</td>\n",
       "      <td>2h</td>\n",
       "      <td>Male</td>\n",
       "      <td>26</td>\n",
       "      <td>Single</td>\n",
       "      <td>...</td>\n",
       "      <td>never</td>\n",
       "      <td>never</td>\n",
       "      <td>1~3</td>\n",
       "      <td>4~8</td>\n",
       "      <td>1~3</td>\n",
       "      <td>1</td>\n",
       "      <td>1</td>\n",
       "      <td>0</td>\n",
       "      <td>Rejected</td>\n",
       "      <td>opposite</td>\n",
       "    </tr>\n",
       "    <tr>\n",
       "      <th>12681</th>\n",
       "      <td>Work</td>\n",
       "      <td>Alone</td>\n",
       "      <td>Snowy</td>\n",
       "      <td>30</td>\n",
       "      <td>7AM</td>\n",
       "      <td>Coffee House</td>\n",
       "      <td>1d</td>\n",
       "      <td>Male</td>\n",
       "      <td>26</td>\n",
       "      <td>Single</td>\n",
       "      <td>...</td>\n",
       "      <td>never</td>\n",
       "      <td>never</td>\n",
       "      <td>1~3</td>\n",
       "      <td>4~8</td>\n",
       "      <td>1~3</td>\n",
       "      <td>1</td>\n",
       "      <td>0</td>\n",
       "      <td>0</td>\n",
       "      <td>Rejected</td>\n",
       "      <td>same</td>\n",
       "    </tr>\n",
       "  </tbody>\n",
       "</table>\n",
       "<p>3996 rows × 24 columns</p>\n",
       "</div>"
      ],
      "text/plain": [
       "           destination  passenger weather  temperature  time        coupon  \\\n",
       "1      No Urgent Place  Friend(s)   Sunny           80  10AM  Coffee House   \n",
       "3      No Urgent Place  Friend(s)   Sunny           80   2PM  Coffee House   \n",
       "4      No Urgent Place  Friend(s)   Sunny           80   2PM  Coffee House   \n",
       "12     No Urgent Place     Kid(s)   Sunny           55   6PM  Coffee House   \n",
       "15                Home      Alone   Sunny           80   6PM  Coffee House   \n",
       "...                ...        ...     ...          ...   ...           ...   \n",
       "12656             Home      Alone   Snowy           30  10PM  Coffee House   \n",
       "12659             Work      Alone   Snowy           30   7AM  Coffee House   \n",
       "12674             Home      Alone   Rainy           55  10PM  Coffee House   \n",
       "12675             Home      Alone   Snowy           30  10PM  Coffee House   \n",
       "12681             Work      Alone   Snowy           30   7AM  Coffee House   \n",
       "\n",
       "      expiration  gender age      maritalStatus  ...    Bar CoffeeHouse  \\\n",
       "1             2h  Female  21  Unmarried partner  ...  never       never   \n",
       "3             2h  Female  21  Unmarried partner  ...  never       never   \n",
       "4             1d  Female  21  Unmarried partner  ...  never       never   \n",
       "12            2h  Female  21  Unmarried partner  ...  never       never   \n",
       "15            2h  Female  21  Unmarried partner  ...  never       never   \n",
       "...          ...     ...  ..                ...  ...    ...         ...   \n",
       "12656         2h    Male  31    Married partner  ...  less1       never   \n",
       "12659         1d    Male  31    Married partner  ...  less1       never   \n",
       "12674         2h    Male  26             Single  ...  never       never   \n",
       "12675         2h    Male  26             Single  ...  never       never   \n",
       "12681         1d    Male  26             Single  ...  never       never   \n",
       "\n",
       "      CarryAway RestaurantLessThan20 Restaurant20To50 toCoupon_GEQ5min  \\\n",
       "1       Unknown                  4~8              1~3                1   \n",
       "3       Unknown                  4~8              1~3                1   \n",
       "4       Unknown                  4~8              1~3                1   \n",
       "12      Unknown                  4~8              1~3                1   \n",
       "15      Unknown                  4~8              1~3                1   \n",
       "...         ...                  ...              ...              ...   \n",
       "12656       4~8                  gt8            less1                1   \n",
       "12659       4~8                  gt8            less1                1   \n",
       "12674       1~3                  4~8              1~3                1   \n",
       "12675       1~3                  4~8              1~3                1   \n",
       "12681       1~3                  4~8              1~3                1   \n",
       "\n",
       "      toCoupon_GEQ15min toCoupon_GEQ25min         Y  direction  \n",
       "1                     0                 0  Rejected   opposite  \n",
       "3                     1                 0  Rejected   opposite  \n",
       "4                     1                 0  Rejected   opposite  \n",
       "12                    1                 0  Accepted   opposite  \n",
       "15                    0                 0  Rejected   opposite  \n",
       "...                 ...               ...       ...        ...  \n",
       "12656                 1                 0  Rejected   opposite  \n",
       "12659                 0                 0  Rejected       same  \n",
       "12674                 0                 0  Rejected       same  \n",
       "12675                 1                 0  Rejected   opposite  \n",
       "12681                 0                 0  Rejected       same  \n",
       "\n",
       "[3996 rows x 24 columns]"
      ]
     },
     "execution_count": 839,
     "metadata": {},
     "output_type": "execute_result"
    }
   ],
   "source": [
    "# Restrict the data to the coupon Coffee House for this analysis\n",
    "coffee_df = data.query('coupon == \"Coffee House\"')\n",
    "coffee_df"
   ]
  },
  {
   "cell_type": "markdown",
   "metadata": {},
   "source": [
    "### General\n",
    "\n",
    "#### What is the global acceptance rate of the coffee house coupon ? "
   ]
  },
  {
   "cell_type": "code",
   "execution_count": 840,
   "metadata": {},
   "outputs": [
    {
     "name": "stdout",
     "output_type": "stream",
     "text": [
      "Number of customers who accepted the coupon: 1995\n",
      "Total of customers who get the Coffee House coupon proposed: 3996\n",
      "Proportion of customers who accepted the coupon: 49.92%\n"
     ]
    }
   ],
   "source": [
    "# Count the occurrences of each unique value in the 'Y' column\n",
    "acceptance_counts = (coffee_df['Y'] == 'Accepted').sum()\n",
    "print(f\"Number of customers who accepted the coupon: {acceptance_counts}\")\n",
    "print(f\"Total of customers who get the Coffee House coupon proposed: {len(coffee_df)}\")\n",
    "\n",
    "# Calculate the proportion of customers who accepted the coupon\n",
    "proportion_accepted = acceptance_counts / len(coffee_df)\n",
    "\n",
    "print(f\"Proportion of customers who accepted the coupon: {proportion_accepted:.2%}\")"
   ]
  },
  {
   "cell_type": "code",
   "execution_count": 841,
   "metadata": {},
   "outputs": [],
   "source": [
    "# This function calculate the acceptance rate for a specific group and dataset\n",
    "# it returns the grouped dataset ordered by acceptance rate\n",
    "def calculate_acceptance_rate_by_group(group,data):\n",
    "    # Group by context columns and calculate the count for each value in 'Y' within each group\n",
    "    grouped_df = data.groupby([group])['Y'].value_counts().unstack(fill_value=0).reset_index()\n",
    "    \n",
    "    # Calculate the acceptance_rate for each group\n",
    "    grouped_df['total_count'] = grouped_df['Rejected'] + grouped_df['Accepted']\n",
    "    grouped_df['acceptance_rate'] = (grouped_df['Accepted'] / grouped_df['total_count'] * 100).round(1).astype(str) + '%'\n",
    "    grouped_df = grouped_df.sort_values('acceptance_rate', ascending=False)\n",
    "    grouped_df\n",
    "    return grouped_df"
   ]
  },
  {
   "cell_type": "markdown",
   "metadata": {},
   "source": [
    "### Contextual analysis"
   ]
  },
  {
   "cell_type": "code",
   "execution_count": 842,
   "metadata": {},
   "outputs": [
    {
     "data": {
      "text/html": [
       "<div>\n",
       "<style scoped>\n",
       "    .dataframe tbody tr th:only-of-type {\n",
       "        vertical-align: middle;\n",
       "    }\n",
       "\n",
       "    .dataframe tbody tr th {\n",
       "        vertical-align: top;\n",
       "    }\n",
       "\n",
       "    .dataframe thead th {\n",
       "        text-align: right;\n",
       "    }\n",
       "</style>\n",
       "<table border=\"1\" class=\"dataframe\">\n",
       "  <thead>\n",
       "    <tr style=\"text-align: right;\">\n",
       "      <th>Y</th>\n",
       "      <th>destination</th>\n",
       "      <th>Accepted</th>\n",
       "      <th>Rejected</th>\n",
       "      <th>total_count</th>\n",
       "      <th>acceptance_rate</th>\n",
       "    </tr>\n",
       "  </thead>\n",
       "  <tbody>\n",
       "    <tr>\n",
       "      <th>1</th>\n",
       "      <td>No Urgent Place</td>\n",
       "      <td>1252</td>\n",
       "      <td>903</td>\n",
       "      <td>2155</td>\n",
       "      <td>58.1%</td>\n",
       "    </tr>\n",
       "    <tr>\n",
       "      <th>2</th>\n",
       "      <td>Work</td>\n",
       "      <td>407</td>\n",
       "      <td>506</td>\n",
       "      <td>913</td>\n",
       "      <td>44.6%</td>\n",
       "    </tr>\n",
       "    <tr>\n",
       "      <th>0</th>\n",
       "      <td>Home</td>\n",
       "      <td>336</td>\n",
       "      <td>592</td>\n",
       "      <td>928</td>\n",
       "      <td>36.2%</td>\n",
       "    </tr>\n",
       "  </tbody>\n",
       "</table>\n",
       "</div>"
      ],
      "text/plain": [
       "Y      destination  Accepted  Rejected  total_count acceptance_rate\n",
       "1  No Urgent Place      1252       903         2155           58.1%\n",
       "2             Work       407       506          913           44.6%\n",
       "0             Home       336       592          928           36.2%"
      ]
     },
     "execution_count": 842,
     "metadata": {},
     "output_type": "execute_result"
    }
   ],
   "source": [
    "calculate_acceptance_rate_by_group('destination',coffee_df)"
   ]
  },
  {
   "cell_type": "code",
   "execution_count": 843,
   "metadata": {},
   "outputs": [
    {
     "data": {
      "text/html": [
       "<div>\n",
       "<style scoped>\n",
       "    .dataframe tbody tr th:only-of-type {\n",
       "        vertical-align: middle;\n",
       "    }\n",
       "\n",
       "    .dataframe tbody tr th {\n",
       "        vertical-align: top;\n",
       "    }\n",
       "\n",
       "    .dataframe thead th {\n",
       "        text-align: right;\n",
       "    }\n",
       "</style>\n",
       "<table border=\"1\" class=\"dataframe\">\n",
       "  <thead>\n",
       "    <tr style=\"text-align: right;\">\n",
       "      <th>Y</th>\n",
       "      <th>passenger</th>\n",
       "      <th>Accepted</th>\n",
       "      <th>Rejected</th>\n",
       "      <th>total_count</th>\n",
       "      <th>acceptance_rate</th>\n",
       "    </tr>\n",
       "  </thead>\n",
       "  <tbody>\n",
       "    <tr>\n",
       "      <th>1</th>\n",
       "      <td>Friend(s)</td>\n",
       "      <td>733</td>\n",
       "      <td>495</td>\n",
       "      <td>1228</td>\n",
       "      <td>59.7%</td>\n",
       "    </tr>\n",
       "    <tr>\n",
       "      <th>3</th>\n",
       "      <td>Partner</td>\n",
       "      <td>174</td>\n",
       "      <td>131</td>\n",
       "      <td>305</td>\n",
       "      <td>57.0%</td>\n",
       "    </tr>\n",
       "    <tr>\n",
       "      <th>2</th>\n",
       "      <td>Kid(s)</td>\n",
       "      <td>100</td>\n",
       "      <td>107</td>\n",
       "      <td>207</td>\n",
       "      <td>48.3%</td>\n",
       "    </tr>\n",
       "    <tr>\n",
       "      <th>0</th>\n",
       "      <td>Alone</td>\n",
       "      <td>988</td>\n",
       "      <td>1268</td>\n",
       "      <td>2256</td>\n",
       "      <td>43.8%</td>\n",
       "    </tr>\n",
       "  </tbody>\n",
       "</table>\n",
       "</div>"
      ],
      "text/plain": [
       "Y  passenger  Accepted  Rejected  total_count acceptance_rate\n",
       "1  Friend(s)       733       495         1228           59.7%\n",
       "3    Partner       174       131          305           57.0%\n",
       "2     Kid(s)       100       107          207           48.3%\n",
       "0      Alone       988      1268         2256           43.8%"
      ]
     },
     "execution_count": 843,
     "metadata": {},
     "output_type": "execute_result"
    }
   ],
   "source": [
    "calculate_acceptance_rate_by_group('passenger',coffee_df)"
   ]
  },
  {
   "cell_type": "code",
   "execution_count": 844,
   "metadata": {},
   "outputs": [
    {
     "data": {
      "text/html": [
       "<div>\n",
       "<style scoped>\n",
       "    .dataframe tbody tr th:only-of-type {\n",
       "        vertical-align: middle;\n",
       "    }\n",
       "\n",
       "    .dataframe tbody tr th {\n",
       "        vertical-align: top;\n",
       "    }\n",
       "\n",
       "    .dataframe thead th {\n",
       "        text-align: right;\n",
       "    }\n",
       "</style>\n",
       "<table border=\"1\" class=\"dataframe\">\n",
       "  <thead>\n",
       "    <tr style=\"text-align: right;\">\n",
       "      <th>Y</th>\n",
       "      <th>time</th>\n",
       "      <th>Accepted</th>\n",
       "      <th>Rejected</th>\n",
       "      <th>total_count</th>\n",
       "      <th>acceptance_rate</th>\n",
       "    </tr>\n",
       "  </thead>\n",
       "  <tbody>\n",
       "    <tr>\n",
       "      <th>0</th>\n",
       "      <td>10AM</td>\n",
       "      <td>576</td>\n",
       "      <td>323</td>\n",
       "      <td>899</td>\n",
       "      <td>64.1%</td>\n",
       "    </tr>\n",
       "    <tr>\n",
       "      <th>2</th>\n",
       "      <td>2PM</td>\n",
       "      <td>435</td>\n",
       "      <td>359</td>\n",
       "      <td>794</td>\n",
       "      <td>54.8%</td>\n",
       "    </tr>\n",
       "    <tr>\n",
       "      <th>4</th>\n",
       "      <td>7AM</td>\n",
       "      <td>407</td>\n",
       "      <td>506</td>\n",
       "      <td>913</td>\n",
       "      <td>44.6%</td>\n",
       "    </tr>\n",
       "    <tr>\n",
       "      <th>1</th>\n",
       "      <td>10PM</td>\n",
       "      <td>126</td>\n",
       "      <td>171</td>\n",
       "      <td>297</td>\n",
       "      <td>42.4%</td>\n",
       "    </tr>\n",
       "    <tr>\n",
       "      <th>3</th>\n",
       "      <td>6PM</td>\n",
       "      <td>451</td>\n",
       "      <td>642</td>\n",
       "      <td>1093</td>\n",
       "      <td>41.3%</td>\n",
       "    </tr>\n",
       "  </tbody>\n",
       "</table>\n",
       "</div>"
      ],
      "text/plain": [
       "Y  time  Accepted  Rejected  total_count acceptance_rate\n",
       "0  10AM       576       323          899           64.1%\n",
       "2   2PM       435       359          794           54.8%\n",
       "4   7AM       407       506          913           44.6%\n",
       "1  10PM       126       171          297           42.4%\n",
       "3   6PM       451       642         1093           41.3%"
      ]
     },
     "execution_count": 844,
     "metadata": {},
     "output_type": "execute_result"
    }
   ],
   "source": [
    "calculate_acceptance_rate_by_group('time',coffee_df)"
   ]
  },
  {
   "cell_type": "code",
   "execution_count": 845,
   "metadata": {},
   "outputs": [
    {
     "data": {
      "text/html": [
       "<div>\n",
       "<style scoped>\n",
       "    .dataframe tbody tr th:only-of-type {\n",
       "        vertical-align: middle;\n",
       "    }\n",
       "\n",
       "    .dataframe tbody tr th {\n",
       "        vertical-align: top;\n",
       "    }\n",
       "\n",
       "    .dataframe thead th {\n",
       "        text-align: right;\n",
       "    }\n",
       "</style>\n",
       "<table border=\"1\" class=\"dataframe\">\n",
       "  <thead>\n",
       "    <tr style=\"text-align: right;\">\n",
       "      <th>Y</th>\n",
       "      <th>direction</th>\n",
       "      <th>Accepted</th>\n",
       "      <th>Rejected</th>\n",
       "      <th>total_count</th>\n",
       "      <th>acceptance_rate</th>\n",
       "    </tr>\n",
       "  </thead>\n",
       "  <tbody>\n",
       "    <tr>\n",
       "      <th>1</th>\n",
       "      <td>same</td>\n",
       "      <td>398</td>\n",
       "      <td>352</td>\n",
       "      <td>750</td>\n",
       "      <td>53.1%</td>\n",
       "    </tr>\n",
       "    <tr>\n",
       "      <th>0</th>\n",
       "      <td>opposite</td>\n",
       "      <td>1597</td>\n",
       "      <td>1649</td>\n",
       "      <td>3246</td>\n",
       "      <td>49.2%</td>\n",
       "    </tr>\n",
       "  </tbody>\n",
       "</table>\n",
       "</div>"
      ],
      "text/plain": [
       "Y direction  Accepted  Rejected  total_count acceptance_rate\n",
       "1      same       398       352          750           53.1%\n",
       "0  opposite      1597      1649         3246           49.2%"
      ]
     },
     "execution_count": 845,
     "metadata": {},
     "output_type": "execute_result"
    }
   ],
   "source": [
    "calculate_acceptance_rate_by_group('direction',coffee_df)"
   ]
  },
  {
   "cell_type": "code",
   "execution_count": 846,
   "metadata": {},
   "outputs": [
    {
     "data": {
      "text/html": [
       "<div>\n",
       "<style scoped>\n",
       "    .dataframe tbody tr th:only-of-type {\n",
       "        vertical-align: middle;\n",
       "    }\n",
       "\n",
       "    .dataframe tbody tr th {\n",
       "        vertical-align: top;\n",
       "    }\n",
       "\n",
       "    .dataframe thead th {\n",
       "        text-align: right;\n",
       "    }\n",
       "</style>\n",
       "<table border=\"1\" class=\"dataframe\">\n",
       "  <thead>\n",
       "    <tr style=\"text-align: right;\">\n",
       "      <th>Y</th>\n",
       "      <th>expiration</th>\n",
       "      <th>Accepted</th>\n",
       "      <th>Rejected</th>\n",
       "      <th>total_count</th>\n",
       "      <th>acceptance_rate</th>\n",
       "    </tr>\n",
       "  </thead>\n",
       "  <tbody>\n",
       "    <tr>\n",
       "      <th>0</th>\n",
       "      <td>1d</td>\n",
       "      <td>1033</td>\n",
       "      <td>736</td>\n",
       "      <td>1769</td>\n",
       "      <td>58.4%</td>\n",
       "    </tr>\n",
       "    <tr>\n",
       "      <th>1</th>\n",
       "      <td>2h</td>\n",
       "      <td>962</td>\n",
       "      <td>1265</td>\n",
       "      <td>2227</td>\n",
       "      <td>43.2%</td>\n",
       "    </tr>\n",
       "  </tbody>\n",
       "</table>\n",
       "</div>"
      ],
      "text/plain": [
       "Y expiration  Accepted  Rejected  total_count acceptance_rate\n",
       "0         1d      1033       736         1769           58.4%\n",
       "1         2h       962      1265         2227           43.2%"
      ]
     },
     "execution_count": 846,
     "metadata": {},
     "output_type": "execute_result"
    }
   ],
   "source": [
    "calculate_acceptance_rate_by_group('expiration',coffee_df)"
   ]
  },
  {
   "cell_type": "code",
   "execution_count": 847,
   "metadata": {},
   "outputs": [
    {
     "data": {
      "text/html": [
       "<div>\n",
       "<style scoped>\n",
       "    .dataframe tbody tr th:only-of-type {\n",
       "        vertical-align: middle;\n",
       "    }\n",
       "\n",
       "    .dataframe tbody tr th {\n",
       "        vertical-align: top;\n",
       "    }\n",
       "\n",
       "    .dataframe thead th {\n",
       "        text-align: right;\n",
       "    }\n",
       "</style>\n",
       "<table border=\"1\" class=\"dataframe\">\n",
       "  <thead>\n",
       "    <tr style=\"text-align: right;\">\n",
       "      <th>Y</th>\n",
       "      <th>weather</th>\n",
       "      <th>Accepted</th>\n",
       "      <th>Rejected</th>\n",
       "      <th>total_count</th>\n",
       "      <th>acceptance_rate</th>\n",
       "    </tr>\n",
       "  </thead>\n",
       "  <tbody>\n",
       "    <tr>\n",
       "      <th>0</th>\n",
       "      <td>Rainy</td>\n",
       "      <td>118</td>\n",
       "      <td>108</td>\n",
       "      <td>226</td>\n",
       "      <td>52.2%</td>\n",
       "    </tr>\n",
       "    <tr>\n",
       "      <th>2</th>\n",
       "      <td>Sunny</td>\n",
       "      <td>1746</td>\n",
       "      <td>1721</td>\n",
       "      <td>3467</td>\n",
       "      <td>50.4%</td>\n",
       "    </tr>\n",
       "    <tr>\n",
       "      <th>1</th>\n",
       "      <td>Snowy</td>\n",
       "      <td>131</td>\n",
       "      <td>172</td>\n",
       "      <td>303</td>\n",
       "      <td>43.2%</td>\n",
       "    </tr>\n",
       "  </tbody>\n",
       "</table>\n",
       "</div>"
      ],
      "text/plain": [
       "Y weather  Accepted  Rejected  total_count acceptance_rate\n",
       "0   Rainy       118       108          226           52.2%\n",
       "2   Sunny      1746      1721         3467           50.4%\n",
       "1   Snowy       131       172          303           43.2%"
      ]
     },
     "execution_count": 847,
     "metadata": {},
     "output_type": "execute_result"
    }
   ],
   "source": [
    "calculate_acceptance_rate_by_group('weather',coffee_df)"
   ]
  },
  {
   "cell_type": "markdown",
   "metadata": {},
   "source": [
    "#### Contextually, \n",
    "- drivers with passengers but not kid(s) have a good acceptance rate\n",
    "- commit during late morning have the best acceptance rate\n",
    "- drivers going to a no urgent place have the best acceptance rate\n",
    "- coupons which expire in 1 day have a better acceptance rate than 2 hours coupon\n",
    "- a sunny day give an equal chance for the coupon to be accepted. But a rainy day as a better chance to be accepted compared to a snowy day. "
   ]
  },
  {
   "cell_type": "markdown",
   "metadata": {},
   "source": [
    "### User profile analysis"
   ]
  },
  {
   "cell_type": "code",
   "execution_count": 848,
   "metadata": {},
   "outputs": [
    {
     "data": {
      "text/html": [
       "<div>\n",
       "<style scoped>\n",
       "    .dataframe tbody tr th:only-of-type {\n",
       "        vertical-align: middle;\n",
       "    }\n",
       "\n",
       "    .dataframe tbody tr th {\n",
       "        vertical-align: top;\n",
       "    }\n",
       "\n",
       "    .dataframe thead th {\n",
       "        text-align: right;\n",
       "    }\n",
       "</style>\n",
       "<table border=\"1\" class=\"dataframe\">\n",
       "  <thead>\n",
       "    <tr style=\"text-align: right;\">\n",
       "      <th>Y</th>\n",
       "      <th>gender</th>\n",
       "      <th>Accepted</th>\n",
       "      <th>Rejected</th>\n",
       "      <th>total_count</th>\n",
       "      <th>acceptance_rate</th>\n",
       "    </tr>\n",
       "  </thead>\n",
       "  <tbody>\n",
       "    <tr>\n",
       "      <th>1</th>\n",
       "      <td>Male</td>\n",
       "      <td>985</td>\n",
       "      <td>960</td>\n",
       "      <td>1945</td>\n",
       "      <td>50.6%</td>\n",
       "    </tr>\n",
       "    <tr>\n",
       "      <th>0</th>\n",
       "      <td>Female</td>\n",
       "      <td>1010</td>\n",
       "      <td>1041</td>\n",
       "      <td>2051</td>\n",
       "      <td>49.2%</td>\n",
       "    </tr>\n",
       "  </tbody>\n",
       "</table>\n",
       "</div>"
      ],
      "text/plain": [
       "Y  gender  Accepted  Rejected  total_count acceptance_rate\n",
       "1    Male       985       960         1945           50.6%\n",
       "0  Female      1010      1041         2051           49.2%"
      ]
     },
     "execution_count": 848,
     "metadata": {},
     "output_type": "execute_result"
    }
   ],
   "source": [
    "calculate_acceptance_rate_by_group('gender',coffee_df)"
   ]
  },
  {
   "cell_type": "code",
   "execution_count": 849,
   "metadata": {},
   "outputs": [
    {
     "data": {
      "text/html": [
       "<div>\n",
       "<style scoped>\n",
       "    .dataframe tbody tr th:only-of-type {\n",
       "        vertical-align: middle;\n",
       "    }\n",
       "\n",
       "    .dataframe tbody tr th {\n",
       "        vertical-align: top;\n",
       "    }\n",
       "\n",
       "    .dataframe thead th {\n",
       "        text-align: right;\n",
       "    }\n",
       "</style>\n",
       "<table border=\"1\" class=\"dataframe\">\n",
       "  <thead>\n",
       "    <tr style=\"text-align: right;\">\n",
       "      <th>Y</th>\n",
       "      <th>maritalStatus</th>\n",
       "      <th>Accepted</th>\n",
       "      <th>Rejected</th>\n",
       "      <th>total_count</th>\n",
       "      <th>acceptance_rate</th>\n",
       "    </tr>\n",
       "  </thead>\n",
       "  <tbody>\n",
       "    <tr>\n",
       "      <th>0</th>\n",
       "      <td>Divorced</td>\n",
       "      <td>79</td>\n",
       "      <td>72</td>\n",
       "      <td>151</td>\n",
       "      <td>52.3%</td>\n",
       "    </tr>\n",
       "    <tr>\n",
       "      <th>2</th>\n",
       "      <td>Single</td>\n",
       "      <td>800</td>\n",
       "      <td>750</td>\n",
       "      <td>1550</td>\n",
       "      <td>51.6%</td>\n",
       "    </tr>\n",
       "    <tr>\n",
       "      <th>1</th>\n",
       "      <td>Married partner</td>\n",
       "      <td>760</td>\n",
       "      <td>781</td>\n",
       "      <td>1541</td>\n",
       "      <td>49.3%</td>\n",
       "    </tr>\n",
       "    <tr>\n",
       "      <th>3</th>\n",
       "      <td>Unmarried partner</td>\n",
       "      <td>343</td>\n",
       "      <td>374</td>\n",
       "      <td>717</td>\n",
       "      <td>47.8%</td>\n",
       "    </tr>\n",
       "    <tr>\n",
       "      <th>4</th>\n",
       "      <td>Widowed</td>\n",
       "      <td>13</td>\n",
       "      <td>24</td>\n",
       "      <td>37</td>\n",
       "      <td>35.1%</td>\n",
       "    </tr>\n",
       "  </tbody>\n",
       "</table>\n",
       "</div>"
      ],
      "text/plain": [
       "Y      maritalStatus  Accepted  Rejected  total_count acceptance_rate\n",
       "0           Divorced        79        72          151           52.3%\n",
       "2             Single       800       750         1550           51.6%\n",
       "1    Married partner       760       781         1541           49.3%\n",
       "3  Unmarried partner       343       374          717           47.8%\n",
       "4            Widowed        13        24           37           35.1%"
      ]
     },
     "execution_count": 849,
     "metadata": {},
     "output_type": "execute_result"
    }
   ],
   "source": [
    "calculate_acceptance_rate_by_group('maritalStatus',coffee_df)"
   ]
  },
  {
   "cell_type": "code",
   "execution_count": 850,
   "metadata": {},
   "outputs": [
    {
     "data": {
      "text/html": [
       "<div>\n",
       "<style scoped>\n",
       "    .dataframe tbody tr th:only-of-type {\n",
       "        vertical-align: middle;\n",
       "    }\n",
       "\n",
       "    .dataframe tbody tr th {\n",
       "        vertical-align: top;\n",
       "    }\n",
       "\n",
       "    .dataframe thead th {\n",
       "        text-align: right;\n",
       "    }\n",
       "</style>\n",
       "<table border=\"1\" class=\"dataframe\">\n",
       "  <thead>\n",
       "    <tr style=\"text-align: right;\">\n",
       "      <th>Y</th>\n",
       "      <th>has_children</th>\n",
       "      <th>Accepted</th>\n",
       "      <th>Rejected</th>\n",
       "      <th>total_count</th>\n",
       "      <th>acceptance_rate</th>\n",
       "    </tr>\n",
       "  </thead>\n",
       "  <tbody>\n",
       "    <tr>\n",
       "      <th>0</th>\n",
       "      <td>0</td>\n",
       "      <td>1238</td>\n",
       "      <td>1208</td>\n",
       "      <td>2446</td>\n",
       "      <td>50.6%</td>\n",
       "    </tr>\n",
       "    <tr>\n",
       "      <th>1</th>\n",
       "      <td>1</td>\n",
       "      <td>757</td>\n",
       "      <td>793</td>\n",
       "      <td>1550</td>\n",
       "      <td>48.8%</td>\n",
       "    </tr>\n",
       "  </tbody>\n",
       "</table>\n",
       "</div>"
      ],
      "text/plain": [
       "Y  has_children  Accepted  Rejected  total_count acceptance_rate\n",
       "0             0      1238      1208         2446           50.6%\n",
       "1             1       757       793         1550           48.8%"
      ]
     },
     "execution_count": 850,
     "metadata": {},
     "output_type": "execute_result"
    }
   ],
   "source": [
    "calculate_acceptance_rate_by_group('has_children',coffee_df)"
   ]
  },
  {
   "cell_type": "code",
   "execution_count": 851,
   "metadata": {},
   "outputs": [
    {
     "data": {
      "text/html": [
       "<div>\n",
       "<style scoped>\n",
       "    .dataframe tbody tr th:only-of-type {\n",
       "        vertical-align: middle;\n",
       "    }\n",
       "\n",
       "    .dataframe tbody tr th {\n",
       "        vertical-align: top;\n",
       "    }\n",
       "\n",
       "    .dataframe thead th {\n",
       "        text-align: right;\n",
       "    }\n",
       "</style>\n",
       "<table border=\"1\" class=\"dataframe\">\n",
       "  <thead>\n",
       "    <tr style=\"text-align: right;\">\n",
       "      <th>Y</th>\n",
       "      <th>grouped_age</th>\n",
       "      <th>Accepted</th>\n",
       "      <th>Rejected</th>\n",
       "      <th>total_count</th>\n",
       "      <th>acceptance_rate</th>\n",
       "    </tr>\n",
       "  </thead>\n",
       "  <tbody>\n",
       "    <tr>\n",
       "      <th>4</th>\n",
       "      <td>below21</td>\n",
       "      <td>108</td>\n",
       "      <td>47</td>\n",
       "      <td>155</td>\n",
       "      <td>69.7%</td>\n",
       "    </tr>\n",
       "    <tr>\n",
       "      <th>0</th>\n",
       "      <td>21-26</td>\n",
       "      <td>897</td>\n",
       "      <td>829</td>\n",
       "      <td>1726</td>\n",
       "      <td>52.0%</td>\n",
       "    </tr>\n",
       "    <tr>\n",
       "      <th>2</th>\n",
       "      <td>41-46</td>\n",
       "      <td>276</td>\n",
       "      <td>269</td>\n",
       "      <td>545</td>\n",
       "      <td>50.6%</td>\n",
       "    </tr>\n",
       "    <tr>\n",
       "      <th>1</th>\n",
       "      <td>31-36</td>\n",
       "      <td>485</td>\n",
       "      <td>540</td>\n",
       "      <td>1025</td>\n",
       "      <td>47.3%</td>\n",
       "    </tr>\n",
       "    <tr>\n",
       "      <th>3</th>\n",
       "      <td>50plus</td>\n",
       "      <td>229</td>\n",
       "      <td>316</td>\n",
       "      <td>545</td>\n",
       "      <td>42.0%</td>\n",
       "    </tr>\n",
       "  </tbody>\n",
       "</table>\n",
       "</div>"
      ],
      "text/plain": [
       "Y grouped_age  Accepted  Rejected  total_count acceptance_rate\n",
       "4     below21       108        47          155           69.7%\n",
       "0       21-26       897       829         1726           52.0%\n",
       "2       41-46       276       269          545           50.6%\n",
       "1       31-36       485       540         1025           47.3%\n",
       "3      50plus       229       316          545           42.0%"
      ]
     },
     "execution_count": 851,
     "metadata": {},
     "output_type": "execute_result"
    }
   ],
   "source": [
    "# Map the grouped age categories\n",
    "age_mapping = {\n",
    "    'below21': 'below21',\n",
    "    '21': '21-26',\n",
    "    '26': '21-26',\n",
    "    '31': '31-36',\n",
    "    '36': '31-36',\n",
    "    '41': '41-46',\n",
    "    '46': '41-46',\n",
    "    '50plus': '50plus'\n",
    "}\n",
    "\n",
    "# Make a copy of the DataFrame to avoid the SettingWithCopyWarning\n",
    "coffee_df_copy = coffee_df.copy()\n",
    "\n",
    "# Apply the mapping using .loc to create a new column 'grouped_age'\n",
    "coffee_df_copy.loc[:, 'grouped_age'] = coffee_df_copy['age'].replace(age_mapping)\n",
    "\n",
    "grouped_df = calculate_acceptance_rate_by_group('grouped_age', coffee_df_copy)\n",
    "grouped_df"
   ]
  },
  {
   "cell_type": "code",
   "execution_count": 852,
   "metadata": {},
   "outputs": [],
   "source": [
    "# Reordering on logical age order to display on the plot\n",
    "custom_dict = {'below21':0, '21-26':1, '31-36':2, '41-46':3, '50plus':4} \n",
    "grouped_df = grouped_df.sort_values(by='grouped_age', key=lambda x: x.map(custom_dict))\n",
    "\n",
    "# Numerize the acceptance_rate column to be able to plot it correctly\n",
    "grouped_df['acceptance_rate_numeric'] = grouped_df['acceptance_rate'].str.rstrip('%').astype('float')"
   ]
  },
  {
   "cell_type": "code",
   "execution_count": 853,
   "metadata": {},
   "outputs": [
    {
     "data": {
      "image/png": "[encoded data removed]",
      "text/plain": [
       "<Figure size 1200x600 with 2 Axes>"
      ]
     },
     "metadata": {},
     "output_type": "display_data"
    }
   ],
   "source": [
    "# specify order of grouped_age for the bar plot \n",
    "category_order = ['below21', '21-26', '31-36', '41-46', '50plus']\n",
    "\n",
    "# Create the histogram for 'coffee_df' using sns\n",
    "plt.figure(figsize=(12, 6))\n",
    "\n",
    "# Set title\n",
    "plt.title('Acceptance of Coffee house coupon according to age of drivers')\n",
    "ax1 = sns.countplot(data=coffee_df_copy, \n",
    "                    x=\"grouped_age\", \n",
    "                    hue=\"Y\",\n",
    "                    order= category_order\n",
    "                   )\n",
    "# Set legend\n",
    "plt.legend(title='Coupon', loc='upper right', labels=['Accepted', 'Rejected'])\n",
    "\n",
    "# Overlay the acceptance rate on the same plot using sns scatterplot\n",
    "ax2 = ax1.twinx()\n",
    "sns.scatterplot(data=grouped_df, x='grouped_age', y='acceptance_rate_numeric', color='black', ax=ax2, s=100)\n",
    "\n",
    "# Turns off grid on both Axis\n",
    "ax1.grid(False)\n",
    "ax2.grid(False)\n",
    "\n",
    "# Set labels\n",
    "ax1.set_xlabel('Age')\n",
    "ax1.set_ylabel('Count')\n",
    "ax2.set_ylabel('Acceptance Rate (%)')\n",
    "\n",
    "\n",
    "# Show the plot\n",
    "plt.show()"
   ]
  },
  {
   "cell_type": "code",
   "execution_count": 854,
   "metadata": {},
   "outputs": [
    {
     "data": {
      "text/html": [
       "<div>\n",
       "<style scoped>\n",
       "    .dataframe tbody tr th:only-of-type {\n",
       "        vertical-align: middle;\n",
       "    }\n",
       "\n",
       "    .dataframe tbody tr th {\n",
       "        vertical-align: top;\n",
       "    }\n",
       "\n",
       "    .dataframe thead th {\n",
       "        text-align: right;\n",
       "    }\n",
       "</style>\n",
       "<table border=\"1\" class=\"dataframe\">\n",
       "  <thead>\n",
       "    <tr style=\"text-align: right;\">\n",
       "      <th>Y</th>\n",
       "      <th>income</th>\n",
       "      <th>Accepted</th>\n",
       "      <th>Rejected</th>\n",
       "      <th>total_count</th>\n",
       "      <th>acceptance_rate</th>\n",
       "    </tr>\n",
       "  </thead>\n",
       "  <tbody>\n",
       "    <tr>\n",
       "      <th>7</th>\n",
       "      <td>$87500 - $99999</td>\n",
       "      <td>151</td>\n",
       "      <td>120</td>\n",
       "      <td>271</td>\n",
       "      <td>55.7%</td>\n",
       "    </tr>\n",
       "    <tr>\n",
       "      <th>8</th>\n",
       "      <td>Less than $12500</td>\n",
       "      <td>170</td>\n",
       "      <td>138</td>\n",
       "      <td>308</td>\n",
       "      <td>55.2%</td>\n",
       "    </tr>\n",
       "    <tr>\n",
       "      <th>3</th>\n",
       "      <td>$37500 - $49999</td>\n",
       "      <td>320</td>\n",
       "      <td>270</td>\n",
       "      <td>590</td>\n",
       "      <td>54.2%</td>\n",
       "    </tr>\n",
       "    <tr>\n",
       "      <th>1</th>\n",
       "      <td>$12500 - $24999</td>\n",
       "      <td>321</td>\n",
       "      <td>273</td>\n",
       "      <td>594</td>\n",
       "      <td>54.0%</td>\n",
       "    </tr>\n",
       "    <tr>\n",
       "      <th>4</th>\n",
       "      <td>$50000 - $62499</td>\n",
       "      <td>276</td>\n",
       "      <td>272</td>\n",
       "      <td>548</td>\n",
       "      <td>50.4%</td>\n",
       "    </tr>\n",
       "    <tr>\n",
       "      <th>0</th>\n",
       "      <td>$100000 or More</td>\n",
       "      <td>264</td>\n",
       "      <td>270</td>\n",
       "      <td>534</td>\n",
       "      <td>49.4%</td>\n",
       "    </tr>\n",
       "    <tr>\n",
       "      <th>2</th>\n",
       "      <td>$25000 - $37499</td>\n",
       "      <td>303</td>\n",
       "      <td>337</td>\n",
       "      <td>640</td>\n",
       "      <td>47.3%</td>\n",
       "    </tr>\n",
       "    <tr>\n",
       "      <th>5</th>\n",
       "      <td>$62500 - $74999</td>\n",
       "      <td>120</td>\n",
       "      <td>155</td>\n",
       "      <td>275</td>\n",
       "      <td>43.6%</td>\n",
       "    </tr>\n",
       "    <tr>\n",
       "      <th>6</th>\n",
       "      <td>$75000 - $87499</td>\n",
       "      <td>70</td>\n",
       "      <td>166</td>\n",
       "      <td>236</td>\n",
       "      <td>29.7%</td>\n",
       "    </tr>\n",
       "  </tbody>\n",
       "</table>\n",
       "</div>"
      ],
      "text/plain": [
       "Y            income  Accepted  Rejected  total_count acceptance_rate\n",
       "7   $87500 - $99999       151       120          271           55.7%\n",
       "8  Less than $12500       170       138          308           55.2%\n",
       "3   $37500 - $49999       320       270          590           54.2%\n",
       "1   $12500 - $24999       321       273          594           54.0%\n",
       "4   $50000 - $62499       276       272          548           50.4%\n",
       "0   $100000 or More       264       270          534           49.4%\n",
       "2   $25000 - $37499       303       337          640           47.3%\n",
       "5   $62500 - $74999       120       155          275           43.6%\n",
       "6   $75000 - $87499        70       166          236           29.7%"
      ]
     },
     "execution_count": 854,
     "metadata": {},
     "output_type": "execute_result"
    }
   ],
   "source": [
    "income_coffee_df = calculate_acceptance_rate_by_group('income',coffee_df)\n",
    "income_coffee_df"
   ]
  },
  {
   "cell_type": "code",
   "execution_count": 855,
   "metadata": {},
   "outputs": [
    {
     "data": {
      "text/html": [
       "<div>\n",
       "<style scoped>\n",
       "    .dataframe tbody tr th:only-of-type {\n",
       "        vertical-align: middle;\n",
       "    }\n",
       "\n",
       "    .dataframe tbody tr th {\n",
       "        vertical-align: top;\n",
       "    }\n",
       "\n",
       "    .dataframe thead th {\n",
       "        text-align: right;\n",
       "    }\n",
       "</style>\n",
       "<table border=\"1\" class=\"dataframe\">\n",
       "  <thead>\n",
       "    <tr style=\"text-align: right;\">\n",
       "      <th>Y</th>\n",
       "      <th>income</th>\n",
       "      <th>Accepted</th>\n",
       "      <th>Rejected</th>\n",
       "      <th>total_count</th>\n",
       "      <th>acceptance_rate</th>\n",
       "    </tr>\n",
       "  </thead>\n",
       "  <tbody>\n",
       "    <tr>\n",
       "      <th>8</th>\n",
       "      <td>Less than $12500</td>\n",
       "      <td>170</td>\n",
       "      <td>138</td>\n",
       "      <td>308</td>\n",
       "      <td>55.2%</td>\n",
       "    </tr>\n",
       "    <tr>\n",
       "      <th>1</th>\n",
       "      <td>$12500 - $24999</td>\n",
       "      <td>321</td>\n",
       "      <td>273</td>\n",
       "      <td>594</td>\n",
       "      <td>54.0%</td>\n",
       "    </tr>\n",
       "    <tr>\n",
       "      <th>2</th>\n",
       "      <td>$25000 - $37499</td>\n",
       "      <td>303</td>\n",
       "      <td>337</td>\n",
       "      <td>640</td>\n",
       "      <td>47.3%</td>\n",
       "    </tr>\n",
       "    <tr>\n",
       "      <th>3</th>\n",
       "      <td>$37500 - $49999</td>\n",
       "      <td>320</td>\n",
       "      <td>270</td>\n",
       "      <td>590</td>\n",
       "      <td>54.2%</td>\n",
       "    </tr>\n",
       "    <tr>\n",
       "      <th>4</th>\n",
       "      <td>$50000 - $62499</td>\n",
       "      <td>276</td>\n",
       "      <td>272</td>\n",
       "      <td>548</td>\n",
       "      <td>50.4%</td>\n",
       "    </tr>\n",
       "    <tr>\n",
       "      <th>5</th>\n",
       "      <td>$62500 - $74999</td>\n",
       "      <td>120</td>\n",
       "      <td>155</td>\n",
       "      <td>275</td>\n",
       "      <td>43.6%</td>\n",
       "    </tr>\n",
       "    <tr>\n",
       "      <th>6</th>\n",
       "      <td>$75000 - $87499</td>\n",
       "      <td>70</td>\n",
       "      <td>166</td>\n",
       "      <td>236</td>\n",
       "      <td>29.7%</td>\n",
       "    </tr>\n",
       "    <tr>\n",
       "      <th>7</th>\n",
       "      <td>$87500 - $99999</td>\n",
       "      <td>151</td>\n",
       "      <td>120</td>\n",
       "      <td>271</td>\n",
       "      <td>55.7%</td>\n",
       "    </tr>\n",
       "    <tr>\n",
       "      <th>0</th>\n",
       "      <td>$100000 or More</td>\n",
       "      <td>264</td>\n",
       "      <td>270</td>\n",
       "      <td>534</td>\n",
       "      <td>49.4%</td>\n",
       "    </tr>\n",
       "  </tbody>\n",
       "</table>\n",
       "</div>"
      ],
      "text/plain": [
       "Y            income  Accepted  Rejected  total_count acceptance_rate\n",
       "8  Less than $12500       170       138          308           55.2%\n",
       "1   $12500 - $24999       321       273          594           54.0%\n",
       "2   $25000 - $37499       303       337          640           47.3%\n",
       "3   $37500 - $49999       320       270          590           54.2%\n",
       "4   $50000 - $62499       276       272          548           50.4%\n",
       "5   $62500 - $74999       120       155          275           43.6%\n",
       "6   $75000 - $87499        70       166          236           29.7%\n",
       "7   $87500 - $99999       151       120          271           55.7%\n",
       "0   $100000 or More       264       270          534           49.4%"
      ]
     },
     "execution_count": 855,
     "metadata": {},
     "output_type": "execute_result"
    }
   ],
   "source": [
    "# Order by income to be more readable\n",
    "order = [\n",
    "    'Less than $12500',\n",
    "    '$12500 - $24999',\n",
    "    '$25000 - $37499',\n",
    "    '$37500 - $49999',\n",
    "    '$50000 - $62499',\n",
    "    '$62500 - $74999',\n",
    "    '$75000 - $87499',\n",
    "    '$87500 - $99999',\n",
    "    '$100000 or More'\n",
    "]\n",
    "# Convert 'income' column to categorical with custom order\n",
    "income_coffee_df['income'] = pd.Categorical(income_coffee_df['income'], categories=order, ordered=True)\n",
    "\n",
    "# Sort DataFrame based on the 'income' column\n",
    "income_coffee_df = income_coffee_df.sort_values('income')\n",
    "\n",
    "income_coffee_df"
   ]
  },
  {
   "cell_type": "code",
   "execution_count": 856,
   "metadata": {},
   "outputs": [
    {
     "data": {
      "image/png": "[encoded data removed]",
      "text/plain": [
       "<Figure size 1000x600 with 2 Axes>"
      ]
     },
     "metadata": {},
     "output_type": "display_data"
    }
   ],
   "source": [
    "# Select relevant columns\n",
    "heatmap_data = income_coffee_df.set_index('income')[['Accepted', 'Rejected']]\n",
    "\n",
    "# Create the heatmap\n",
    "plt.figure(figsize=(10, 6))\n",
    "sns.heatmap(heatmap_data, annot=True, fmt='d', cmap='coolwarm', linewidths=.5)\n",
    "\n",
    "plt.title('Marital Status vs. Accepted/Rejected')\n",
    "plt.show()"
   ]
  },
  {
   "attachments": {},
   "cell_type": "markdown",
   "metadata": {},
   "source": [
    "A lot more of the drivers who get the coffee house coupon where on the middle low income or the highest. There is no trend directly noticeable on the acceptance rate. "
   ]
  },
  {
   "cell_type": "code",
   "execution_count": 857,
   "metadata": {},
   "outputs": [
    {
     "data": {
      "text/html": [
       "<div>\n",
       "<style scoped>\n",
       "    .dataframe tbody tr th:only-of-type {\n",
       "        vertical-align: middle;\n",
       "    }\n",
       "\n",
       "    .dataframe tbody tr th {\n",
       "        vertical-align: top;\n",
       "    }\n",
       "\n",
       "    .dataframe thead th {\n",
       "        text-align: right;\n",
       "    }\n",
       "</style>\n",
       "<table border=\"1\" class=\"dataframe\">\n",
       "  <thead>\n",
       "    <tr style=\"text-align: right;\">\n",
       "      <th>Y</th>\n",
       "      <th>education</th>\n",
       "      <th>Accepted</th>\n",
       "      <th>Rejected</th>\n",
       "      <th>total_count</th>\n",
       "      <th>acceptance_rate</th>\n",
       "    </tr>\n",
       "  </thead>\n",
       "  <tbody>\n",
       "    <tr>\n",
       "      <th>4</th>\n",
       "      <td>Some High School</td>\n",
       "      <td>17</td>\n",
       "      <td>11</td>\n",
       "      <td>28</td>\n",
       "      <td>60.7%</td>\n",
       "    </tr>\n",
       "    <tr>\n",
       "      <th>3</th>\n",
       "      <td>High School Graduate</td>\n",
       "      <td>151</td>\n",
       "      <td>128</td>\n",
       "      <td>279</td>\n",
       "      <td>54.1%</td>\n",
       "    </tr>\n",
       "    <tr>\n",
       "      <th>0</th>\n",
       "      <td>Associates degree</td>\n",
       "      <td>181</td>\n",
       "      <td>169</td>\n",
       "      <td>350</td>\n",
       "      <td>51.7%</td>\n",
       "    </tr>\n",
       "    <tr>\n",
       "      <th>5</th>\n",
       "      <td>Some college - no degree</td>\n",
       "      <td>707</td>\n",
       "      <td>664</td>\n",
       "      <td>1371</td>\n",
       "      <td>51.6%</td>\n",
       "    </tr>\n",
       "    <tr>\n",
       "      <th>2</th>\n",
       "      <td>Graduate degree (Masters or Doctorate)</td>\n",
       "      <td>305</td>\n",
       "      <td>293</td>\n",
       "      <td>598</td>\n",
       "      <td>51.0%</td>\n",
       "    </tr>\n",
       "    <tr>\n",
       "      <th>1</th>\n",
       "      <td>Bachelors degree</td>\n",
       "      <td>634</td>\n",
       "      <td>736</td>\n",
       "      <td>1370</td>\n",
       "      <td>46.3%</td>\n",
       "    </tr>\n",
       "  </tbody>\n",
       "</table>\n",
       "</div>"
      ],
      "text/plain": [
       "Y                               education  Accepted  Rejected  total_count  \\\n",
       "4                        Some High School        17        11           28   \n",
       "3                    High School Graduate       151       128          279   \n",
       "0                       Associates degree       181       169          350   \n",
       "5                Some college - no degree       707       664         1371   \n",
       "2  Graduate degree (Masters or Doctorate)       305       293          598   \n",
       "1                        Bachelors degree       634       736         1370   \n",
       "\n",
       "Y acceptance_rate  \n",
       "4           60.7%  \n",
       "3           54.1%  \n",
       "0           51.7%  \n",
       "5           51.6%  \n",
       "2           51.0%  \n",
       "1           46.3%  "
      ]
     },
     "execution_count": 857,
     "metadata": {},
     "output_type": "execute_result"
    }
   ],
   "source": [
    "calculate_acceptance_rate_by_group('education',coffee_df)"
   ]
  },
  {
   "cell_type": "code",
   "execution_count": 858,
   "metadata": {},
   "outputs": [],
   "source": [
    "grouped_df = calculate_acceptance_rate_by_group('occupation',coffee_df)\n",
    "# Numerize the acceptance_rate column to be able to plot it correctly\n",
    "grouped_df['acceptance_rate_numeric'] = grouped_df['acceptance_rate'].str.rstrip('%').astype('float')"
   ]
  },
  {
   "cell_type": "code",
   "execution_count": 859,
   "metadata": {},
   "outputs": [
    {
     "data": {
      "image/png": "[encoded data removed]",
      "text/plain": [
       "<Figure size 1200x800 with 2 Axes>"
      ]
     },
     "metadata": {},
     "output_type": "display_data"
    }
   ],
   "source": [
    "# Set up figure and axis\n",
    "fig, ax1 = plt.subplots(figsize=(12, 8))\n",
    "\n",
    "# Plot Acceptance Rate\n",
    "color = 'lightblue'\n",
    "ax1.barh(grouped_df['occupation'], grouped_df['acceptance_rate_numeric'], color=color, label='Acceptance Rate (%)')\n",
    "ax1.set_xlabel('Acceptance Rate (%)')\n",
    "ax1.set_ylabel('Occupation')\n",
    "\n",
    "# Create a secondary y-axis to plot Total Count\n",
    "ax2 = ax1.twiny()\n",
    "ax2.barh(grouped_df['occupation'], grouped_df['total_count'], color='lightgreen', alpha=0.5, label='Total Count')\n",
    "ax2.set_xlabel('Total Count')\n",
    "\n",
    "# Display legend\n",
    "fig.legend(loc=\"upper left\", bbox_to_anchor=(0.15, 0.9))\n",
    "\n",
    "plt.title('Acceptance Rate and Total Count by Occupation')\n",
    "plt.show()"
   ]
  },
  {
   "cell_type": "markdown",
   "metadata": {},
   "source": [
    "#### On the user profile:\n",
    "- There is no clear pattern about customers regarding the gender, marital status or children criteria\n",
    "- Divorced or single people have a slight better acceptance rate than others\n",
    "- Younger drivers are most likely to accept the coupon rather than older drivers\n",
    "- Students, Unemployed and Computer & Mathematical got the most of coupons and Students accepted most of the time the coupons\n",
    "- Drivers working in healthcare or building accepted a lot the coupons too"
   ]
  },
  {
   "cell_type": "markdown",
   "metadata": {},
   "source": [
    "### User habits analysis"
   ]
  },
  {
   "cell_type": "code",
   "execution_count": 860,
   "metadata": {},
   "outputs": [],
   "source": [
    "# Analysis on habits\n",
    "# Map the grouped categories\n",
    "# I used 2 differents mappings to have more equal number of few / a lot \n",
    "habits_mapping_1 = {\n",
    "    'never': 'few',\n",
    "    'less1': 'few',\n",
    "    '1~3': 'few',\n",
    "    '4~8': 'a lot',\n",
    "    'gt8': 'a lot'\n",
    "}\n",
    "habits_mapping_2 = {\n",
    "    'never': 'few',\n",
    "    'less1': 'few',\n",
    "    '1~3': 'a lot',\n",
    "    '4~8': 'a lot',\n",
    "    'gt8': 'a lot'\n",
    "}\n",
    "\n",
    "# Drop unknown habits values \n",
    "coffee_df = coffee_df[coffee_df['Bar'] != 'Unknown']\n",
    "coffee_df = coffee_df[coffee_df['CoffeeHouse'] != 'Unknown']\n",
    "coffee_df = coffee_df[coffee_df['CarryAway'] != 'Unknown']\n",
    "coffee_df = coffee_df[coffee_df['RestaurantLessThan20'] != 'Unknown']\n",
    "coffee_df = coffee_df[coffee_df['Restaurant20To50'] != 'Unknown']\n",
    " \n",
    "# Apply the mapping to create a new column 'grouped_...'\n",
    "coffee_df['grouped_Bar'] = coffee_df['Bar'].map(habits_mapping_2)\n",
    "coffee_df['grouped_CoffeeHouse'] = coffee_df['CoffeeHouse'].map(habits_mapping_2)\n",
    "coffee_df['grouped_CarryAway'] = coffee_df['CarryAway'].map(habits_mapping_1)\n",
    "coffee_df['grouped_RestaurantLessThan20'] = coffee_df['RestaurantLessThan20'].map(habits_mapping_1)\n",
    "coffee_df['grouped_Restaurant20To50'] = coffee_df['Restaurant20To50'].map(habits_mapping_2)"
   ]
  },
  {
   "cell_type": "code",
   "execution_count": 861,
   "metadata": {},
   "outputs": [
    {
     "data": {
      "text/html": [
       "<div>\n",
       "<style scoped>\n",
       "    .dataframe tbody tr th:only-of-type {\n",
       "        vertical-align: middle;\n",
       "    }\n",
       "\n",
       "    .dataframe tbody tr th {\n",
       "        vertical-align: top;\n",
       "    }\n",
       "\n",
       "    .dataframe thead th {\n",
       "        text-align: right;\n",
       "    }\n",
       "</style>\n",
       "<table border=\"1\" class=\"dataframe\">\n",
       "  <thead>\n",
       "    <tr style=\"text-align: right;\">\n",
       "      <th>Y</th>\n",
       "      <th>grouped_Bar</th>\n",
       "      <th>Accepted</th>\n",
       "      <th>Rejected</th>\n",
       "      <th>total_count</th>\n",
       "      <th>acceptance_rate</th>\n",
       "    </tr>\n",
       "  </thead>\n",
       "  <tbody>\n",
       "    <tr>\n",
       "      <th>0</th>\n",
       "      <td>a lot</td>\n",
       "      <td>605</td>\n",
       "      <td>599</td>\n",
       "      <td>1204</td>\n",
       "      <td>50.2%</td>\n",
       "    </tr>\n",
       "    <tr>\n",
       "      <th>1</th>\n",
       "      <td>few</td>\n",
       "      <td>1289</td>\n",
       "      <td>1323</td>\n",
       "      <td>2612</td>\n",
       "      <td>49.3%</td>\n",
       "    </tr>\n",
       "  </tbody>\n",
       "</table>\n",
       "</div>"
      ],
      "text/plain": [
       "Y grouped_Bar  Accepted  Rejected  total_count acceptance_rate\n",
       "0       a lot       605       599         1204           50.2%\n",
       "1         few      1289      1323         2612           49.3%"
      ]
     },
     "execution_count": 861,
     "metadata": {},
     "output_type": "execute_result"
    }
   ],
   "source": [
    "calculate_acceptance_rate_by_group('grouped_Bar',coffee_df)"
   ]
  },
  {
   "cell_type": "code",
   "execution_count": 862,
   "metadata": {},
   "outputs": [
    {
     "data": {
      "text/html": [
       "<div>\n",
       "<style scoped>\n",
       "    .dataframe tbody tr th:only-of-type {\n",
       "        vertical-align: middle;\n",
       "    }\n",
       "\n",
       "    .dataframe tbody tr th {\n",
       "        vertical-align: top;\n",
       "    }\n",
       "\n",
       "    .dataframe thead th {\n",
       "        text-align: right;\n",
       "    }\n",
       "</style>\n",
       "<table border=\"1\" class=\"dataframe\">\n",
       "  <thead>\n",
       "    <tr style=\"text-align: right;\">\n",
       "      <th>Y</th>\n",
       "      <th>grouped_CoffeeHouse</th>\n",
       "      <th>Accepted</th>\n",
       "      <th>Rejected</th>\n",
       "      <th>total_count</th>\n",
       "      <th>acceptance_rate</th>\n",
       "    </tr>\n",
       "  </thead>\n",
       "  <tbody>\n",
       "    <tr>\n",
       "      <th>0</th>\n",
       "      <td>a lot</td>\n",
       "      <td>1231</td>\n",
       "      <td>637</td>\n",
       "      <td>1868</td>\n",
       "      <td>65.9%</td>\n",
       "    </tr>\n",
       "    <tr>\n",
       "      <th>1</th>\n",
       "      <td>few</td>\n",
       "      <td>663</td>\n",
       "      <td>1285</td>\n",
       "      <td>1948</td>\n",
       "      <td>34.0%</td>\n",
       "    </tr>\n",
       "  </tbody>\n",
       "</table>\n",
       "</div>"
      ],
      "text/plain": [
       "Y grouped_CoffeeHouse  Accepted  Rejected  total_count acceptance_rate\n",
       "0               a lot      1231       637         1868           65.9%\n",
       "1                 few       663      1285         1948           34.0%"
      ]
     },
     "execution_count": 862,
     "metadata": {},
     "output_type": "execute_result"
    }
   ],
   "source": [
    "calculate_acceptance_rate_by_group('grouped_CoffeeHouse',coffee_df)"
   ]
  },
  {
   "cell_type": "code",
   "execution_count": 863,
   "metadata": {},
   "outputs": [
    {
     "data": {
      "text/html": [
       "<div>\n",
       "<style scoped>\n",
       "    .dataframe tbody tr th:only-of-type {\n",
       "        vertical-align: middle;\n",
       "    }\n",
       "\n",
       "    .dataframe tbody tr th {\n",
       "        vertical-align: top;\n",
       "    }\n",
       "\n",
       "    .dataframe thead th {\n",
       "        text-align: right;\n",
       "    }\n",
       "</style>\n",
       "<table border=\"1\" class=\"dataframe\">\n",
       "  <thead>\n",
       "    <tr style=\"text-align: right;\">\n",
       "      <th>Y</th>\n",
       "      <th>grouped_CarryAway</th>\n",
       "      <th>Accepted</th>\n",
       "      <th>Rejected</th>\n",
       "      <th>total_count</th>\n",
       "      <th>acceptance_rate</th>\n",
       "    </tr>\n",
       "  </thead>\n",
       "  <tbody>\n",
       "    <tr>\n",
       "      <th>0</th>\n",
       "      <td>a lot</td>\n",
       "      <td>904</td>\n",
       "      <td>874</td>\n",
       "      <td>1778</td>\n",
       "      <td>50.8%</td>\n",
       "    </tr>\n",
       "    <tr>\n",
       "      <th>1</th>\n",
       "      <td>few</td>\n",
       "      <td>990</td>\n",
       "      <td>1048</td>\n",
       "      <td>2038</td>\n",
       "      <td>48.6%</td>\n",
       "    </tr>\n",
       "  </tbody>\n",
       "</table>\n",
       "</div>"
      ],
      "text/plain": [
       "Y grouped_CarryAway  Accepted  Rejected  total_count acceptance_rate\n",
       "0             a lot       904       874         1778           50.8%\n",
       "1               few       990      1048         2038           48.6%"
      ]
     },
     "execution_count": 863,
     "metadata": {},
     "output_type": "execute_result"
    }
   ],
   "source": [
    "calculate_acceptance_rate_by_group('grouped_CarryAway',coffee_df)"
   ]
  },
  {
   "cell_type": "code",
   "execution_count": 864,
   "metadata": {},
   "outputs": [
    {
     "data": {
      "text/html": [
       "<div>\n",
       "<style scoped>\n",
       "    .dataframe tbody tr th:only-of-type {\n",
       "        vertical-align: middle;\n",
       "    }\n",
       "\n",
       "    .dataframe tbody tr th {\n",
       "        vertical-align: top;\n",
       "    }\n",
       "\n",
       "    .dataframe thead th {\n",
       "        text-align: right;\n",
       "    }\n",
       "</style>\n",
       "<table border=\"1\" class=\"dataframe\">\n",
       "  <thead>\n",
       "    <tr style=\"text-align: right;\">\n",
       "      <th>Y</th>\n",
       "      <th>grouped_RestaurantLessThan20</th>\n",
       "      <th>Accepted</th>\n",
       "      <th>Rejected</th>\n",
       "      <th>total_count</th>\n",
       "      <th>acceptance_rate</th>\n",
       "    </tr>\n",
       "  </thead>\n",
       "  <tbody>\n",
       "    <tr>\n",
       "      <th>0</th>\n",
       "      <td>a lot</td>\n",
       "      <td>786</td>\n",
       "      <td>737</td>\n",
       "      <td>1523</td>\n",
       "      <td>51.6%</td>\n",
       "    </tr>\n",
       "    <tr>\n",
       "      <th>1</th>\n",
       "      <td>few</td>\n",
       "      <td>1108</td>\n",
       "      <td>1185</td>\n",
       "      <td>2293</td>\n",
       "      <td>48.3%</td>\n",
       "    </tr>\n",
       "  </tbody>\n",
       "</table>\n",
       "</div>"
      ],
      "text/plain": [
       "Y grouped_RestaurantLessThan20  Accepted  Rejected  total_count  \\\n",
       "0                        a lot       786       737         1523   \n",
       "1                          few      1108      1185         2293   \n",
       "\n",
       "Y acceptance_rate  \n",
       "0           51.6%  \n",
       "1           48.3%  "
      ]
     },
     "execution_count": 864,
     "metadata": {},
     "output_type": "execute_result"
    }
   ],
   "source": [
    "calculate_acceptance_rate_by_group('grouped_RestaurantLessThan20',coffee_df)"
   ]
  },
  {
   "cell_type": "code",
   "execution_count": 865,
   "metadata": {},
   "outputs": [
    {
     "data": {
      "text/html": [
       "<div>\n",
       "<style scoped>\n",
       "    .dataframe tbody tr th:only-of-type {\n",
       "        vertical-align: middle;\n",
       "    }\n",
       "\n",
       "    .dataframe tbody tr th {\n",
       "        vertical-align: top;\n",
       "    }\n",
       "\n",
       "    .dataframe thead th {\n",
       "        text-align: right;\n",
       "    }\n",
       "</style>\n",
       "<table border=\"1\" class=\"dataframe\">\n",
       "  <thead>\n",
       "    <tr style=\"text-align: right;\">\n",
       "      <th>Y</th>\n",
       "      <th>grouped_Restaurant20To50</th>\n",
       "      <th>Accepted</th>\n",
       "      <th>Rejected</th>\n",
       "      <th>total_count</th>\n",
       "      <th>acceptance_rate</th>\n",
       "    </tr>\n",
       "  </thead>\n",
       "  <tbody>\n",
       "    <tr>\n",
       "      <th>0</th>\n",
       "      <td>a lot</td>\n",
       "      <td>700</td>\n",
       "      <td>616</td>\n",
       "      <td>1316</td>\n",
       "      <td>53.2%</td>\n",
       "    </tr>\n",
       "    <tr>\n",
       "      <th>1</th>\n",
       "      <td>few</td>\n",
       "      <td>1194</td>\n",
       "      <td>1306</td>\n",
       "      <td>2500</td>\n",
       "      <td>47.8%</td>\n",
       "    </tr>\n",
       "  </tbody>\n",
       "</table>\n",
       "</div>"
      ],
      "text/plain": [
       "Y grouped_Restaurant20To50  Accepted  Rejected  total_count acceptance_rate\n",
       "0                    a lot       700       616         1316           53.2%\n",
       "1                      few      1194      1306         2500           47.8%"
      ]
     },
     "execution_count": 865,
     "metadata": {},
     "output_type": "execute_result"
    }
   ],
   "source": [
    "calculate_acceptance_rate_by_group('grouped_Restaurant20To50',coffee_df)"
   ]
  },
  {
   "cell_type": "markdown",
   "metadata": {},
   "source": [
    "#### Concerning the user habits:\n",
    "- a driver who goes often to a coffee house (more than once a month) has a better acceptance rate\n",
    "- a driver who goes fewer to the other places has a slight better acceptance rate but it's not significant"
   ]
  },
  {
   "cell_type": "markdown",
   "metadata": {},
   "source": [
    "### Target test"
   ]
  },
  {
   "cell_type": "code",
   "execution_count": 866,
   "metadata": {},
   "outputs": [
    {
     "name": "stdout",
     "output_type": "stream",
     "text": [
      "Targeted drivers\n",
      "Acceptance rate: 84.0%\n",
      "\n",
      "All other drivers\n",
      "Acceptance rate: 49.7%\n"
     ]
    },
    {
     "data": {
      "text/plain": [
       "84.0"
      ]
     },
     "execution_count": 866,
     "metadata": {},
     "output_type": "execute_result"
    }
   ],
   "source": [
    "# Count the occurrences of each unique value in the 'Y' column for those \n",
    "passengerSelection = {'Friend(s)', 'Partner'}\n",
    "ageSelection = {'below21', '21-26'}\n",
    "coffeeSelection = { '1~3', '4~8', 'gt8'}\n",
    "\n",
    "query  = 'CoffeeHouse in @coffeeSelection '\n",
    "query += 'and passenger in @passengerSelection '\n",
    "query += 'and time == \"10AM\" '\n",
    "query += 'and expiration == \"1d\" '\n",
    "query += 'and grouped_age in @ageSelection '\n",
    "query += 'and destination == \"No Urgent Place\" '\n",
    "\n",
    "print('Targeted drivers')\n",
    "target_accepting_rate = calculate_acceptance_rate(query,coffee_df_copy)\n",
    "print()\n",
    "print('All other drivers')\n",
    "calculate_acceptance_rate('~(' + query + ')',coffee_df_copy)\n",
    "target_accepting_rate\n",
    "# NB: we are using coffee_df_copy because grouped_age is only in coffee_df_copy"
   ]
  },
  {
   "cell_type": "code",
   "execution_count": 867,
   "metadata": {},
   "outputs": [
    {
     "data": {
      "image/png": "[encoded data removed]",
      "text/plain": [
       "<Figure size 640x480 with 1 Axes>"
      ]
     },
     "metadata": {},
     "output_type": "display_data"
    }
   ],
   "source": [
    "# Calculate the remaining rate (100 - target_rate)\n",
    "target_rejecting_rate = 100.0 - target_accepting_rate\n",
    "\n",
    "# Create data for the pie chart\n",
    "data = [target_accepting_rate, target_rejecting_rate]\n",
    "labels = ['Accept', 'Reject']\n",
    "\n",
    "# Create a pie chart\n",
    "plt.pie(data, labels=labels, autopct='%1.1f%%', startangle=90)\n",
    " \n",
    "# Set title\n",
    "plt.title('Target Rates')\n",
    "\n",
    "# Show the plot\n",
    "plt.show()"
   ]
  },
  {
   "cell_type": "markdown",
   "metadata": {},
   "source": [
    "#### The acceptance rate is very high (84%) for this target:\n",
    "- young drivers (under 30 years old)\n",
    "- drivers who use to go at least once a month in a coffee house\n",
    "- drivers with passengers other than kid(s)\n",
    "- drivers who drive to a No Urgent Place\n",
    "- at 10AM\n",
    "- with a coupon which expire in 1 day\n",
    "\n",
    "#### Drivers which are not entering in that selection have a fair rate of acceptance (49%)"
   ]
  }
 ],
 "metadata": {
  "kernelspec": {
   "display_name": "Python 3 (ipykernel)",
   "language": "python",
   "name": "python3"
  },
  "language_info": {
   "codemirror_mode": {
    "name": "ipython",
    "version": 3
   },
   "file_extension": ".py",
   "mimetype": "text/x-python",
   "name": "python",
   "nbconvert_exporter": "python",
   "pygments_lexer": "ipython3",
   "version": "3.11.5"
  },
  "vscode": {
   "interpreter": {
    "hash": "95264382525d2a17f449c9e983733467e90bb6ea793060da4395af25658de068"
   }
  },
  "widgets": {
   "application/vnd.jupyter.widget-state+json": {
    "state": {},
    "version_major": 2,
    "version_minor": 0
   }
  }
 },
 "nbformat": 4,
 "nbformat_minor": 4
}
