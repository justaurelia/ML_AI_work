{
 "cells": [
  {
   "cell_type": "markdown",
   "metadata": {},
   "source": [
    "# Introduction\n",
    "\n",
    "This notebook analyzes data collected from a survey to determine the factors influencing drivers' acceptance of coupons in various driving scenarios. The data encompasses different aspects such as destination, current time, weather, presence of passengers, and coupon types (e.g., restaurants, coffee houses, bars). The goal is to leverage visualizations and probability distributions to distinguish between customers who accepted a driving coupon and those who did not.\n",
    "\n",
    "Key Questions:\n",
    "- What are the primary factors influencing coupon acceptance?\n",
    "- How do different scenarios impact the likelihood of accepting a coupon?\n",
    "- Focus on Bar coupon and Coffee House coupon\n",
    "\n",
    "Let's delve into the data exploration and analysis to uncover insights into driver behavior regarding coupon acceptance."
   ]
  },
  {
   "cell_type": "code",
   "execution_count": 2,
   "metadata": {},
   "outputs": [],
   "source": [
    "import matplotlib.pyplot as plt\n",
    "import seaborn as sns\n",
    "import pandas as pd\n",
    "import numpy as np"
   ]
  },
  {
   "cell_type": "markdown",
   "metadata": {},
   "source": [
    "# Data loading and overview \n",
    "\n",
    "1. Read in the `coupons.csv` file."
   ]
  },
  {
   "cell_type": "code",
   "execution_count": 3,
   "metadata": {},
   "outputs": [],
   "source": [
    "data = pd.read_csv('data/coupons.csv')"
   ]
  },
  {
   "cell_type": "code",
   "execution_count": 4,
   "metadata": {},
   "outputs": [
    {
     "data": {
      "text/html": [
       "<div>\n",
       "<style scoped>\n",
       "    .dataframe tbody tr th:only-of-type {\n",
       "        vertical-align: middle;\n",
       "    }\n",
       "\n",
       "    .dataframe tbody tr th {\n",
       "        vertical-align: top;\n",
       "    }\n",
       "\n",
       "    .dataframe thead th {\n",
       "        text-align: right;\n",
       "    }\n",
       "</style>\n",
       "<table border=\"1\" class=\"dataframe\">\n",
       "  <thead>\n",
       "    <tr style=\"text-align: right;\">\n",
       "      <th></th>\n",
       "      <th>destination</th>\n",
       "      <th>passanger</th>\n",
       "      <th>weather</th>\n",
       "      <th>temperature</th>\n",
       "      <th>time</th>\n",
       "      <th>coupon</th>\n",
       "      <th>expiration</th>\n",
       "      <th>gender</th>\n",
       "      <th>age</th>\n",
       "      <th>maritalStatus</th>\n",
       "      <th>...</th>\n",
       "      <th>CoffeeHouse</th>\n",
       "      <th>CarryAway</th>\n",
       "      <th>RestaurantLessThan20</th>\n",
       "      <th>Restaurant20To50</th>\n",
       "      <th>toCoupon_GEQ5min</th>\n",
       "      <th>toCoupon_GEQ15min</th>\n",
       "      <th>toCoupon_GEQ25min</th>\n",
       "      <th>direction_same</th>\n",
       "      <th>direction_opp</th>\n",
       "      <th>Y</th>\n",
       "    </tr>\n",
       "  </thead>\n",
       "  <tbody>\n",
       "    <tr>\n",
       "      <th>0</th>\n",
       "      <td>No Urgent Place</td>\n",
       "      <td>Alone</td>\n",
       "      <td>Sunny</td>\n",
       "      <td>55</td>\n",
       "      <td>2PM</td>\n",
       "      <td>Restaurant(&lt;20)</td>\n",
       "      <td>1d</td>\n",
       "      <td>Female</td>\n",
       "      <td>21</td>\n",
       "      <td>Unmarried partner</td>\n",
       "      <td>...</td>\n",
       "      <td>never</td>\n",
       "      <td>NaN</td>\n",
       "      <td>4~8</td>\n",
       "      <td>1~3</td>\n",
       "      <td>1</td>\n",
       "      <td>0</td>\n",
       "      <td>0</td>\n",
       "      <td>0</td>\n",
       "      <td>1</td>\n",
       "      <td>1</td>\n",
       "    </tr>\n",
       "    <tr>\n",
       "      <th>1</th>\n",
       "      <td>No Urgent Place</td>\n",
       "      <td>Friend(s)</td>\n",
       "      <td>Sunny</td>\n",
       "      <td>80</td>\n",
       "      <td>10AM</td>\n",
       "      <td>Coffee House</td>\n",
       "      <td>2h</td>\n",
       "      <td>Female</td>\n",
       "      <td>21</td>\n",
       "      <td>Unmarried partner</td>\n",
       "      <td>...</td>\n",
       "      <td>never</td>\n",
       "      <td>NaN</td>\n",
       "      <td>4~8</td>\n",
       "      <td>1~3</td>\n",
       "      <td>1</td>\n",
       "      <td>0</td>\n",
       "      <td>0</td>\n",
       "      <td>0</td>\n",
       "      <td>1</td>\n",
       "      <td>0</td>\n",
       "    </tr>\n",
       "    <tr>\n",
       "      <th>2</th>\n",
       "      <td>No Urgent Place</td>\n",
       "      <td>Friend(s)</td>\n",
       "      <td>Sunny</td>\n",
       "      <td>80</td>\n",
       "      <td>10AM</td>\n",
       "      <td>Carry out &amp; Take away</td>\n",
       "      <td>2h</td>\n",
       "      <td>Female</td>\n",
       "      <td>21</td>\n",
       "      <td>Unmarried partner</td>\n",
       "      <td>...</td>\n",
       "      <td>never</td>\n",
       "      <td>NaN</td>\n",
       "      <td>4~8</td>\n",
       "      <td>1~3</td>\n",
       "      <td>1</td>\n",
       "      <td>1</td>\n",
       "      <td>0</td>\n",
       "      <td>0</td>\n",
       "      <td>1</td>\n",
       "      <td>1</td>\n",
       "    </tr>\n",
       "    <tr>\n",
       "      <th>3</th>\n",
       "      <td>No Urgent Place</td>\n",
       "      <td>Friend(s)</td>\n",
       "      <td>Sunny</td>\n",
       "      <td>80</td>\n",
       "      <td>2PM</td>\n",
       "      <td>Coffee House</td>\n",
       "      <td>2h</td>\n",
       "      <td>Female</td>\n",
       "      <td>21</td>\n",
       "      <td>Unmarried partner</td>\n",
       "      <td>...</td>\n",
       "      <td>never</td>\n",
       "      <td>NaN</td>\n",
       "      <td>4~8</td>\n",
       "      <td>1~3</td>\n",
       "      <td>1</td>\n",
       "      <td>1</td>\n",
       "      <td>0</td>\n",
       "      <td>0</td>\n",
       "      <td>1</td>\n",
       "      <td>0</td>\n",
       "    </tr>\n",
       "    <tr>\n",
       "      <th>4</th>\n",
       "      <td>No Urgent Place</td>\n",
       "      <td>Friend(s)</td>\n",
       "      <td>Sunny</td>\n",
       "      <td>80</td>\n",
       "      <td>2PM</td>\n",
       "      <td>Coffee House</td>\n",
       "      <td>1d</td>\n",
       "      <td>Female</td>\n",
       "      <td>21</td>\n",
       "      <td>Unmarried partner</td>\n",
       "      <td>...</td>\n",
       "      <td>never</td>\n",
       "      <td>NaN</td>\n",
       "      <td>4~8</td>\n",
       "      <td>1~3</td>\n",
       "      <td>1</td>\n",
       "      <td>1</td>\n",
       "      <td>0</td>\n",
       "      <td>0</td>\n",
       "      <td>1</td>\n",
       "      <td>0</td>\n",
       "    </tr>\n",
       "    <tr>\n",
       "      <th>...</th>\n",
       "      <td>...</td>\n",
       "      <td>...</td>\n",
       "      <td>...</td>\n",
       "      <td>...</td>\n",
       "      <td>...</td>\n",
       "      <td>...</td>\n",
       "      <td>...</td>\n",
       "      <td>...</td>\n",
       "      <td>...</td>\n",
       "      <td>...</td>\n",
       "      <td>...</td>\n",
       "      <td>...</td>\n",
       "      <td>...</td>\n",
       "      <td>...</td>\n",
       "      <td>...</td>\n",
       "      <td>...</td>\n",
       "      <td>...</td>\n",
       "      <td>...</td>\n",
       "      <td>...</td>\n",
       "      <td>...</td>\n",
       "      <td>...</td>\n",
       "    </tr>\n",
       "    <tr>\n",
       "      <th>12679</th>\n",
       "      <td>Home</td>\n",
       "      <td>Partner</td>\n",
       "      <td>Rainy</td>\n",
       "      <td>55</td>\n",
       "      <td>6PM</td>\n",
       "      <td>Carry out &amp; Take away</td>\n",
       "      <td>1d</td>\n",
       "      <td>Male</td>\n",
       "      <td>26</td>\n",
       "      <td>Single</td>\n",
       "      <td>...</td>\n",
       "      <td>never</td>\n",
       "      <td>1~3</td>\n",
       "      <td>4~8</td>\n",
       "      <td>1~3</td>\n",
       "      <td>1</td>\n",
       "      <td>0</td>\n",
       "      <td>0</td>\n",
       "      <td>1</td>\n",
       "      <td>0</td>\n",
       "      <td>1</td>\n",
       "    </tr>\n",
       "    <tr>\n",
       "      <th>12680</th>\n",
       "      <td>Work</td>\n",
       "      <td>Alone</td>\n",
       "      <td>Rainy</td>\n",
       "      <td>55</td>\n",
       "      <td>7AM</td>\n",
       "      <td>Carry out &amp; Take away</td>\n",
       "      <td>1d</td>\n",
       "      <td>Male</td>\n",
       "      <td>26</td>\n",
       "      <td>Single</td>\n",
       "      <td>...</td>\n",
       "      <td>never</td>\n",
       "      <td>1~3</td>\n",
       "      <td>4~8</td>\n",
       "      <td>1~3</td>\n",
       "      <td>1</td>\n",
       "      <td>0</td>\n",
       "      <td>0</td>\n",
       "      <td>0</td>\n",
       "      <td>1</td>\n",
       "      <td>1</td>\n",
       "    </tr>\n",
       "    <tr>\n",
       "      <th>12681</th>\n",
       "      <td>Work</td>\n",
       "      <td>Alone</td>\n",
       "      <td>Snowy</td>\n",
       "      <td>30</td>\n",
       "      <td>7AM</td>\n",
       "      <td>Coffee House</td>\n",
       "      <td>1d</td>\n",
       "      <td>Male</td>\n",
       "      <td>26</td>\n",
       "      <td>Single</td>\n",
       "      <td>...</td>\n",
       "      <td>never</td>\n",
       "      <td>1~3</td>\n",
       "      <td>4~8</td>\n",
       "      <td>1~3</td>\n",
       "      <td>1</td>\n",
       "      <td>0</td>\n",
       "      <td>0</td>\n",
       "      <td>1</td>\n",
       "      <td>0</td>\n",
       "      <td>0</td>\n",
       "    </tr>\n",
       "    <tr>\n",
       "      <th>12682</th>\n",
       "      <td>Work</td>\n",
       "      <td>Alone</td>\n",
       "      <td>Snowy</td>\n",
       "      <td>30</td>\n",
       "      <td>7AM</td>\n",
       "      <td>Bar</td>\n",
       "      <td>1d</td>\n",
       "      <td>Male</td>\n",
       "      <td>26</td>\n",
       "      <td>Single</td>\n",
       "      <td>...</td>\n",
       "      <td>never</td>\n",
       "      <td>1~3</td>\n",
       "      <td>4~8</td>\n",
       "      <td>1~3</td>\n",
       "      <td>1</td>\n",
       "      <td>1</td>\n",
       "      <td>1</td>\n",
       "      <td>0</td>\n",
       "      <td>1</td>\n",
       "      <td>0</td>\n",
       "    </tr>\n",
       "    <tr>\n",
       "      <th>12683</th>\n",
       "      <td>Work</td>\n",
       "      <td>Alone</td>\n",
       "      <td>Sunny</td>\n",
       "      <td>80</td>\n",
       "      <td>7AM</td>\n",
       "      <td>Restaurant(20-50)</td>\n",
       "      <td>2h</td>\n",
       "      <td>Male</td>\n",
       "      <td>26</td>\n",
       "      <td>Single</td>\n",
       "      <td>...</td>\n",
       "      <td>never</td>\n",
       "      <td>1~3</td>\n",
       "      <td>4~8</td>\n",
       "      <td>1~3</td>\n",
       "      <td>1</td>\n",
       "      <td>0</td>\n",
       "      <td>0</td>\n",
       "      <td>1</td>\n",
       "      <td>0</td>\n",
       "      <td>0</td>\n",
       "    </tr>\n",
       "  </tbody>\n",
       "</table>\n",
       "<p>12684 rows × 26 columns</p>\n",
       "</div>"
      ],
      "text/plain": [
       "           destination  passanger weather  temperature  time  \\\n",
       "0      No Urgent Place      Alone   Sunny           55   2PM   \n",
       "1      No Urgent Place  Friend(s)   Sunny           80  10AM   \n",
       "2      No Urgent Place  Friend(s)   Sunny           80  10AM   \n",
       "3      No Urgent Place  Friend(s)   Sunny           80   2PM   \n",
       "4      No Urgent Place  Friend(s)   Sunny           80   2PM   \n",
       "...                ...        ...     ...          ...   ...   \n",
       "12679             Home    Partner   Rainy           55   6PM   \n",
       "12680             Work      Alone   Rainy           55   7AM   \n",
       "12681             Work      Alone   Snowy           30   7AM   \n",
       "12682             Work      Alone   Snowy           30   7AM   \n",
       "12683             Work      Alone   Sunny           80   7AM   \n",
       "\n",
       "                      coupon expiration  gender age      maritalStatus  ...  \\\n",
       "0            Restaurant(<20)         1d  Female  21  Unmarried partner  ...   \n",
       "1               Coffee House         2h  Female  21  Unmarried partner  ...   \n",
       "2      Carry out & Take away         2h  Female  21  Unmarried partner  ...   \n",
       "3               Coffee House         2h  Female  21  Unmarried partner  ...   \n",
       "4               Coffee House         1d  Female  21  Unmarried partner  ...   \n",
       "...                      ...        ...     ...  ..                ...  ...   \n",
       "12679  Carry out & Take away         1d    Male  26             Single  ...   \n",
       "12680  Carry out & Take away         1d    Male  26             Single  ...   \n",
       "12681           Coffee House         1d    Male  26             Single  ...   \n",
       "12682                    Bar         1d    Male  26             Single  ...   \n",
       "12683      Restaurant(20-50)         2h    Male  26             Single  ...   \n",
       "\n",
       "       CoffeeHouse CarryAway RestaurantLessThan20 Restaurant20To50  \\\n",
       "0            never       NaN                  4~8              1~3   \n",
       "1            never       NaN                  4~8              1~3   \n",
       "2            never       NaN                  4~8              1~3   \n",
       "3            never       NaN                  4~8              1~3   \n",
       "4            never       NaN                  4~8              1~3   \n",
       "...            ...       ...                  ...              ...   \n",
       "12679        never       1~3                  4~8              1~3   \n",
       "12680        never       1~3                  4~8              1~3   \n",
       "12681        never       1~3                  4~8              1~3   \n",
       "12682        never       1~3                  4~8              1~3   \n",
       "12683        never       1~3                  4~8              1~3   \n",
       "\n",
       "      toCoupon_GEQ5min toCoupon_GEQ15min toCoupon_GEQ25min direction_same  \\\n",
       "0                    1                 0                 0              0   \n",
       "1                    1                 0                 0              0   \n",
       "2                    1                 1                 0              0   \n",
       "3                    1                 1                 0              0   \n",
       "4                    1                 1                 0              0   \n",
       "...                ...               ...               ...            ...   \n",
       "12679                1                 0                 0              1   \n",
       "12680                1                 0                 0              0   \n",
       "12681                1                 0                 0              1   \n",
       "12682                1                 1                 1              0   \n",
       "12683                1                 0                 0              1   \n",
       "\n",
       "      direction_opp  Y  \n",
       "0                 1  1  \n",
       "1                 1  0  \n",
       "2                 1  1  \n",
       "3                 1  0  \n",
       "4                 1  0  \n",
       "...             ... ..  \n",
       "12679             0  1  \n",
       "12680             1  1  \n",
       "12681             0  0  \n",
       "12682             1  0  \n",
       "12683             0  0  \n",
       "\n",
       "[12684 rows x 26 columns]"
      ]
     },
     "execution_count": 4,
     "metadata": {},
     "output_type": "execute_result"
    }
   ],
   "source": [
    "data"
   ]
  },
  {
   "cell_type": "code",
   "execution_count": 5,
   "metadata": {},
   "outputs": [
    {
     "name": "stdout",
     "output_type": "stream",
     "text": [
      "<class 'pandas.core.frame.DataFrame'>\n",
      "RangeIndex: 12684 entries, 0 to 12683\n",
      "Data columns (total 26 columns):\n",
      " #   Column                Non-Null Count  Dtype \n",
      "---  ------                --------------  ----- \n",
      " 0   destination           12684 non-null  object\n",
      " 1   passanger             12684 non-null  object\n",
      " 2   weather               12684 non-null  object\n",
      " 3   temperature           12684 non-null  int64 \n",
      " 4   time                  12684 non-null  object\n",
      " 5   coupon                12684 non-null  object\n",
      " 6   expiration            12684 non-null  object\n",
      " 7   gender                12684 non-null  object\n",
      " 8   age                   12684 non-null  object\n",
      " 9   maritalStatus         12684 non-null  object\n",
      " 10  has_children          12684 non-null  int64 \n",
      " 11  education             12684 non-null  object\n",
      " 12  occupation            12684 non-null  object\n",
      " 13  income                12684 non-null  object\n",
      " 14  car                   108 non-null    object\n",
      " 15  Bar                   12577 non-null  object\n",
      " 16  CoffeeHouse           12467 non-null  object\n",
      " 17  CarryAway             12533 non-null  object\n",
      " 18  RestaurantLessThan20  12554 non-null  object\n",
      " 19  Restaurant20To50      12495 non-null  object\n",
      " 20  toCoupon_GEQ5min      12684 non-null  int64 \n",
      " 21  toCoupon_GEQ15min     12684 non-null  int64 \n",
      " 22  toCoupon_GEQ25min     12684 non-null  int64 \n",
      " 23  direction_same        12684 non-null  int64 \n",
      " 24  direction_opp         12684 non-null  int64 \n",
      " 25  Y                     12684 non-null  int64 \n",
      "dtypes: int64(8), object(18)\n",
      "memory usage: 2.5+ MB\n"
     ]
    }
   ],
   "source": [
    "data.info()"
   ]
  },
  {
   "cell_type": "markdown",
   "metadata": {},
   "source": [
    "2. Investigate the dataset for missing or problematic data."
   ]
  },
  {
   "cell_type": "code",
   "execution_count": 6,
   "metadata": {},
   "outputs": [
    {
     "data": {
      "text/plain": [
       "destination\n",
       "No Urgent Place    6283\n",
       "Home               3237\n",
       "Work               3164\n",
       "Name: count, dtype: int64"
      ]
     },
     "execution_count": 6,
     "metadata": {},
     "output_type": "execute_result"
    }
   ],
   "source": [
    "#checking the different values of columns to see any problematic data\n",
    "data['destination'].value_counts()"
   ]
  },
  {
   "cell_type": "code",
   "execution_count": 7,
   "metadata": {},
   "outputs": [
    {
     "data": {
      "text/plain": [
       "passanger\n",
       "Alone        7305\n",
       "Friend(s)    3298\n",
       "Partner      1075\n",
       "Kid(s)       1006\n",
       "Name: count, dtype: int64"
      ]
     },
     "execution_count": 7,
     "metadata": {},
     "output_type": "execute_result"
    }
   ],
   "source": [
    "data['passanger'].value_counts()"
   ]
  },
  {
   "cell_type": "code",
   "execution_count": 8,
   "metadata": {},
   "outputs": [
    {
     "data": {
      "text/plain": [
       "weather\n",
       "Sunny    10069\n",
       "Snowy     1405\n",
       "Rainy     1210\n",
       "Name: count, dtype: int64"
      ]
     },
     "execution_count": 8,
     "metadata": {},
     "output_type": "execute_result"
    }
   ],
   "source": [
    "data['weather'].value_counts()"
   ]
  },
  {
   "cell_type": "code",
   "execution_count": 9,
   "metadata": {},
   "outputs": [
    {
     "data": {
      "text/plain": [
       "temperature\n",
       "80    6528\n",
       "55    3840\n",
       "30    2316\n",
       "Name: count, dtype: int64"
      ]
     },
     "execution_count": 9,
     "metadata": {},
     "output_type": "execute_result"
    }
   ],
   "source": [
    "data['temperature'].value_counts()"
   ]
  },
  {
   "cell_type": "code",
   "execution_count": 10,
   "metadata": {},
   "outputs": [
    {
     "data": {
      "text/plain": [
       "time\n",
       "6PM     3230\n",
       "7AM     3164\n",
       "10AM    2275\n",
       "2PM     2009\n",
       "10PM    2006\n",
       "Name: count, dtype: int64"
      ]
     },
     "execution_count": 10,
     "metadata": {},
     "output_type": "execute_result"
    }
   ],
   "source": [
    "data['time'].value_counts()"
   ]
  },
  {
   "cell_type": "code",
   "execution_count": 11,
   "metadata": {},
   "outputs": [
    {
     "data": {
      "text/plain": [
       "coupon\n",
       "Coffee House             3996\n",
       "Restaurant(<20)          2786\n",
       "Carry out & Take away    2393\n",
       "Bar                      2017\n",
       "Restaurant(20-50)        1492\n",
       "Name: count, dtype: int64"
      ]
     },
     "execution_count": 11,
     "metadata": {},
     "output_type": "execute_result"
    }
   ],
   "source": [
    "data['coupon'].value_counts()"
   ]
  },
  {
   "cell_type": "code",
   "execution_count": 12,
   "metadata": {},
   "outputs": [
    {
     "data": {
      "text/plain": [
       "expiration\n",
       "1d    7091\n",
       "2h    5593\n",
       "Name: count, dtype: int64"
      ]
     },
     "execution_count": 12,
     "metadata": {},
     "output_type": "execute_result"
    }
   ],
   "source": [
    "data['expiration'].value_counts()"
   ]
  },
  {
   "cell_type": "code",
   "execution_count": 13,
   "metadata": {},
   "outputs": [
    {
     "data": {
      "text/plain": [
       "gender\n",
       "Female    6511\n",
       "Male      6173\n",
       "Name: count, dtype: int64"
      ]
     },
     "execution_count": 13,
     "metadata": {},
     "output_type": "execute_result"
    }
   ],
   "source": [
    "data['gender'].value_counts()"
   ]
  },
  {
   "cell_type": "code",
   "execution_count": 14,
   "metadata": {},
   "outputs": [
    {
     "data": {
      "text/plain": [
       "age\n",
       "21         2653\n",
       "26         2559\n",
       "31         2039\n",
       "50plus     1788\n",
       "36         1319\n",
       "41         1093\n",
       "46          686\n",
       "below21     547\n",
       "Name: count, dtype: int64"
      ]
     },
     "execution_count": 14,
     "metadata": {},
     "output_type": "execute_result"
    }
   ],
   "source": [
    "data['age'].value_counts()"
   ]
  },
  {
   "cell_type": "code",
   "execution_count": 15,
   "metadata": {},
   "outputs": [
    {
     "data": {
      "text/plain": [
       "maritalStatus\n",
       "Married partner      5100\n",
       "Single               4752\n",
       "Unmarried partner    2186\n",
       "Divorced              516\n",
       "Widowed               130\n",
       "Name: count, dtype: int64"
      ]
     },
     "execution_count": 15,
     "metadata": {},
     "output_type": "execute_result"
    }
   ],
   "source": [
    "data['maritalStatus'].value_counts()"
   ]
  },
  {
   "cell_type": "code",
   "execution_count": 16,
   "metadata": {},
   "outputs": [
    {
     "data": {
      "text/plain": [
       "has_children\n",
       "0    7431\n",
       "1    5253\n",
       "Name: count, dtype: int64"
      ]
     },
     "execution_count": 16,
     "metadata": {},
     "output_type": "execute_result"
    }
   ],
   "source": [
    "data['has_children'].value_counts()"
   ]
  },
  {
   "cell_type": "code",
   "execution_count": 17,
   "metadata": {},
   "outputs": [
    {
     "data": {
      "text/plain": [
       "education\n",
       "Some college - no degree                  4351\n",
       "Bachelors degree                          4335\n",
       "Graduate degree (Masters or Doctorate)    1852\n",
       "Associates degree                         1153\n",
       "High School Graduate                       905\n",
       "Some High School                            88\n",
       "Name: count, dtype: int64"
      ]
     },
     "execution_count": 17,
     "metadata": {},
     "output_type": "execute_result"
    }
   ],
   "source": [
    "data['education'].value_counts()"
   ]
  },
  {
   "cell_type": "code",
   "execution_count": 18,
   "metadata": {},
   "outputs": [
    {
     "data": {
      "text/plain": [
       "occupation\n",
       "Unemployed                                   1870\n",
       "Student                                      1584\n",
       "Computer & Mathematical                      1408\n",
       "Sales & Related                              1093\n",
       "Education&Training&Library                    943\n",
       "Management                                    838\n",
       "Office & Administrative Support               639\n",
       "Arts Design Entertainment Sports & Media      629\n",
       "Business & Financial                          544\n",
       "Retired                                       495\n",
       "Food Preparation & Serving Related            298\n",
       "Healthcare Practitioners & Technical          244\n",
       "Healthcare Support                            242\n",
       "Community & Social Services                   241\n",
       "Legal                                         219\n",
       "Transportation & Material Moving              218\n",
       "Architecture & Engineering                    175\n",
       "Personal Care & Service                       175\n",
       "Protective Service                            175\n",
       "Life Physical Social Science                  170\n",
       "Construction & Extraction                     154\n",
       "Installation Maintenance & Repair             133\n",
       "Production Occupations                        110\n",
       "Building & Grounds Cleaning & Maintenance      44\n",
       "Farming Fishing & Forestry                     43\n",
       "Name: count, dtype: int64"
      ]
     },
     "execution_count": 18,
     "metadata": {},
     "output_type": "execute_result"
    }
   ],
   "source": [
    "data['occupation'].value_counts()"
   ]
  },
  {
   "cell_type": "code",
   "execution_count": 19,
   "metadata": {},
   "outputs": [
    {
     "data": {
      "text/plain": [
       "income\n",
       "$25000 - $37499     2013\n",
       "$12500 - $24999     1831\n",
       "$37500 - $49999     1805\n",
       "$100000 or More     1736\n",
       "$50000 - $62499     1659\n",
       "Less than $12500    1042\n",
       "$87500 - $99999      895\n",
       "$75000 - $87499      857\n",
       "$62500 - $74999      846\n",
       "Name: count, dtype: int64"
      ]
     },
     "execution_count": 19,
     "metadata": {},
     "output_type": "execute_result"
    }
   ],
   "source": [
    "data['income'].value_counts()"
   ]
  },
  {
   "cell_type": "code",
   "execution_count": 20,
   "metadata": {},
   "outputs": [
    {
     "data": {
      "text/plain": [
       "car\n",
       "Scooter and motorcycle                      22\n",
       "Mazda5                                      22\n",
       "do not drive                                22\n",
       "crossover                                   21\n",
       "Car that is too old to install Onstar :D    21\n",
       "Name: count, dtype: int64"
      ]
     },
     "execution_count": 20,
     "metadata": {},
     "output_type": "execute_result"
    }
   ],
   "source": [
    "data['car'].value_counts()"
   ]
  },
  {
   "cell_type": "code",
   "execution_count": 21,
   "metadata": {},
   "outputs": [
    {
     "data": {
      "text/plain": [
       "Bar\n",
       "never    5197\n",
       "less1    3482\n",
       "1~3      2473\n",
       "4~8      1076\n",
       "gt8       349\n",
       "Name: count, dtype: int64"
      ]
     },
     "execution_count": 21,
     "metadata": {},
     "output_type": "execute_result"
    }
   ],
   "source": [
    "data['Bar'].value_counts()"
   ]
  },
  {
   "cell_type": "code",
   "execution_count": 22,
   "metadata": {},
   "outputs": [
    {
     "data": {
      "text/plain": [
       "CoffeeHouse\n",
       "less1    3385\n",
       "1~3      3225\n",
       "never    2962\n",
       "4~8      1784\n",
       "gt8      1111\n",
       "Name: count, dtype: int64"
      ]
     },
     "execution_count": 22,
     "metadata": {},
     "output_type": "execute_result"
    }
   ],
   "source": [
    "data['CoffeeHouse'].value_counts()"
   ]
  },
  {
   "cell_type": "code",
   "execution_count": 23,
   "metadata": {},
   "outputs": [
    {
     "data": {
      "text/plain": [
       "CarryAway\n",
       "1~3      4672\n",
       "4~8      4258\n",
       "less1    1856\n",
       "gt8      1594\n",
       "never     153\n",
       "Name: count, dtype: int64"
      ]
     },
     "execution_count": 23,
     "metadata": {},
     "output_type": "execute_result"
    }
   ],
   "source": [
    "data['CarryAway'].value_counts()"
   ]
  },
  {
   "cell_type": "code",
   "execution_count": 24,
   "metadata": {},
   "outputs": [
    {
     "data": {
      "text/plain": [
       "RestaurantLessThan20\n",
       "1~3      5376\n",
       "4~8      3580\n",
       "less1    2093\n",
       "gt8      1285\n",
       "never     220\n",
       "Name: count, dtype: int64"
      ]
     },
     "execution_count": 24,
     "metadata": {},
     "output_type": "execute_result"
    }
   ],
   "source": [
    "data['RestaurantLessThan20'].value_counts()"
   ]
  },
  {
   "cell_type": "code",
   "execution_count": 25,
   "metadata": {},
   "outputs": [
    {
     "data": {
      "text/plain": [
       "Restaurant20To50\n",
       "less1    6077\n",
       "1~3      3290\n",
       "never    2136\n",
       "4~8       728\n",
       "gt8       264\n",
       "Name: count, dtype: int64"
      ]
     },
     "execution_count": 25,
     "metadata": {},
     "output_type": "execute_result"
    }
   ],
   "source": [
    "data['Restaurant20To50'].value_counts()"
   ]
  },
  {
   "cell_type": "code",
   "execution_count": 26,
   "metadata": {},
   "outputs": [
    {
     "data": {
      "text/plain": [
       "toCoupon_GEQ5min\n",
       "1    12684\n",
       "Name: count, dtype: int64"
      ]
     },
     "execution_count": 26,
     "metadata": {},
     "output_type": "execute_result"
    }
   ],
   "source": [
    "data['toCoupon_GEQ5min'].value_counts()"
   ]
  },
  {
   "cell_type": "code",
   "execution_count": 27,
   "metadata": {},
   "outputs": [
    {
     "data": {
      "text/plain": [
       "toCoupon_GEQ15min\n",
       "1    7122\n",
       "0    5562\n",
       "Name: count, dtype: int64"
      ]
     },
     "execution_count": 27,
     "metadata": {},
     "output_type": "execute_result"
    }
   ],
   "source": [
    "data['toCoupon_GEQ15min'].value_counts()"
   ]
  },
  {
   "cell_type": "code",
   "execution_count": 28,
   "metadata": {},
   "outputs": [
    {
     "data": {
      "text/plain": [
       "toCoupon_GEQ25min\n",
       "0    11173\n",
       "1     1511\n",
       "Name: count, dtype: int64"
      ]
     },
     "execution_count": 28,
     "metadata": {},
     "output_type": "execute_result"
    }
   ],
   "source": [
    "data['toCoupon_GEQ25min'].value_counts()"
   ]
  },
  {
   "cell_type": "code",
   "execution_count": 29,
   "metadata": {},
   "outputs": [
    {
     "data": {
      "text/plain": [
       "direction_same\n",
       "0    9960\n",
       "1    2724\n",
       "Name: count, dtype: int64"
      ]
     },
     "execution_count": 29,
     "metadata": {},
     "output_type": "execute_result"
    }
   ],
   "source": [
    "data['direction_same'].value_counts()"
   ]
  },
  {
   "cell_type": "code",
   "execution_count": 30,
   "metadata": {},
   "outputs": [
    {
     "data": {
      "text/plain": [
       "direction_opp\n",
       "1    9960\n",
       "0    2724\n",
       "Name: count, dtype: int64"
      ]
     },
     "execution_count": 30,
     "metadata": {},
     "output_type": "execute_result"
    }
   ],
   "source": [
    "data['direction_opp'].value_counts()"
   ]
  },
  {
   "cell_type": "code",
   "execution_count": 31,
   "metadata": {},
   "outputs": [
    {
     "data": {
      "text/plain": [
       "Y\n",
       "1    7210\n",
       "0    5474\n",
       "Name: count, dtype: int64"
      ]
     },
     "execution_count": 31,
     "metadata": {},
     "output_type": "execute_result"
    }
   ],
   "source": [
    "data['Y'].value_counts()"
   ]
  },
  {
   "cell_type": "markdown",
   "metadata": {},
   "source": [
    "*Data don't look problematic*"
   ]
  },
  {
   "cell_type": "code",
   "execution_count": 32,
   "metadata": {},
   "outputs": [
    {
     "name": "stdout",
     "output_type": "stream",
     "text": [
      "destination                 0\n",
      "passanger                   0\n",
      "weather                     0\n",
      "temperature                 0\n",
      "time                        0\n",
      "coupon                      0\n",
      "expiration                  0\n",
      "gender                      0\n",
      "age                         0\n",
      "maritalStatus               0\n",
      "has_children                0\n",
      "education                   0\n",
      "occupation                  0\n",
      "income                      0\n",
      "car                     12576\n",
      "Bar                       107\n",
      "CoffeeHouse               217\n",
      "CarryAway                 151\n",
      "RestaurantLessThan20      130\n",
      "Restaurant20To50          189\n",
      "toCoupon_GEQ5min            0\n",
      "toCoupon_GEQ15min           0\n",
      "toCoupon_GEQ25min           0\n",
      "direction_same              0\n",
      "direction_opp               0\n",
      "Y                           0\n",
      "dtype: int64\n"
     ]
    }
   ],
   "source": [
    "# Count missing values in each column\n",
    "missing_data_count = data.isnull().sum()\n",
    "print(missing_data_count)"
   ]
  },
  {
   "cell_type": "markdown",
   "metadata": {},
   "source": [
    "*There is missing data on user's car, and user's habits on food*"
   ]
  },
  {
   "cell_type": "markdown",
   "metadata": {},
   "source": [
    "# Data cleaning & Preprocessnig\n",
    "\n",
    "3. Decide what to do about your missing data -- drop, replace, other..."
   ]
  },
  {
   "cell_type": "markdown",
   "metadata": {},
   "source": [
    "As there is 12684 rows in total, the column `car` with 12576 won't be used, because there is too few filled.\n",
    "\n",
    "Because, I don't want to remove lines from the dataset, I choose to add an \"Unknown\" category when we have no data on the other columns."
   ]
  },
  {
   "cell_type": "code",
   "execution_count": 35,
   "metadata": {},
   "outputs": [],
   "source": [
    "# deletion of the useless column car\n",
    "data = data.drop('car', axis=1)\n",
    "# renaming empty value by Unknown\n",
    "data = data.fillna('Unknown')\n",
    "# renaming of values and columns for clarity and ease of use\n",
    "data = data.copy()\n",
    "data.loc[data['direction_same'] == 0, 'direction_same'] = 'opposite'\n",
    "data.loc[data['direction_same'] == 1, 'direction_same'] = 'same'\n",
    "data.loc[data['Y'] == 0, 'Y'] = 'Rejected'\n",
    "data.loc[data['Y'] == 1, 'Y'] = 'Accepted'\n",
    "data.rename(columns={'passanger': 'passenger'}, inplace=True)\n",
    "data.rename(columns={'direction_same': 'direction'}, inplace=True)\n",
    "# deletion of useless column\n",
    "data = data.drop(columns=['direction_opp'])"
   ]
  },
  {
   "cell_type": "markdown",
   "metadata": {},
   "source": [
    "Saving the preprocessed data into a new csv"
   ]
  },
  {
   "cell_type": "code",
   "execution_count": 36,
   "metadata": {},
   "outputs": [],
   "source": [
    "data.to_csv('data/cleaned_coupons.csv', index=False)"
   ]
  },
  {
   "cell_type": "markdown",
   "metadata": {},
   "source": [
    "# Exploratory data analysis\n",
    "\n",
    "## Global exploration\n",
    "\n",
    "4. What proportion of the total observations chose to accept the coupon? "
   ]
  },
  {
   "cell_type": "code",
   "execution_count": 39,
   "metadata": {},
   "outputs": [
    {
     "name": "stdout",
     "output_type": "stream",
     "text": [
      "Proportion of customers who accepted the coupon: 56.84%\n"
     ]
    }
   ],
   "source": [
    "df = data.copy()\n",
    "\n",
    "# Count the occurrences of each unique value in the 'Y' column\n",
    "acceptance_counts = df[df['Y'] == 'Accepted'].shape[0]\n",
    "\n",
    "# Calculate the proportion of customers who accepted the coupon (Y = 1)\n",
    "proportion_accepted = acceptance_counts / len(df)\n",
    "\n",
    "print(f\"Proportion of customers who accepted the coupon: {proportion_accepted:.2%}\")"
   ]
  },
  {
   "cell_type": "markdown",
   "metadata": {},
   "source": [
    "5. Use a bar plot to visualize the `coupon` column."
   ]
  },
  {
   "cell_type": "code",
   "execution_count": 55,
   "metadata": {},
   "outputs": [
    {
     "data": {
      "image/png": "[encoded data removed]",
      "text/plain": [
       "<Figure size 800x600 with 1 Axes>"
      ]
     },
     "metadata": {},
     "output_type": "display_data"
    }
   ],
   "source": [
    "# Build the bar plot with Seaborn\n",
    "plt.figure(figsize=(8, 6))\n",
    "sns.countplot(data=df.sort_values('coupon'), x='coupon', hue='Y')\n",
    "\n",
    "# Update titles and labels\n",
    "plt.title('Distribution of Coupon acceptance by type of coupon')\n",
    "plt.xlabel('Coupon Type')\n",
    "plt.ylabel('Count')\n",
    "\n",
    "# Change the legend labels\n",
    "plt.legend(title='')\n",
    "\n",
    "# Rotate x-axis labels by 45 degrees\n",
    "plt.xticks(rotation=45)\n",
    "\n",
    "# Display the plot\n",
    "plt.show()"
   ]
  },
  {
   "cell_type": "markdown",
   "metadata": {},
   "source": [
    "6. Use a histogram to visualize the temperature column."
   ]
  },
  {
   "cell_type": "code",
   "execution_count": 53,
   "metadata": {},
   "outputs": [
    {
     "data": {
      "image/png": "[encoded data removed]",
      "text/plain": [
       "<Figure size 800x600 with 1 Axes>"
      ]
     },
     "metadata": {},
     "output_type": "display_data"
    }
   ],
   "source": [
    "# Build the histogram plot with Seaborn\n",
    "plt.figure(figsize=(8, 6))\n",
    "sns.histplot(data=df, x='temperature', hue='Y', multiple='stack')\n",
    "\n",
    "# Update titles and labels\n",
    "plt.title('Distribution of Coupon acceptance by temperature')\n",
    "plt.xlabel('Temperature')\n",
    "plt.ylabel('Count')\n",
    "\n",
    "# Change the legend labels\n",
    "plt.legend(title='', labels=['Rejected', 'Accepted'])\n",
    "\n",
    "# Display the plot\n",
    "plt.show()"
   ]
  },
  {
   "cell_type": "markdown",
   "metadata": {},
   "source": [
    "## Investigating the Bar Coupons\n",
    "\n",
    "Now, we will lead you through an exploration of just the bar related coupons.  \n",
    "\n",
    "1. Create a new `DataFrame` that contains just the bar coupons.\n"
   ]
  },
  {
   "cell_type": "code",
   "execution_count": 72,
   "metadata": {},
   "outputs": [
    {
     "data": {
      "text/html": [
       "<div>\n",
       "<style scoped>\n",
       "    .dataframe tbody tr th:only-of-type {\n",
       "        vertical-align: middle;\n",
       "    }\n",
       "\n",
       "    .dataframe tbody tr th {\n",
       "        vertical-align: top;\n",
       "    }\n",
       "\n",
       "    .dataframe thead th {\n",
       "        text-align: right;\n",
       "    }\n",
       "</style>\n",
       "<table border=\"1\" class=\"dataframe\">\n",
       "  <thead>\n",
       "    <tr style=\"text-align: right;\">\n",
       "      <th></th>\n",
       "      <th>destination</th>\n",
       "      <th>passenger</th>\n",
       "      <th>weather</th>\n",
       "      <th>temperature</th>\n",
       "      <th>time</th>\n",
       "      <th>coupon</th>\n",
       "      <th>expiration</th>\n",
       "      <th>gender</th>\n",
       "      <th>age</th>\n",
       "      <th>maritalStatus</th>\n",
       "      <th>...</th>\n",
       "      <th>Bar</th>\n",
       "      <th>CoffeeHouse</th>\n",
       "      <th>CarryAway</th>\n",
       "      <th>RestaurantLessThan20</th>\n",
       "      <th>Restaurant20To50</th>\n",
       "      <th>toCoupon_GEQ5min</th>\n",
       "      <th>toCoupon_GEQ15min</th>\n",
       "      <th>toCoupon_GEQ25min</th>\n",
       "      <th>direction</th>\n",
       "      <th>Y</th>\n",
       "    </tr>\n",
       "  </thead>\n",
       "  <tbody>\n",
       "    <tr>\n",
       "      <th>9</th>\n",
       "      <td>No Urgent Place</td>\n",
       "      <td>Kid(s)</td>\n",
       "      <td>Sunny</td>\n",
       "      <td>80</td>\n",
       "      <td>10AM</td>\n",
       "      <td>Bar</td>\n",
       "      <td>1d</td>\n",
       "      <td>Female</td>\n",
       "      <td>21</td>\n",
       "      <td>Unmarried partner</td>\n",
       "      <td>...</td>\n",
       "      <td>never</td>\n",
       "      <td>never</td>\n",
       "      <td>Unknown</td>\n",
       "      <td>4~8</td>\n",
       "      <td>1~3</td>\n",
       "      <td>1</td>\n",
       "      <td>1</td>\n",
       "      <td>0</td>\n",
       "      <td>opposite</td>\n",
       "      <td>Rejected</td>\n",
       "    </tr>\n",
       "    <tr>\n",
       "      <th>13</th>\n",
       "      <td>Home</td>\n",
       "      <td>Alone</td>\n",
       "      <td>Sunny</td>\n",
       "      <td>55</td>\n",
       "      <td>6PM</td>\n",
       "      <td>Bar</td>\n",
       "      <td>1d</td>\n",
       "      <td>Female</td>\n",
       "      <td>21</td>\n",
       "      <td>Unmarried partner</td>\n",
       "      <td>...</td>\n",
       "      <td>never</td>\n",
       "      <td>never</td>\n",
       "      <td>Unknown</td>\n",
       "      <td>4~8</td>\n",
       "      <td>1~3</td>\n",
       "      <td>1</td>\n",
       "      <td>0</td>\n",
       "      <td>0</td>\n",
       "      <td>same</td>\n",
       "      <td>Accepted</td>\n",
       "    </tr>\n",
       "    <tr>\n",
       "      <th>17</th>\n",
       "      <td>Work</td>\n",
       "      <td>Alone</td>\n",
       "      <td>Sunny</td>\n",
       "      <td>55</td>\n",
       "      <td>7AM</td>\n",
       "      <td>Bar</td>\n",
       "      <td>1d</td>\n",
       "      <td>Female</td>\n",
       "      <td>21</td>\n",
       "      <td>Unmarried partner</td>\n",
       "      <td>...</td>\n",
       "      <td>never</td>\n",
       "      <td>never</td>\n",
       "      <td>Unknown</td>\n",
       "      <td>4~8</td>\n",
       "      <td>1~3</td>\n",
       "      <td>1</td>\n",
       "      <td>1</td>\n",
       "      <td>1</td>\n",
       "      <td>opposite</td>\n",
       "      <td>Rejected</td>\n",
       "    </tr>\n",
       "    <tr>\n",
       "      <th>24</th>\n",
       "      <td>No Urgent Place</td>\n",
       "      <td>Friend(s)</td>\n",
       "      <td>Sunny</td>\n",
       "      <td>80</td>\n",
       "      <td>10AM</td>\n",
       "      <td>Bar</td>\n",
       "      <td>1d</td>\n",
       "      <td>Male</td>\n",
       "      <td>21</td>\n",
       "      <td>Single</td>\n",
       "      <td>...</td>\n",
       "      <td>never</td>\n",
       "      <td>less1</td>\n",
       "      <td>4~8</td>\n",
       "      <td>4~8</td>\n",
       "      <td>less1</td>\n",
       "      <td>1</td>\n",
       "      <td>0</td>\n",
       "      <td>0</td>\n",
       "      <td>opposite</td>\n",
       "      <td>Accepted</td>\n",
       "    </tr>\n",
       "    <tr>\n",
       "      <th>35</th>\n",
       "      <td>Home</td>\n",
       "      <td>Alone</td>\n",
       "      <td>Sunny</td>\n",
       "      <td>55</td>\n",
       "      <td>6PM</td>\n",
       "      <td>Bar</td>\n",
       "      <td>1d</td>\n",
       "      <td>Male</td>\n",
       "      <td>21</td>\n",
       "      <td>Single</td>\n",
       "      <td>...</td>\n",
       "      <td>never</td>\n",
       "      <td>less1</td>\n",
       "      <td>4~8</td>\n",
       "      <td>4~8</td>\n",
       "      <td>less1</td>\n",
       "      <td>1</td>\n",
       "      <td>0</td>\n",
       "      <td>0</td>\n",
       "      <td>same</td>\n",
       "      <td>Accepted</td>\n",
       "    </tr>\n",
       "    <tr>\n",
       "      <th>...</th>\n",
       "      <td>...</td>\n",
       "      <td>...</td>\n",
       "      <td>...</td>\n",
       "      <td>...</td>\n",
       "      <td>...</td>\n",
       "      <td>...</td>\n",
       "      <td>...</td>\n",
       "      <td>...</td>\n",
       "      <td>...</td>\n",
       "      <td>...</td>\n",
       "      <td>...</td>\n",
       "      <td>...</td>\n",
       "      <td>...</td>\n",
       "      <td>...</td>\n",
       "      <td>...</td>\n",
       "      <td>...</td>\n",
       "      <td>...</td>\n",
       "      <td>...</td>\n",
       "      <td>...</td>\n",
       "      <td>...</td>\n",
       "      <td>...</td>\n",
       "    </tr>\n",
       "    <tr>\n",
       "      <th>12663</th>\n",
       "      <td>No Urgent Place</td>\n",
       "      <td>Friend(s)</td>\n",
       "      <td>Sunny</td>\n",
       "      <td>80</td>\n",
       "      <td>10PM</td>\n",
       "      <td>Bar</td>\n",
       "      <td>1d</td>\n",
       "      <td>Male</td>\n",
       "      <td>26</td>\n",
       "      <td>Single</td>\n",
       "      <td>...</td>\n",
       "      <td>never</td>\n",
       "      <td>never</td>\n",
       "      <td>1~3</td>\n",
       "      <td>4~8</td>\n",
       "      <td>1~3</td>\n",
       "      <td>1</td>\n",
       "      <td>1</td>\n",
       "      <td>0</td>\n",
       "      <td>opposite</td>\n",
       "      <td>Rejected</td>\n",
       "    </tr>\n",
       "    <tr>\n",
       "      <th>12664</th>\n",
       "      <td>No Urgent Place</td>\n",
       "      <td>Friend(s)</td>\n",
       "      <td>Sunny</td>\n",
       "      <td>55</td>\n",
       "      <td>10PM</td>\n",
       "      <td>Bar</td>\n",
       "      <td>2h</td>\n",
       "      <td>Male</td>\n",
       "      <td>26</td>\n",
       "      <td>Single</td>\n",
       "      <td>...</td>\n",
       "      <td>never</td>\n",
       "      <td>never</td>\n",
       "      <td>1~3</td>\n",
       "      <td>4~8</td>\n",
       "      <td>1~3</td>\n",
       "      <td>1</td>\n",
       "      <td>1</td>\n",
       "      <td>0</td>\n",
       "      <td>opposite</td>\n",
       "      <td>Rejected</td>\n",
       "    </tr>\n",
       "    <tr>\n",
       "      <th>12667</th>\n",
       "      <td>No Urgent Place</td>\n",
       "      <td>Alone</td>\n",
       "      <td>Rainy</td>\n",
       "      <td>55</td>\n",
       "      <td>10AM</td>\n",
       "      <td>Bar</td>\n",
       "      <td>1d</td>\n",
       "      <td>Male</td>\n",
       "      <td>26</td>\n",
       "      <td>Single</td>\n",
       "      <td>...</td>\n",
       "      <td>never</td>\n",
       "      <td>never</td>\n",
       "      <td>1~3</td>\n",
       "      <td>4~8</td>\n",
       "      <td>1~3</td>\n",
       "      <td>1</td>\n",
       "      <td>1</td>\n",
       "      <td>0</td>\n",
       "      <td>opposite</td>\n",
       "      <td>Rejected</td>\n",
       "    </tr>\n",
       "    <tr>\n",
       "      <th>12670</th>\n",
       "      <td>No Urgent Place</td>\n",
       "      <td>Partner</td>\n",
       "      <td>Rainy</td>\n",
       "      <td>55</td>\n",
       "      <td>6PM</td>\n",
       "      <td>Bar</td>\n",
       "      <td>2h</td>\n",
       "      <td>Male</td>\n",
       "      <td>26</td>\n",
       "      <td>Single</td>\n",
       "      <td>...</td>\n",
       "      <td>never</td>\n",
       "      <td>never</td>\n",
       "      <td>1~3</td>\n",
       "      <td>4~8</td>\n",
       "      <td>1~3</td>\n",
       "      <td>1</td>\n",
       "      <td>1</td>\n",
       "      <td>0</td>\n",
       "      <td>opposite</td>\n",
       "      <td>Rejected</td>\n",
       "    </tr>\n",
       "    <tr>\n",
       "      <th>12682</th>\n",
       "      <td>Work</td>\n",
       "      <td>Alone</td>\n",
       "      <td>Snowy</td>\n",
       "      <td>30</td>\n",
       "      <td>7AM</td>\n",
       "      <td>Bar</td>\n",
       "      <td>1d</td>\n",
       "      <td>Male</td>\n",
       "      <td>26</td>\n",
       "      <td>Single</td>\n",
       "      <td>...</td>\n",
       "      <td>never</td>\n",
       "      <td>never</td>\n",
       "      <td>1~3</td>\n",
       "      <td>4~8</td>\n",
       "      <td>1~3</td>\n",
       "      <td>1</td>\n",
       "      <td>1</td>\n",
       "      <td>1</td>\n",
       "      <td>opposite</td>\n",
       "      <td>Rejected</td>\n",
       "    </tr>\n",
       "  </tbody>\n",
       "</table>\n",
       "<p>2017 rows × 24 columns</p>\n",
       "</div>"
      ],
      "text/plain": [
       "           destination  passenger weather  temperature  time coupon  \\\n",
       "9      No Urgent Place     Kid(s)   Sunny           80  10AM    Bar   \n",
       "13                Home      Alone   Sunny           55   6PM    Bar   \n",
       "17                Work      Alone   Sunny           55   7AM    Bar   \n",
       "24     No Urgent Place  Friend(s)   Sunny           80  10AM    Bar   \n",
       "35                Home      Alone   Sunny           55   6PM    Bar   \n",
       "...                ...        ...     ...          ...   ...    ...   \n",
       "12663  No Urgent Place  Friend(s)   Sunny           80  10PM    Bar   \n",
       "12664  No Urgent Place  Friend(s)   Sunny           55  10PM    Bar   \n",
       "12667  No Urgent Place      Alone   Rainy           55  10AM    Bar   \n",
       "12670  No Urgent Place    Partner   Rainy           55   6PM    Bar   \n",
       "12682             Work      Alone   Snowy           30   7AM    Bar   \n",
       "\n",
       "      expiration  gender age      maritalStatus  ...    Bar CoffeeHouse  \\\n",
       "9             1d  Female  21  Unmarried partner  ...  never       never   \n",
       "13            1d  Female  21  Unmarried partner  ...  never       never   \n",
       "17            1d  Female  21  Unmarried partner  ...  never       never   \n",
       "24            1d    Male  21             Single  ...  never       less1   \n",
       "35            1d    Male  21             Single  ...  never       less1   \n",
       "...          ...     ...  ..                ...  ...    ...         ...   \n",
       "12663         1d    Male  26             Single  ...  never       never   \n",
       "12664         2h    Male  26             Single  ...  never       never   \n",
       "12667         1d    Male  26             Single  ...  never       never   \n",
       "12670         2h    Male  26             Single  ...  never       never   \n",
       "12682         1d    Male  26             Single  ...  never       never   \n",
       "\n",
       "      CarryAway RestaurantLessThan20 Restaurant20To50 toCoupon_GEQ5min  \\\n",
       "9       Unknown                  4~8              1~3                1   \n",
       "13      Unknown                  4~8              1~3                1   \n",
       "17      Unknown                  4~8              1~3                1   \n",
       "24          4~8                  4~8            less1                1   \n",
       "35          4~8                  4~8            less1                1   \n",
       "...         ...                  ...              ...              ...   \n",
       "12663       1~3                  4~8              1~3                1   \n",
       "12664       1~3                  4~8              1~3                1   \n",
       "12667       1~3                  4~8              1~3                1   \n",
       "12670       1~3                  4~8              1~3                1   \n",
       "12682       1~3                  4~8              1~3                1   \n",
       "\n",
       "      toCoupon_GEQ15min toCoupon_GEQ25min direction         Y  \n",
       "9                     1                 0  opposite  Rejected  \n",
       "13                    0                 0      same  Accepted  \n",
       "17                    1                 1  opposite  Rejected  \n",
       "24                    0                 0  opposite  Accepted  \n",
       "35                    0                 0      same  Accepted  \n",
       "...                 ...               ...       ...       ...  \n",
       "12663                 1                 0  opposite  Rejected  \n",
       "12664                 1                 0  opposite  Rejected  \n",
       "12667                 1                 0  opposite  Rejected  \n",
       "12670                 1                 0  opposite  Rejected  \n",
       "12682                 1                 1  opposite  Rejected  \n",
       "\n",
       "[2017 rows x 24 columns]"
      ]
     },
     "execution_count": 72,
     "metadata": {},
     "output_type": "execute_result"
    }
   ],
   "source": [
    "bar_df = df.query('coupon == \"Bar\"')\n",
    "bar_df"
   ]
  },
  {
   "cell_type": "markdown",
   "metadata": {},
   "source": [
    "2. What proportion of bar coupons were accepted?\n"
   ]
  },
  {
   "cell_type": "code",
   "execution_count": 462,
   "metadata": {},
   "outputs": [
    {
     "name": "stdout",
     "output_type": "stream",
     "text": [
      "Number of customers who accepted the coupon: 827\n",
      "Total of customers who get the Bar coupon proposed: 2017\n",
      "Proportion of customers who accepted the coupon: 41.00%\n"
     ]
    }
   ],
   "source": [
    "# Count the occurrences of each unique value in the 'Y' column\n",
    "acceptance_counts = bar_df.query('Y == 1')['Y'].sum()\n",
    "print(f\"Number of customers who accepted the coupon: {acceptance_counts}\")\n",
    "print(f\"Total of customers who get the Bar coupon proposed: {len(bar_df)}\")\n",
    "\n",
    "# Calculate the proportion of customers who accepted the coupon (Y = 1)\n",
    "proportion_accepted = acceptance_counts / len(bar_df)\n",
    "\n",
    "print(f\"Proportion of customers who accepted the coupon: {proportion_accepted:.2%}\")"
   ]
  },
  {
   "cell_type": "markdown",
   "metadata": {},
   "source": [
    "### 41% of customers accepted the bar coupon"
   ]
  },
  {
   "cell_type": "markdown",
   "metadata": {},
   "source": [
    "3. Compare the acceptance rate between those who went to a bar 3 or fewer times a month to those who went more.\n"
   ]
  },
  {
   "cell_type": "code",
   "execution_count": 89,
   "metadata": {},
   "outputs": [],
   "source": [
    "# this function calculate the acceptance rate for a specific query and for a specific dataset\n",
    "# and display the result\n",
    "def calculate_acceptance_rate(query, data):\n",
    "    filtered_df = data.query(query)\n",
    "    # Calculate the count of 'Accepted' for the specified conditions\n",
    "    acceptance_counts = (filtered_df['Y'] == 'Accepted').sum()\n",
    "    # Calculate the total count for the specified conditions \n",
    "    total = len(filtered_df)\n",
    "    # Calculate the proportion of customers who accepted the coupon (Y = 1) for those \n",
    "    proportion_accepted = acceptance_counts / total\n",
    "    print(f\"Acceptance rate: {proportion_accepted:.1%}\")\n"
   ]
  },
  {
   "cell_type": "code",
   "execution_count": 95,
   "metadata": {},
   "outputs": [
    {
     "name": "stdout",
     "output_type": "stream",
     "text": [
      "Drivers who went to a bar 3 or fewer times a month \n",
      "Acceptance rate: 37.1%\n",
      "\n",
      "Drivers who went to a bar 4 or more times a month \n",
      "Acceptance rate: 76.9%\n"
     ]
    }
   ],
   "source": [
    "print('Drivers who went to a bar 3 or fewer times a month ')\n",
    "fewTimes = {'never', 'less1', '1~3'}\n",
    "calculate_acceptance_rate('Bar in @fewTimes', bar_df)\n",
    "print('')\n",
    "print('Drivers who went to a bar 4 or more times a month ')\n",
    "aLotTimes= {'4~8','gt8'}\n",
    "calculate_acceptance_rate('Bar in @aLotTimes', bar_df)"
   ]
  },
  {
   "cell_type": "markdown",
   "metadata": {},
   "source": [
    "### But only 37% accepted for those who go fewer times to a bar compared to 77% for those who go a lot of times to a bar"
   ]
  },
  {
   "cell_type": "markdown",
   "metadata": {},
   "source": [
    "4. Compare the acceptance rate between drivers who go to a bar more than once a month and are over the age of 25 to the all others.  Is there a difference?\n"
   ]
  },
  {
   "cell_type": "code",
   "execution_count": 94,
   "metadata": {},
   "outputs": [
    {
     "name": "stdout",
     "output_type": "stream",
     "text": [
      "Drivers who go to a bar more than once a month and are over the age of 25 \n",
      "Acceptance rate: 69.5%\n",
      "\n",
      "All other drivers\n",
      "Acceptance rate: 33.5%\n"
     ]
    }
   ],
   "source": [
    "# Custom function to handle '50plus' and 'below21' values in age column of data\n",
    "def age_converter(value):\n",
    "    if value == '50plus':\n",
    "        return 51  # Assuming '50plus' represents more than 50 years old\n",
    "    elif value == 'below21':\n",
    "        return 20  # Assuming 'below21' represents less than 21 years old\n",
    "    else:\n",
    "        return pd.to_numeric(value, errors='coerce')\n",
    "\n",
    "# Apply the custom function to the 'age' column\n",
    "bar_df.loc[:, 'age'] = bar_df['age'].apply(age_converter)\n",
    "\n",
    "print('Drivers who go to a bar more than once a month and are over the age of 25 ')\n",
    "#  Build the query \n",
    "barHabitSelection= {'1~3', '4~8', 'gt8'}\n",
    "query = 'Bar in @barHabitSelection and age > 25'\n",
    "calculate_acceptance_rate(query, bar_df)\n",
    "print('')\n",
    "print('All other drivers')\n",
    "query = '~(' + query + ')'\n",
    "calculate_acceptance_rate(query, bar_df)"
   ]
  },
  {
   "cell_type": "markdown",
   "metadata": {},
   "source": [
    "### The acceptance rate for the drivers who go to a bar MORE than once a month and are OVER the age of 25 is 70% while the acceptance rate for the drivers who go to a bar LESS than once a month or are UNDER the age of 25 is 34%. This is a big difference."
   ]
  },
  {
   "cell_type": "markdown",
   "metadata": {},
   "source": [
    "5. Use the same process to compare the acceptance rate between drivers who go to bars more than once a month and had passengers that were not a kid and had occupations other than farming, fishing, or forestry. \n"
   ]
  },
  {
   "cell_type": "code",
   "execution_count": 97,
   "metadata": {},
   "outputs": [
    {
     "name": "stdout",
     "output_type": "stream",
     "text": [
      "Drivers who go to bars more than once a month and had passengers that were not a kid and had occupations other than farming, fishing, or forestry \n",
      "Acceptance rate: 67.3%\n",
      "\n",
      "All other drivers\n",
      "Acceptance rate: 34.5%\n"
     ]
    }
   ],
   "source": [
    "print('Drivers who go to bars more than once a month and had passengers that were not a kid and had occupations other than farming, fishing, or forestry ')\n",
    "# Build the query\n",
    "barHabitSelection  = {'1~3', '4~8', 'gt8'}\n",
    "passengerSelection = {'Kid(s)', 'Alone'} \n",
    "query = 'Bar in @barHabitSelection and passenger in @passengerSelection and occupation != \"Farming Fishing & Forestry\"'\n",
    "calculate_acceptance_rate(query, bar_df)\n",
    "print('')\n",
    "print('All other drivers')\n",
    "query = '~(' + query + ')'\n",
    "calculate_acceptance_rate(query, bar_df)"
   ]
  },
  {
   "cell_type": "markdown",
   "metadata": {},
   "source": [
    "### The proportion of customers who accepted the coupon and who go to bars MORE than once a month and had passengers that were not a kid and had occupations other than farming, fishing, or forestry is 67.33%\n",
    "### While the proportion of customers who accepted the coupon and who go to bars LESS than once a month or had no passengers or passengers that were kid(s) or had a farming, fishing, or forestry occupation is only 34.47%"
   ]
  },
  {
   "cell_type": "markdown",
   "metadata": {},
   "source": [
    "6. Compare the acceptance rates between those drivers who:\n",
    "\n",
    "- go to bars more than once a month, had passengers that were not a kid, and were not widowed *OR*\n",
    "- go to bars more than once a month and are under the age of 30 *OR*\n",
    "- go to cheap restaurants more than 4 times a month and income is less than 50K. "
   ]
  },
  {
   "cell_type": "code",
   "execution_count": 100,
   "metadata": {},
   "outputs": [
    {
     "name": "stdout",
     "output_type": "stream",
     "text": [
      "Drivers who go to bars more than once a month, had passengers that were not a kid, and were not widowed\n",
      "Acceptance rate: 67.3%\n",
      "All other drivers\n",
      "Acceptance rate: 34.5%\n",
      "\n",
      "Drivers who go to bars more than once a month and are under the age of 30\n",
      "Acceptance rate: 72.2%\n",
      "All other drivers\n",
      "Acceptance rate: 34.6%\n",
      "\n",
      "Drivers who go to cheap restaurants more than 4 times a month and income is less than 50K\n",
      "Acceptance rate: 45.3%\n",
      "All other drivers\n",
      "Acceptance rate: 40.1%\n"
     ]
    }
   ],
   "source": [
    "print('Drivers who go to bars more than once a month, had passengers that were not a kid, and were not widowed')\n",
    "# Build the query\n",
    "barHabitSelection  = {'1~3', '4~8', 'gt8'}\n",
    "passengerSelection = {'Kid(s)', 'Alone'} \n",
    "query = 'Bar in @barHabitSelection and passenger in @passengerSelection and maritalStatus != \"Widowed\"'\n",
    "calculate_acceptance_rate(query, bar_df)\n",
    "print('All other drivers')\n",
    "query = '~(' + query + ')'\n",
    "calculate_acceptance_rate(query, bar_df)\n",
    "\n",
    "print('')\n",
    "print('Drivers who go to bars more than once a month and are under the age of 30')\n",
    "# Build the query\n",
    "query = 'Bar in @barHabitSelection and age < 30'\n",
    "calculate_acceptance_rate(query, bar_df)\n",
    "print('All other drivers')\n",
    "query = '~(' + query + ')'\n",
    "calculate_acceptance_rate(query, bar_df)\n",
    "\n",
    "print('')\n",
    "print('Drivers who go to cheap restaurants more than 4 times a month and income is less than 50K')\n",
    "# Build the query\n",
    "cheapRestaurantSelection = {'4~8','gt8'}\n",
    "incomeSelection = {'Less than $12500','$12500 - $24999','$25000 - $37499', '$37500 - $49999'}\n",
    "query = 'RestaurantLessThan20 in @cheapRestaurantSelection and income in @incomeSelection'\n",
    "calculate_acceptance_rate(query, bar_df)\n",
    "print('All other drivers')\n",
    "query = '~(' + query + ')'\n",
    "calculate_acceptance_rate(query, bar_df)"
   ]
  },
  {
   "cell_type": "markdown",
   "metadata": {},
   "source": [
    "7.  Based on these observations, what do you hypothesize about drivers who accepted the bar coupons?"
   ]
  },
  {
   "cell_type": "markdown",
   "metadata": {},
   "source": [
    "### Drivers who accepts Bar coupons are most likely the ones who used to go often to bars (more than 4 times a month). \n",
    "\n",
    "### Some criteria and habits increase the acceptance rate such as having passengers (except kids), being young (<30 years old), marital_status (not being widowed)\n",
    "\n",
    "### Others criteria such as habits on frequency to go to cheap restaurant and income doesn't impact much the acceptance rate.\n"
   ]
  },
  {
   "cell_type": "markdown",
   "metadata": {},
   "source": [
    "### Independent Investigation\n",
    "\n",
    "Using the bar coupon example as motivation, you are to explore one of the other coupon groups and try to determine the characteristics of passengers who accept the coupons.  "
   ]
  },
  {
   "cell_type": "markdown",
   "metadata": {},
   "source": [
    "## Investigating Coffee House coupon\n",
    "\n",
    "### What is the profile of customers who accept the coffee house coupon ?"
   ]
  },
  {
   "cell_type": "code",
   "execution_count": 101,
   "metadata": {},
   "outputs": [
    {
     "data": {
      "text/html": [
       "<div>\n",
       "<style scoped>\n",
       "    .dataframe tbody tr th:only-of-type {\n",
       "        vertical-align: middle;\n",
       "    }\n",
       "\n",
       "    .dataframe tbody tr th {\n",
       "        vertical-align: top;\n",
       "    }\n",
       "\n",
       "    .dataframe thead th {\n",
       "        text-align: right;\n",
       "    }\n",
       "</style>\n",
       "<table border=\"1\" class=\"dataframe\">\n",
       "  <thead>\n",
       "    <tr style=\"text-align: right;\">\n",
       "      <th></th>\n",
       "      <th>destination</th>\n",
       "      <th>passenger</th>\n",
       "      <th>weather</th>\n",
       "      <th>temperature</th>\n",
       "      <th>time</th>\n",
       "      <th>coupon</th>\n",
       "      <th>expiration</th>\n",
       "      <th>gender</th>\n",
       "      <th>age</th>\n",
       "      <th>maritalStatus</th>\n",
       "      <th>...</th>\n",
       "      <th>Bar</th>\n",
       "      <th>CoffeeHouse</th>\n",
       "      <th>CarryAway</th>\n",
       "      <th>RestaurantLessThan20</th>\n",
       "      <th>Restaurant20To50</th>\n",
       "      <th>toCoupon_GEQ5min</th>\n",
       "      <th>toCoupon_GEQ15min</th>\n",
       "      <th>toCoupon_GEQ25min</th>\n",
       "      <th>direction</th>\n",
       "      <th>Y</th>\n",
       "    </tr>\n",
       "  </thead>\n",
       "  <tbody>\n",
       "    <tr>\n",
       "      <th>1</th>\n",
       "      <td>No Urgent Place</td>\n",
       "      <td>Friend(s)</td>\n",
       "      <td>Sunny</td>\n",
       "      <td>80</td>\n",
       "      <td>10AM</td>\n",
       "      <td>Coffee House</td>\n",
       "      <td>2h</td>\n",
       "      <td>Female</td>\n",
       "      <td>21</td>\n",
       "      <td>Unmarried partner</td>\n",
       "      <td>...</td>\n",
       "      <td>never</td>\n",
       "      <td>never</td>\n",
       "      <td>Unknown</td>\n",
       "      <td>4~8</td>\n",
       "      <td>1~3</td>\n",
       "      <td>1</td>\n",
       "      <td>0</td>\n",
       "      <td>0</td>\n",
       "      <td>opposite</td>\n",
       "      <td>Rejected</td>\n",
       "    </tr>\n",
       "    <tr>\n",
       "      <th>3</th>\n",
       "      <td>No Urgent Place</td>\n",
       "      <td>Friend(s)</td>\n",
       "      <td>Sunny</td>\n",
       "      <td>80</td>\n",
       "      <td>2PM</td>\n",
       "      <td>Coffee House</td>\n",
       "      <td>2h</td>\n",
       "      <td>Female</td>\n",
       "      <td>21</td>\n",
       "      <td>Unmarried partner</td>\n",
       "      <td>...</td>\n",
       "      <td>never</td>\n",
       "      <td>never</td>\n",
       "      <td>Unknown</td>\n",
       "      <td>4~8</td>\n",
       "      <td>1~3</td>\n",
       "      <td>1</td>\n",
       "      <td>1</td>\n",
       "      <td>0</td>\n",
       "      <td>opposite</td>\n",
       "      <td>Rejected</td>\n",
       "    </tr>\n",
       "    <tr>\n",
       "      <th>4</th>\n",
       "      <td>No Urgent Place</td>\n",
       "      <td>Friend(s)</td>\n",
       "      <td>Sunny</td>\n",
       "      <td>80</td>\n",
       "      <td>2PM</td>\n",
       "      <td>Coffee House</td>\n",
       "      <td>1d</td>\n",
       "      <td>Female</td>\n",
       "      <td>21</td>\n",
       "      <td>Unmarried partner</td>\n",
       "      <td>...</td>\n",
       "      <td>never</td>\n",
       "      <td>never</td>\n",
       "      <td>Unknown</td>\n",
       "      <td>4~8</td>\n",
       "      <td>1~3</td>\n",
       "      <td>1</td>\n",
       "      <td>1</td>\n",
       "      <td>0</td>\n",
       "      <td>opposite</td>\n",
       "      <td>Rejected</td>\n",
       "    </tr>\n",
       "    <tr>\n",
       "      <th>12</th>\n",
       "      <td>No Urgent Place</td>\n",
       "      <td>Kid(s)</td>\n",
       "      <td>Sunny</td>\n",
       "      <td>55</td>\n",
       "      <td>6PM</td>\n",
       "      <td>Coffee House</td>\n",
       "      <td>2h</td>\n",
       "      <td>Female</td>\n",
       "      <td>21</td>\n",
       "      <td>Unmarried partner</td>\n",
       "      <td>...</td>\n",
       "      <td>never</td>\n",
       "      <td>never</td>\n",
       "      <td>Unknown</td>\n",
       "      <td>4~8</td>\n",
       "      <td>1~3</td>\n",
       "      <td>1</td>\n",
       "      <td>1</td>\n",
       "      <td>0</td>\n",
       "      <td>opposite</td>\n",
       "      <td>Accepted</td>\n",
       "    </tr>\n",
       "    <tr>\n",
       "      <th>15</th>\n",
       "      <td>Home</td>\n",
       "      <td>Alone</td>\n",
       "      <td>Sunny</td>\n",
       "      <td>80</td>\n",
       "      <td>6PM</td>\n",
       "      <td>Coffee House</td>\n",
       "      <td>2h</td>\n",
       "      <td>Female</td>\n",
       "      <td>21</td>\n",
       "      <td>Unmarried partner</td>\n",
       "      <td>...</td>\n",
       "      <td>never</td>\n",
       "      <td>never</td>\n",
       "      <td>Unknown</td>\n",
       "      <td>4~8</td>\n",
       "      <td>1~3</td>\n",
       "      <td>1</td>\n",
       "      <td>0</td>\n",
       "      <td>0</td>\n",
       "      <td>opposite</td>\n",
       "      <td>Rejected</td>\n",
       "    </tr>\n",
       "    <tr>\n",
       "      <th>...</th>\n",
       "      <td>...</td>\n",
       "      <td>...</td>\n",
       "      <td>...</td>\n",
       "      <td>...</td>\n",
       "      <td>...</td>\n",
       "      <td>...</td>\n",
       "      <td>...</td>\n",
       "      <td>...</td>\n",
       "      <td>...</td>\n",
       "      <td>...</td>\n",
       "      <td>...</td>\n",
       "      <td>...</td>\n",
       "      <td>...</td>\n",
       "      <td>...</td>\n",
       "      <td>...</td>\n",
       "      <td>...</td>\n",
       "      <td>...</td>\n",
       "      <td>...</td>\n",
       "      <td>...</td>\n",
       "      <td>...</td>\n",
       "      <td>...</td>\n",
       "    </tr>\n",
       "    <tr>\n",
       "      <th>12656</th>\n",
       "      <td>Home</td>\n",
       "      <td>Alone</td>\n",
       "      <td>Snowy</td>\n",
       "      <td>30</td>\n",
       "      <td>10PM</td>\n",
       "      <td>Coffee House</td>\n",
       "      <td>2h</td>\n",
       "      <td>Male</td>\n",
       "      <td>31</td>\n",
       "      <td>Married partner</td>\n",
       "      <td>...</td>\n",
       "      <td>less1</td>\n",
       "      <td>never</td>\n",
       "      <td>4~8</td>\n",
       "      <td>gt8</td>\n",
       "      <td>less1</td>\n",
       "      <td>1</td>\n",
       "      <td>1</td>\n",
       "      <td>0</td>\n",
       "      <td>opposite</td>\n",
       "      <td>Rejected</td>\n",
       "    </tr>\n",
       "    <tr>\n",
       "      <th>12659</th>\n",
       "      <td>Work</td>\n",
       "      <td>Alone</td>\n",
       "      <td>Snowy</td>\n",
       "      <td>30</td>\n",
       "      <td>7AM</td>\n",
       "      <td>Coffee House</td>\n",
       "      <td>1d</td>\n",
       "      <td>Male</td>\n",
       "      <td>31</td>\n",
       "      <td>Married partner</td>\n",
       "      <td>...</td>\n",
       "      <td>less1</td>\n",
       "      <td>never</td>\n",
       "      <td>4~8</td>\n",
       "      <td>gt8</td>\n",
       "      <td>less1</td>\n",
       "      <td>1</td>\n",
       "      <td>0</td>\n",
       "      <td>0</td>\n",
       "      <td>same</td>\n",
       "      <td>Rejected</td>\n",
       "    </tr>\n",
       "    <tr>\n",
       "      <th>12674</th>\n",
       "      <td>Home</td>\n",
       "      <td>Alone</td>\n",
       "      <td>Rainy</td>\n",
       "      <td>55</td>\n",
       "      <td>10PM</td>\n",
       "      <td>Coffee House</td>\n",
       "      <td>2h</td>\n",
       "      <td>Male</td>\n",
       "      <td>26</td>\n",
       "      <td>Single</td>\n",
       "      <td>...</td>\n",
       "      <td>never</td>\n",
       "      <td>never</td>\n",
       "      <td>1~3</td>\n",
       "      <td>4~8</td>\n",
       "      <td>1~3</td>\n",
       "      <td>1</td>\n",
       "      <td>0</td>\n",
       "      <td>0</td>\n",
       "      <td>same</td>\n",
       "      <td>Rejected</td>\n",
       "    </tr>\n",
       "    <tr>\n",
       "      <th>12675</th>\n",
       "      <td>Home</td>\n",
       "      <td>Alone</td>\n",
       "      <td>Snowy</td>\n",
       "      <td>30</td>\n",
       "      <td>10PM</td>\n",
       "      <td>Coffee House</td>\n",
       "      <td>2h</td>\n",
       "      <td>Male</td>\n",
       "      <td>26</td>\n",
       "      <td>Single</td>\n",
       "      <td>...</td>\n",
       "      <td>never</td>\n",
       "      <td>never</td>\n",
       "      <td>1~3</td>\n",
       "      <td>4~8</td>\n",
       "      <td>1~3</td>\n",
       "      <td>1</td>\n",
       "      <td>1</td>\n",
       "      <td>0</td>\n",
       "      <td>opposite</td>\n",
       "      <td>Rejected</td>\n",
       "    </tr>\n",
       "    <tr>\n",
       "      <th>12681</th>\n",
       "      <td>Work</td>\n",
       "      <td>Alone</td>\n",
       "      <td>Snowy</td>\n",
       "      <td>30</td>\n",
       "      <td>7AM</td>\n",
       "      <td>Coffee House</td>\n",
       "      <td>1d</td>\n",
       "      <td>Male</td>\n",
       "      <td>26</td>\n",
       "      <td>Single</td>\n",
       "      <td>...</td>\n",
       "      <td>never</td>\n",
       "      <td>never</td>\n",
       "      <td>1~3</td>\n",
       "      <td>4~8</td>\n",
       "      <td>1~3</td>\n",
       "      <td>1</td>\n",
       "      <td>0</td>\n",
       "      <td>0</td>\n",
       "      <td>same</td>\n",
       "      <td>Rejected</td>\n",
       "    </tr>\n",
       "  </tbody>\n",
       "</table>\n",
       "<p>3996 rows × 24 columns</p>\n",
       "</div>"
      ],
      "text/plain": [
       "           destination  passenger weather  temperature  time        coupon  \\\n",
       "1      No Urgent Place  Friend(s)   Sunny           80  10AM  Coffee House   \n",
       "3      No Urgent Place  Friend(s)   Sunny           80   2PM  Coffee House   \n",
       "4      No Urgent Place  Friend(s)   Sunny           80   2PM  Coffee House   \n",
       "12     No Urgent Place     Kid(s)   Sunny           55   6PM  Coffee House   \n",
       "15                Home      Alone   Sunny           80   6PM  Coffee House   \n",
       "...                ...        ...     ...          ...   ...           ...   \n",
       "12656             Home      Alone   Snowy           30  10PM  Coffee House   \n",
       "12659             Work      Alone   Snowy           30   7AM  Coffee House   \n",
       "12674             Home      Alone   Rainy           55  10PM  Coffee House   \n",
       "12675             Home      Alone   Snowy           30  10PM  Coffee House   \n",
       "12681             Work      Alone   Snowy           30   7AM  Coffee House   \n",
       "\n",
       "      expiration  gender age      maritalStatus  ...    Bar CoffeeHouse  \\\n",
       "1             2h  Female  21  Unmarried partner  ...  never       never   \n",
       "3             2h  Female  21  Unmarried partner  ...  never       never   \n",
       "4             1d  Female  21  Unmarried partner  ...  never       never   \n",
       "12            2h  Female  21  Unmarried partner  ...  never       never   \n",
       "15            2h  Female  21  Unmarried partner  ...  never       never   \n",
       "...          ...     ...  ..                ...  ...    ...         ...   \n",
       "12656         2h    Male  31    Married partner  ...  less1       never   \n",
       "12659         1d    Male  31    Married partner  ...  less1       never   \n",
       "12674         2h    Male  26             Single  ...  never       never   \n",
       "12675         2h    Male  26             Single  ...  never       never   \n",
       "12681         1d    Male  26             Single  ...  never       never   \n",
       "\n",
       "      CarryAway RestaurantLessThan20 Restaurant20To50 toCoupon_GEQ5min  \\\n",
       "1       Unknown                  4~8              1~3                1   \n",
       "3       Unknown                  4~8              1~3                1   \n",
       "4       Unknown                  4~8              1~3                1   \n",
       "12      Unknown                  4~8              1~3                1   \n",
       "15      Unknown                  4~8              1~3                1   \n",
       "...         ...                  ...              ...              ...   \n",
       "12656       4~8                  gt8            less1                1   \n",
       "12659       4~8                  gt8            less1                1   \n",
       "12674       1~3                  4~8              1~3                1   \n",
       "12675       1~3                  4~8              1~3                1   \n",
       "12681       1~3                  4~8              1~3                1   \n",
       "\n",
       "      toCoupon_GEQ15min toCoupon_GEQ25min direction         Y  \n",
       "1                     0                 0  opposite  Rejected  \n",
       "3                     1                 0  opposite  Rejected  \n",
       "4                     1                 0  opposite  Rejected  \n",
       "12                    1                 0  opposite  Accepted  \n",
       "15                    0                 0  opposite  Rejected  \n",
       "...                 ...               ...       ...       ...  \n",
       "12656                 1                 0  opposite  Rejected  \n",
       "12659                 0                 0      same  Rejected  \n",
       "12674                 0                 0      same  Rejected  \n",
       "12675                 1                 0  opposite  Rejected  \n",
       "12681                 0                 0      same  Rejected  \n",
       "\n",
       "[3996 rows x 24 columns]"
      ]
     },
     "execution_count": 101,
     "metadata": {},
     "output_type": "execute_result"
    }
   ],
   "source": [
    "# Restrict the data to the coupon Coffee House for this analysis\n",
    "coffee_df = df.query('coupon == \"Coffee House\"')\n",
    "coffee_df"
   ]
  },
  {
   "cell_type": "code",
   "execution_count": 102,
   "metadata": {},
   "outputs": [
    {
     "name": "stdout",
     "output_type": "stream",
     "text": [
      "Number of customers who accepted the coupon: 1995\n",
      "Total of customers who get the Coffee House coupon proposed: 3996\n",
      "Proportion of customers who accepted the coupon: 49.92%\n"
     ]
    }
   ],
   "source": [
    "# Count the occurrences of each unique value in the 'Y' column\n",
    "acceptance_counts = coffee_df[coffee_df['Y'] == 'Accepted'].shape[0]\n",
    "print(f\"Number of customers who accepted the coupon: {acceptance_counts}\")\n",
    "print(f\"Total of customers who get the Coffee House coupon proposed: {len(coffee_df)}\")\n",
    "\n",
    "# Calculate the proportion of customers who accepted the coupon\n",
    "proportion_accepted = acceptance_counts / len(coffee_df)\n",
    "\n",
    "print(f\"Proportion of customers who accepted the coupon: {proportion_accepted:.2%}\")"
   ]
  },
  {
   "cell_type": "code",
   "execution_count": 567,
   "metadata": {},
   "outputs": [
    {
     "data": {
      "text/html": [
       "<div>\n",
       "<style scoped>\n",
       "    .dataframe tbody tr th:only-of-type {\n",
       "        vertical-align: middle;\n",
       "    }\n",
       "\n",
       "    .dataframe tbody tr th {\n",
       "        vertical-align: top;\n",
       "    }\n",
       "\n",
       "    .dataframe thead th {\n",
       "        text-align: right;\n",
       "    }\n",
       "</style>\n",
       "<table border=\"1\" class=\"dataframe\">\n",
       "  <thead>\n",
       "    <tr style=\"text-align: right;\">\n",
       "      <th>Y</th>\n",
       "      <th>destination</th>\n",
       "      <th>Accepted</th>\n",
       "      <th>Rejected</th>\n",
       "      <th>total_count</th>\n",
       "      <th>acceptance_rate</th>\n",
       "    </tr>\n",
       "  </thead>\n",
       "  <tbody>\n",
       "    <tr>\n",
       "      <th>1</th>\n",
       "      <td>No Urgent Place</td>\n",
       "      <td>1187</td>\n",
       "      <td>866</td>\n",
       "      <td>2053</td>\n",
       "      <td>57.8%</td>\n",
       "    </tr>\n",
       "    <tr>\n",
       "      <th>2</th>\n",
       "      <td>Work</td>\n",
       "      <td>385</td>\n",
       "      <td>490</td>\n",
       "      <td>875</td>\n",
       "      <td>44.0%</td>\n",
       "    </tr>\n",
       "    <tr>\n",
       "      <th>0</th>\n",
       "      <td>Home</td>\n",
       "      <td>322</td>\n",
       "      <td>566</td>\n",
       "      <td>888</td>\n",
       "      <td>36.3%</td>\n",
       "    </tr>\n",
       "  </tbody>\n",
       "</table>\n",
       "</div>"
      ],
      "text/plain": [
       "Y      destination  Accepted  Rejected  total_count acceptance_rate\n",
       "1  No Urgent Place      1187       866         2053           57.8%\n",
       "2             Work       385       490          875           44.0%\n",
       "0             Home       322       566          888           36.3%"
      ]
     },
     "execution_count": 567,
     "metadata": {},
     "output_type": "execute_result"
    }
   ],
   "source": [
    "# Group by context columns and calculate the count for each value in 'Y' within each group\n",
    "grouped_df = coffee_df.groupby(['destination'])['Y'].value_counts().unstack(fill_value=0).reset_index()\n",
    "\n",
    "# Calculate the acceptance_rate for each group\n",
    "grouped_df['total_count'] = grouped_df['Rejected'] + grouped_df['Accepted']\n",
    "grouped_df['acceptance_rate'] = (grouped_df['Accepted'] / grouped_df['total_count'] * 100).round(1).astype(str) + '%'\n",
    "grouped_df = grouped_df.sort_values('acceptance_rate', ascending=False)\n",
    "grouped_df"
   ]
  },
  {
   "cell_type": "code",
   "execution_count": 568,
   "metadata": {},
   "outputs": [
    {
     "data": {
      "text/html": [
       "<div>\n",
       "<style scoped>\n",
       "    .dataframe tbody tr th:only-of-type {\n",
       "        vertical-align: middle;\n",
       "    }\n",
       "\n",
       "    .dataframe tbody tr th {\n",
       "        vertical-align: top;\n",
       "    }\n",
       "\n",
       "    .dataframe thead th {\n",
       "        text-align: right;\n",
       "    }\n",
       "</style>\n",
       "<table border=\"1\" class=\"dataframe\">\n",
       "  <thead>\n",
       "    <tr style=\"text-align: right;\">\n",
       "      <th>Y</th>\n",
       "      <th>passenger</th>\n",
       "      <th>Accepted</th>\n",
       "      <th>Rejected</th>\n",
       "      <th>total_count</th>\n",
       "      <th>acceptance_rate</th>\n",
       "    </tr>\n",
       "  </thead>\n",
       "  <tbody>\n",
       "    <tr>\n",
       "      <th>1</th>\n",
       "      <td>Friend(s)</td>\n",
       "      <td>702</td>\n",
       "      <td>473</td>\n",
       "      <td>1175</td>\n",
       "      <td>59.7%</td>\n",
       "    </tr>\n",
       "    <tr>\n",
       "      <th>3</th>\n",
       "      <td>Partner</td>\n",
       "      <td>165</td>\n",
       "      <td>126</td>\n",
       "      <td>291</td>\n",
       "      <td>56.7%</td>\n",
       "    </tr>\n",
       "    <tr>\n",
       "      <th>2</th>\n",
       "      <td>Kid(s)</td>\n",
       "      <td>91</td>\n",
       "      <td>102</td>\n",
       "      <td>193</td>\n",
       "      <td>47.2%</td>\n",
       "    </tr>\n",
       "    <tr>\n",
       "      <th>0</th>\n",
       "      <td>Alone</td>\n",
       "      <td>936</td>\n",
       "      <td>1221</td>\n",
       "      <td>2157</td>\n",
       "      <td>43.4%</td>\n",
       "    </tr>\n",
       "  </tbody>\n",
       "</table>\n",
       "</div>"
      ],
      "text/plain": [
       "Y  passenger  Accepted  Rejected  total_count acceptance_rate\n",
       "1  Friend(s)       702       473         1175           59.7%\n",
       "3    Partner       165       126          291           56.7%\n",
       "2     Kid(s)        91       102          193           47.2%\n",
       "0      Alone       936      1221         2157           43.4%"
      ]
     },
     "execution_count": 568,
     "metadata": {},
     "output_type": "execute_result"
    }
   ],
   "source": [
    "# Group by context columns and calculate the count for each value in 'Y' within each group\n",
    "grouped_df = coffee_df.groupby(['passenger'])['Y'].value_counts().unstack(fill_value=0).reset_index()\n",
    "\n",
    "# Calculate the acceptance_rate for each group\n",
    "grouped_df['total_count'] = grouped_df['Rejected'] + grouped_df['Accepted']\n",
    "grouped_df['acceptance_rate'] = (grouped_df['Accepted'] / grouped_df['total_count'] * 100).round(1).astype(str) + '%'\n",
    "grouped_df = grouped_df.sort_values('acceptance_rate', ascending=False)\n",
    "grouped_df"
   ]
  },
  {
   "cell_type": "code",
   "execution_count": 569,
   "metadata": {},
   "outputs": [
    {
     "data": {
      "text/html": [
       "<div>\n",
       "<style scoped>\n",
       "    .dataframe tbody tr th:only-of-type {\n",
       "        vertical-align: middle;\n",
       "    }\n",
       "\n",
       "    .dataframe tbody tr th {\n",
       "        vertical-align: top;\n",
       "    }\n",
       "\n",
       "    .dataframe thead th {\n",
       "        text-align: right;\n",
       "    }\n",
       "</style>\n",
       "<table border=\"1\" class=\"dataframe\">\n",
       "  <thead>\n",
       "    <tr style=\"text-align: right;\">\n",
       "      <th>Y</th>\n",
       "      <th>time</th>\n",
       "      <th>Accepted</th>\n",
       "      <th>Rejected</th>\n",
       "      <th>total_count</th>\n",
       "      <th>acceptance_rate</th>\n",
       "    </tr>\n",
       "  </thead>\n",
       "  <tbody>\n",
       "    <tr>\n",
       "      <th>0</th>\n",
       "      <td>10AM</td>\n",
       "      <td>544</td>\n",
       "      <td>313</td>\n",
       "      <td>857</td>\n",
       "      <td>63.5%</td>\n",
       "    </tr>\n",
       "    <tr>\n",
       "      <th>2</th>\n",
       "      <td>2PM</td>\n",
       "      <td>414</td>\n",
       "      <td>345</td>\n",
       "      <td>759</td>\n",
       "      <td>54.5%</td>\n",
       "    </tr>\n",
       "    <tr>\n",
       "      <th>4</th>\n",
       "      <td>7AM</td>\n",
       "      <td>385</td>\n",
       "      <td>490</td>\n",
       "      <td>875</td>\n",
       "      <td>44.0%</td>\n",
       "    </tr>\n",
       "    <tr>\n",
       "      <th>1</th>\n",
       "      <td>10PM</td>\n",
       "      <td>121</td>\n",
       "      <td>161</td>\n",
       "      <td>282</td>\n",
       "      <td>42.9%</td>\n",
       "    </tr>\n",
       "    <tr>\n",
       "      <th>3</th>\n",
       "      <td>6PM</td>\n",
       "      <td>430</td>\n",
       "      <td>613</td>\n",
       "      <td>1043</td>\n",
       "      <td>41.2%</td>\n",
       "    </tr>\n",
       "  </tbody>\n",
       "</table>\n",
       "</div>"
      ],
      "text/plain": [
       "Y  time  Accepted  Rejected  total_count acceptance_rate\n",
       "0  10AM       544       313          857           63.5%\n",
       "2   2PM       414       345          759           54.5%\n",
       "4   7AM       385       490          875           44.0%\n",
       "1  10PM       121       161          282           42.9%\n",
       "3   6PM       430       613         1043           41.2%"
      ]
     },
     "execution_count": 569,
     "metadata": {},
     "output_type": "execute_result"
    }
   ],
   "source": [
    "# Group by context columns and calculate the count for each value in 'Y' within each group\n",
    "grouped_df = coffee_df.groupby(['time'])['Y'].value_counts().unstack(fill_value=0).reset_index()\n",
    "\n",
    "# Calculate the acceptance_rate for each group\n",
    "grouped_df['total_count'] = grouped_df['Rejected'] + grouped_df['Accepted']\n",
    "grouped_df['acceptance_rate'] = (grouped_df['Accepted'] / grouped_df['total_count'] * 100).round(1).astype(str) + '%'\n",
    "grouped_df = grouped_df.sort_values('acceptance_rate', ascending=False)\n",
    "grouped_df"
   ]
  },
  {
   "cell_type": "code",
   "execution_count": 570,
   "metadata": {},
   "outputs": [
    {
     "data": {
      "text/html": [
       "<div>\n",
       "<style scoped>\n",
       "    .dataframe tbody tr th:only-of-type {\n",
       "        vertical-align: middle;\n",
       "    }\n",
       "\n",
       "    .dataframe tbody tr th {\n",
       "        vertical-align: top;\n",
       "    }\n",
       "\n",
       "    .dataframe thead th {\n",
       "        text-align: right;\n",
       "    }\n",
       "</style>\n",
       "<table border=\"1\" class=\"dataframe\">\n",
       "  <thead>\n",
       "    <tr style=\"text-align: right;\">\n",
       "      <th>Y</th>\n",
       "      <th>direction</th>\n",
       "      <th>Accepted</th>\n",
       "      <th>Rejected</th>\n",
       "      <th>total_count</th>\n",
       "      <th>acceptance_rate</th>\n",
       "    </tr>\n",
       "  </thead>\n",
       "  <tbody>\n",
       "    <tr>\n",
       "      <th>0</th>\n",
       "      <td>opposite</td>\n",
       "      <td>1517</td>\n",
       "      <td>1583</td>\n",
       "      <td>3100</td>\n",
       "      <td>48.9%</td>\n",
       "    </tr>\n",
       "    <tr>\n",
       "      <th>1</th>\n",
       "      <td>same</td>\n",
       "      <td>377</td>\n",
       "      <td>339</td>\n",
       "      <td>716</td>\n",
       "      <td>52.7%</td>\n",
       "    </tr>\n",
       "  </tbody>\n",
       "</table>\n",
       "</div>"
      ],
      "text/plain": [
       "Y direction  Accepted  Rejected  total_count acceptance_rate\n",
       "0  opposite      1517      1583         3100           48.9%\n",
       "1      same       377       339          716           52.7%"
      ]
     },
     "execution_count": 570,
     "metadata": {},
     "output_type": "execute_result"
    }
   ],
   "source": [
    "# Group by context columns and calculate the count for each value in 'Y' within each group\n",
    "grouped_df = coffee_df.groupby(['direction'])['Y'].value_counts().unstack(fill_value=0).reset_index()\n",
    "\n",
    "# Calculate the acceptance_rate for each group\n",
    "grouped_df['total_count'] = grouped_df['Rejected'] + grouped_df['Accepted']\n",
    "grouped_df['acceptance_rate'] = (grouped_df['Accepted'] / grouped_df['total_count'] * 100).round(1).astype(str) + '%'\n",
    "grouped_df"
   ]
  },
  {
   "cell_type": "code",
   "execution_count": 571,
   "metadata": {},
   "outputs": [
    {
     "data": {
      "text/html": [
       "<div>\n",
       "<style scoped>\n",
       "    .dataframe tbody tr th:only-of-type {\n",
       "        vertical-align: middle;\n",
       "    }\n",
       "\n",
       "    .dataframe tbody tr th {\n",
       "        vertical-align: top;\n",
       "    }\n",
       "\n",
       "    .dataframe thead th {\n",
       "        text-align: right;\n",
       "    }\n",
       "</style>\n",
       "<table border=\"1\" class=\"dataframe\">\n",
       "  <thead>\n",
       "    <tr style=\"text-align: right;\">\n",
       "      <th>Y</th>\n",
       "      <th>expiration</th>\n",
       "      <th>Accepted</th>\n",
       "      <th>Rejected</th>\n",
       "      <th>total_count</th>\n",
       "      <th>acceptance_rate</th>\n",
       "    </tr>\n",
       "  </thead>\n",
       "  <tbody>\n",
       "    <tr>\n",
       "      <th>0</th>\n",
       "      <td>1d</td>\n",
       "      <td>983</td>\n",
       "      <td>710</td>\n",
       "      <td>1693</td>\n",
       "      <td>58.1%</td>\n",
       "    </tr>\n",
       "    <tr>\n",
       "      <th>1</th>\n",
       "      <td>2h</td>\n",
       "      <td>911</td>\n",
       "      <td>1212</td>\n",
       "      <td>2123</td>\n",
       "      <td>42.9%</td>\n",
       "    </tr>\n",
       "  </tbody>\n",
       "</table>\n",
       "</div>"
      ],
      "text/plain": [
       "Y expiration  Accepted  Rejected  total_count acceptance_rate\n",
       "0         1d       983       710         1693           58.1%\n",
       "1         2h       911      1212         2123           42.9%"
      ]
     },
     "execution_count": 571,
     "metadata": {},
     "output_type": "execute_result"
    }
   ],
   "source": [
    "# Group by context columns and calculate the count for each value in 'Y' within each group\n",
    "grouped_df = coffee_df.groupby(['expiration'])['Y'].value_counts().unstack(fill_value=0).reset_index()\n",
    "\n",
    "# Calculate the acceptance_rate for each group\n",
    "grouped_df['total_count'] = grouped_df['Rejected'] + grouped_df['Accepted']\n",
    "grouped_df['acceptance_rate'] = (grouped_df['Accepted'] / grouped_df['total_count'] * 100).round(1).astype(str) + '%'\n",
    "grouped_df"
   ]
  },
  {
   "cell_type": "code",
   "execution_count": 572,
   "metadata": {},
   "outputs": [
    {
     "data": {
      "text/html": [
       "<div>\n",
       "<style scoped>\n",
       "    .dataframe tbody tr th:only-of-type {\n",
       "        vertical-align: middle;\n",
       "    }\n",
       "\n",
       "    .dataframe tbody tr th {\n",
       "        vertical-align: top;\n",
       "    }\n",
       "\n",
       "    .dataframe thead th {\n",
       "        text-align: right;\n",
       "    }\n",
       "</style>\n",
       "<table border=\"1\" class=\"dataframe\">\n",
       "  <thead>\n",
       "    <tr style=\"text-align: right;\">\n",
       "      <th>Y</th>\n",
       "      <th>weather</th>\n",
       "      <th>Accepted</th>\n",
       "      <th>Rejected</th>\n",
       "      <th>total_count</th>\n",
       "      <th>acceptance_rate</th>\n",
       "    </tr>\n",
       "  </thead>\n",
       "  <tbody>\n",
       "    <tr>\n",
       "      <th>0</th>\n",
       "      <td>Rainy</td>\n",
       "      <td>111</td>\n",
       "      <td>104</td>\n",
       "      <td>215</td>\n",
       "      <td>51.6</td>\n",
       "    </tr>\n",
       "    <tr>\n",
       "      <th>1</th>\n",
       "      <td>Snowy</td>\n",
       "      <td>122</td>\n",
       "      <td>163</td>\n",
       "      <td>285</td>\n",
       "      <td>42.8</td>\n",
       "    </tr>\n",
       "    <tr>\n",
       "      <th>2</th>\n",
       "      <td>Sunny</td>\n",
       "      <td>1661</td>\n",
       "      <td>1655</td>\n",
       "      <td>3316</td>\n",
       "      <td>50.1</td>\n",
       "    </tr>\n",
       "  </tbody>\n",
       "</table>\n",
       "</div>"
      ],
      "text/plain": [
       "Y weather  Accepted  Rejected  total_count  acceptance_rate\n",
       "0   Rainy       111       104          215             51.6\n",
       "1   Snowy       122       163          285             42.8\n",
       "2   Sunny      1661      1655         3316             50.1"
      ]
     },
     "execution_count": 572,
     "metadata": {},
     "output_type": "execute_result"
    }
   ],
   "source": [
    "# Just weather\n",
    "# Group by user columns and calculate the count for each value in 'Y' within each group\n",
    "grouped_df = coffee_df.groupby(['weather'])['Y'].value_counts().unstack(fill_value=0).reset_index()\n",
    "\n",
    "# Calculate the acceptance_rate for each group\n",
    "grouped_df['total_count'] = grouped_df['Rejected'] + grouped_df['Accepted']\n",
    "grouped_df['acceptance_rate'] = (grouped_df['Accepted'] / grouped_df['total_count'] * 100).round(1)\n",
    "grouped_df"
   ]
  },
  {
   "cell_type": "markdown",
   "metadata": {},
   "source": [
    "#### Contextually, \n",
    "- drivers with passengers but not kid(s) have a good acceptance rate\n",
    "- commit during late morning have the best acceptance rate\n",
    "- drivers going to a no urgent place have the best acceptance rate\n",
    "- coupons which expire in 1 day have a better acceptance rate than 2 hours coupon\n",
    "- a sunny day give an equal chance for the coupon to be accepted. But a rainy day as a better chance to be accepted compared to a snowy day. "
   ]
  },
  {
   "cell_type": "code",
   "execution_count": 573,
   "metadata": {},
   "outputs": [
    {
     "data": {
      "text/html": [
       "<div>\n",
       "<style scoped>\n",
       "    .dataframe tbody tr th:only-of-type {\n",
       "        vertical-align: middle;\n",
       "    }\n",
       "\n",
       "    .dataframe tbody tr th {\n",
       "        vertical-align: top;\n",
       "    }\n",
       "\n",
       "    .dataframe thead th {\n",
       "        text-align: right;\n",
       "    }\n",
       "</style>\n",
       "<table border=\"1\" class=\"dataframe\">\n",
       "  <thead>\n",
       "    <tr style=\"text-align: right;\">\n",
       "      <th>Y</th>\n",
       "      <th>gender</th>\n",
       "      <th>Accepted</th>\n",
       "      <th>Rejected</th>\n",
       "      <th>total_count</th>\n",
       "      <th>acceptance_rate</th>\n",
       "    </tr>\n",
       "  </thead>\n",
       "  <tbody>\n",
       "    <tr>\n",
       "      <th>0</th>\n",
       "      <td>Female</td>\n",
       "      <td>967</td>\n",
       "      <td>1002</td>\n",
       "      <td>1969</td>\n",
       "      <td>49.1%</td>\n",
       "    </tr>\n",
       "    <tr>\n",
       "      <th>1</th>\n",
       "      <td>Male</td>\n",
       "      <td>927</td>\n",
       "      <td>920</td>\n",
       "      <td>1847</td>\n",
       "      <td>50.2%</td>\n",
       "    </tr>\n",
       "  </tbody>\n",
       "</table>\n",
       "</div>"
      ],
      "text/plain": [
       "Y  gender  Accepted  Rejected  total_count acceptance_rate\n",
       "0  Female       967      1002         1969           49.1%\n",
       "1    Male       927       920         1847           50.2%"
      ]
     },
     "execution_count": 573,
     "metadata": {},
     "output_type": "execute_result"
    }
   ],
   "source": [
    "# Just gender\n",
    "# Group by user columns and calculate the count for each value in 'Y' within each group\n",
    "grouped_df = coffee_df.groupby(['gender'])['Y'].value_counts().unstack(fill_value=0).reset_index()\n",
    "\n",
    "# Calculate the acceptance_rate for each group\n",
    "grouped_df['total_count'] = grouped_df['Rejected'] + grouped_df['Accepted']\n",
    "grouped_df['acceptance_rate'] = (grouped_df['Accepted'] / grouped_df['total_count'] * 100).round(1).astype(str) + '%'\n",
    "\n",
    "grouped_df"
   ]
  },
  {
   "cell_type": "code",
   "execution_count": 574,
   "metadata": {},
   "outputs": [
    {
     "data": {
      "text/html": [
       "<div>\n",
       "<style scoped>\n",
       "    .dataframe tbody tr th:only-of-type {\n",
       "        vertical-align: middle;\n",
       "    }\n",
       "\n",
       "    .dataframe tbody tr th {\n",
       "        vertical-align: top;\n",
       "    }\n",
       "\n",
       "    .dataframe thead th {\n",
       "        text-align: right;\n",
       "    }\n",
       "</style>\n",
       "<table border=\"1\" class=\"dataframe\">\n",
       "  <thead>\n",
       "    <tr style=\"text-align: right;\">\n",
       "      <th>Y</th>\n",
       "      <th>maritalStatus</th>\n",
       "      <th>Accepted</th>\n",
       "      <th>Rejected</th>\n",
       "      <th>total_count</th>\n",
       "      <th>acceptance_rate</th>\n",
       "    </tr>\n",
       "  </thead>\n",
       "  <tbody>\n",
       "    <tr>\n",
       "      <th>0</th>\n",
       "      <td>Divorced</td>\n",
       "      <td>74</td>\n",
       "      <td>69</td>\n",
       "      <td>143</td>\n",
       "      <td>51.7%</td>\n",
       "    </tr>\n",
       "    <tr>\n",
       "      <th>1</th>\n",
       "      <td>Married partner</td>\n",
       "      <td>720</td>\n",
       "      <td>746</td>\n",
       "      <td>1466</td>\n",
       "      <td>49.1%</td>\n",
       "    </tr>\n",
       "    <tr>\n",
       "      <th>2</th>\n",
       "      <td>Single</td>\n",
       "      <td>770</td>\n",
       "      <td>727</td>\n",
       "      <td>1497</td>\n",
       "      <td>51.4%</td>\n",
       "    </tr>\n",
       "    <tr>\n",
       "      <th>3</th>\n",
       "      <td>Unmarried partner</td>\n",
       "      <td>318</td>\n",
       "      <td>358</td>\n",
       "      <td>676</td>\n",
       "      <td>47.0%</td>\n",
       "    </tr>\n",
       "    <tr>\n",
       "      <th>4</th>\n",
       "      <td>Widowed</td>\n",
       "      <td>12</td>\n",
       "      <td>22</td>\n",
       "      <td>34</td>\n",
       "      <td>35.3%</td>\n",
       "    </tr>\n",
       "  </tbody>\n",
       "</table>\n",
       "</div>"
      ],
      "text/plain": [
       "Y      maritalStatus  Accepted  Rejected  total_count acceptance_rate\n",
       "0           Divorced        74        69          143           51.7%\n",
       "1    Married partner       720       746         1466           49.1%\n",
       "2             Single       770       727         1497           51.4%\n",
       "3  Unmarried partner       318       358          676           47.0%\n",
       "4            Widowed        12        22           34           35.3%"
      ]
     },
     "execution_count": 574,
     "metadata": {},
     "output_type": "execute_result"
    }
   ],
   "source": [
    "# Just maritalStatus\n",
    "# Group by user columns and calculate the count for each value in 'Y' within each group\n",
    "grouped_df = coffee_df.groupby(['maritalStatus'])['Y'].value_counts().unstack(fill_value=0).reset_index()\n",
    "\n",
    "# Calculate the acceptance_rate for each group\n",
    "grouped_df['total_count'] = grouped_df['Rejected'] + grouped_df['Accepted']\n",
    "grouped_df['acceptance_rate'] = (grouped_df['Accepted'] / grouped_df['total_count'] * 100).round(1).astype(str) + '%'\n",
    "\n",
    "grouped_df"
   ]
  },
  {
   "cell_type": "code",
   "execution_count": 575,
   "metadata": {},
   "outputs": [
    {
     "data": {
      "text/html": [
       "<div>\n",
       "<style scoped>\n",
       "    .dataframe tbody tr th:only-of-type {\n",
       "        vertical-align: middle;\n",
       "    }\n",
       "\n",
       "    .dataframe tbody tr th {\n",
       "        vertical-align: top;\n",
       "    }\n",
       "\n",
       "    .dataframe thead th {\n",
       "        text-align: right;\n",
       "    }\n",
       "</style>\n",
       "<table border=\"1\" class=\"dataframe\">\n",
       "  <thead>\n",
       "    <tr style=\"text-align: right;\">\n",
       "      <th>Y</th>\n",
       "      <th>has_children</th>\n",
       "      <th>Accepted</th>\n",
       "      <th>Rejected</th>\n",
       "      <th>total_count</th>\n",
       "      <th>acceptance_rate</th>\n",
       "    </tr>\n",
       "  </thead>\n",
       "  <tbody>\n",
       "    <tr>\n",
       "      <th>0</th>\n",
       "      <td>0</td>\n",
       "      <td>1184</td>\n",
       "      <td>1176</td>\n",
       "      <td>2360</td>\n",
       "      <td>50.2%</td>\n",
       "    </tr>\n",
       "    <tr>\n",
       "      <th>1</th>\n",
       "      <td>1</td>\n",
       "      <td>710</td>\n",
       "      <td>746</td>\n",
       "      <td>1456</td>\n",
       "      <td>48.8%</td>\n",
       "    </tr>\n",
       "  </tbody>\n",
       "</table>\n",
       "</div>"
      ],
      "text/plain": [
       "Y  has_children  Accepted  Rejected  total_count acceptance_rate\n",
       "0             0      1184      1176         2360           50.2%\n",
       "1             1       710       746         1456           48.8%"
      ]
     },
     "execution_count": 575,
     "metadata": {},
     "output_type": "execute_result"
    }
   ],
   "source": [
    "# Just has_children\n",
    "# Group by user columns and calculate the count for each value in 'Y' within each group\n",
    "grouped_df = coffee_df.groupby(['has_children'])['Y'].value_counts().unstack(fill_value=0).reset_index()\n",
    "\n",
    "# Calculate the acceptance_rate for each group\n",
    "grouped_df['total_count'] = grouped_df['Rejected'] + grouped_df['Accepted']\n",
    "grouped_df['acceptance_rate'] = (grouped_df['Accepted'] / grouped_df['total_count'] * 100).round(1).astype(str) + '%'\n",
    "\n",
    "grouped_df"
   ]
  },
  {
   "cell_type": "code",
   "execution_count": 576,
   "metadata": {},
   "outputs": [
    {
     "data": {
      "text/html": [
       "<div>\n",
       "<style scoped>\n",
       "    .dataframe tbody tr th:only-of-type {\n",
       "        vertical-align: middle;\n",
       "    }\n",
       "\n",
       "    .dataframe tbody tr th {\n",
       "        vertical-align: top;\n",
       "    }\n",
       "\n",
       "    .dataframe thead th {\n",
       "        text-align: right;\n",
       "    }\n",
       "</style>\n",
       "<table border=\"1\" class=\"dataframe\">\n",
       "  <thead>\n",
       "    <tr style=\"text-align: right;\">\n",
       "      <th>Y</th>\n",
       "      <th>grouped_age</th>\n",
       "      <th>Accepted</th>\n",
       "      <th>Rejected</th>\n",
       "      <th>total_count</th>\n",
       "      <th>acceptance_rate</th>\n",
       "    </tr>\n",
       "  </thead>\n",
       "  <tbody>\n",
       "    <tr>\n",
       "      <th>4</th>\n",
       "      <td>below21</td>\n",
       "      <td>97</td>\n",
       "      <td>46</td>\n",
       "      <td>143</td>\n",
       "      <td>67.8</td>\n",
       "    </tr>\n",
       "    <tr>\n",
       "      <th>0</th>\n",
       "      <td>21-26</td>\n",
       "      <td>846</td>\n",
       "      <td>795</td>\n",
       "      <td>1641</td>\n",
       "      <td>51.6</td>\n",
       "    </tr>\n",
       "    <tr>\n",
       "      <th>2</th>\n",
       "      <td>41-46</td>\n",
       "      <td>266</td>\n",
       "      <td>268</td>\n",
       "      <td>534</td>\n",
       "      <td>49.8</td>\n",
       "    </tr>\n",
       "    <tr>\n",
       "      <th>1</th>\n",
       "      <td>31-36</td>\n",
       "      <td>463</td>\n",
       "      <td>506</td>\n",
       "      <td>969</td>\n",
       "      <td>47.8</td>\n",
       "    </tr>\n",
       "    <tr>\n",
       "      <th>3</th>\n",
       "      <td>50plus</td>\n",
       "      <td>222</td>\n",
       "      <td>307</td>\n",
       "      <td>529</td>\n",
       "      <td>42.0</td>\n",
       "    </tr>\n",
       "  </tbody>\n",
       "</table>\n",
       "</div>"
      ],
      "text/plain": [
       "Y grouped_age  Accepted  Rejected  total_count  acceptance_rate\n",
       "4     below21        97        46          143             67.8\n",
       "0       21-26       846       795         1641             51.6\n",
       "2       41-46       266       268          534             49.8\n",
       "1       31-36       463       506          969             47.8\n",
       "3      50plus       222       307          529             42.0"
      ]
     },
     "execution_count": 576,
     "metadata": {},
     "output_type": "execute_result"
    }
   ],
   "source": [
    "# Just age\n",
    "# Map the grouped age categories\n",
    "age_mapping = {\n",
    "    'below21': 'below21',\n",
    "    '21': '21-26',\n",
    "    '26': '21-26',\n",
    "    '31': '31-36',\n",
    "    '36': '31-36',\n",
    "    '41': '41-46',\n",
    "    '46': '41-46',\n",
    "    '50plus': '50plus'\n",
    "}\n",
    "\n",
    "# Apply the mapping to create a new column 'grouped_age'\n",
    "coffee_df['grouped_age'] = coffee_df['age'].map(age_mapping)\n",
    "\n",
    "# Group by user columns and calculate the count for each value in 'Y' within each group\n",
    "grouped_df = coffee_df.groupby(['grouped_age'])['Y'].value_counts().unstack(fill_value=0).reset_index()\n",
    "\n",
    "# Calculate the acceptance_rate for each group\n",
    "grouped_df['total_count'] = grouped_df['Rejected'] + grouped_df['Accepted']\n",
    "grouped_df['acceptance_rate'] = (grouped_df['Accepted'] / grouped_df['total_count'] * 100).round(1)\n",
    "\n",
    "# Excluding data with a number of data too little to be compared ( here using 100 total count as minimum)\n",
    "grouped_df = grouped_df[grouped_df['total_count'] > 100].sort_values('acceptance_rate', ascending=False)\n",
    "grouped_df\n"
   ]
  },
  {
   "cell_type": "code",
   "execution_count": 577,
   "metadata": {},
   "outputs": [
    {
     "data": {
      "image/png": "[encoded data removed]",
      "text/plain": [
       "<Figure size 1200x600 with 2 Axes>"
      ]
     },
     "metadata": {},
     "output_type": "display_data"
    }
   ],
   "source": [
    "# Specify the order of x-axis categories\n",
    "category_order = ['below21', '21-26', '31-36', '41-46', '50plus']\n",
    "\n",
    "# Create the histogram for 'coffee_df' using sns\n",
    "plt.figure(figsize=(12, 6))\n",
    "\n",
    "# Set title\n",
    "plt.title('Acceptance of Coffee house coupon according to age of drivers')\n",
    "ax1 = sns.histplot(data=coffee_df, \n",
    "                   x=\"grouped_age\", \n",
    "                   hue=\"Y\", \n",
    "                   multiple=\"stack\"\n",
    "                  )\n",
    "# Set legend\n",
    "plt.legend(title='Coupon', loc='upper right', labels=['Accepted', 'Rejected'])\n",
    "\n",
    "# Overlay the acceptance rate on the same plot using sns scatterplot\n",
    "ax2 = ax1.twinx()\n",
    "sns.scatterplot(data=grouped_df, x='grouped_age', y='acceptance_rate', color='black', ax=ax2, s=100)\n",
    "\n",
    "# Turns off grid on both Axis\n",
    "ax1.grid(False)\n",
    "ax2.grid(False)\n",
    "\n",
    "# Set labels\n",
    "ax1.set_xlabel('Age')\n",
    "ax1.set_ylabel('Count')\n",
    "ax2.set_ylabel('Acceptance Rate (%)')\n",
    "\n",
    "\n",
    "# Show the plot\n",
    "plt.show()"
   ]
  },
  {
   "cell_type": "markdown",
   "metadata": {},
   "source": [
    "#### On the user profile:\n",
    "- There is no clear pattern about customers regarding the gender, marital status or children criteria\n",
    "- Divorced or single people have a slight better acceptance rate than others\n",
    "- Younger drivers are most likely to accept the coupon rather than older drivers"
   ]
  },
  {
   "cell_type": "code",
   "execution_count": 558,
   "metadata": {},
   "outputs": [
    {
     "name": "stdout",
     "output_type": "stream",
     "text": [
      "grouped_Bar\n",
      "few      2612\n",
      "a lot    1204\n",
      "Name: count, dtype: int64\n",
      "grouped_CoffeeHouse\n",
      "few      1948\n",
      "a lot    1868\n",
      "Name: count, dtype: int64\n",
      "grouped_CarryAway\n",
      "few      2038\n",
      "a lot    1778\n",
      "Name: count, dtype: int64\n",
      "grouped_RestaurantLessThan20\n",
      "few      2293\n",
      "a lot    1523\n",
      "Name: count, dtype: int64\n",
      "grouped_Restaurant20To50\n",
      "few      2500\n",
      "a lot    1316\n",
      "Name: count, dtype: int64\n"
     ]
    }
   ],
   "source": [
    "# Analysis on habits\n",
    "# Map the grouped categories\n",
    "# I used 2 differents mappings to have more equal number of few / a lot \n",
    "habits_mapping_1 = {\n",
    "    'never': 'few',\n",
    "    'less1': 'few',\n",
    "    '1~3': 'few',\n",
    "    '4~8': 'a lot',\n",
    "    'gt8': 'a lot'\n",
    "}\n",
    "habits_mapping_2 = {\n",
    "    'never': 'few',\n",
    "    'less1': 'few',\n",
    "    '1~3': 'a lot',\n",
    "    '4~8': 'a lot',\n",
    "    'gt8': 'a lot'\n",
    "}\n",
    "\n",
    "# Drop unknown habits values \n",
    "coffee_df = coffee_df[coffee_df['Bar'] != 'Unknown']\n",
    "coffee_df = coffee_df[coffee_df['CoffeeHouse'] != 'Unknown']\n",
    "coffee_df = coffee_df[coffee_df['CarryAway'] != 'Unknown']\n",
    "coffee_df = coffee_df[coffee_df['RestaurantLessThan20'] != 'Unknown']\n",
    "coffee_df = coffee_df[coffee_df['Restaurant20To50'] != 'Unknown']\n",
    " \n",
    "# Apply the mapping to create a new column 'grouped_...'\n",
    "coffee_df['grouped_Bar'] = coffee_df['Bar'].map(habits_mapping_2)\n",
    "coffee_df['grouped_CoffeeHouse'] = coffee_df['CoffeeHouse'].map(habits_mapping_2)\n",
    "coffee_df['grouped_CarryAway'] = coffee_df['CarryAway'].map(habits_mapping_1)\n",
    "coffee_df['grouped_RestaurantLessThan20'] = coffee_df['RestaurantLessThan20'].map(habits_mapping_1)\n",
    "coffee_df['grouped_Restaurant20To50'] = coffee_df['Restaurant20To50'].map(habits_mapping_2)\n",
    "\n",
    "print(coffee_df['grouped_Bar'].value_counts())\n",
    "print(coffee_df['grouped_CoffeeHouse'].value_counts())\n",
    "print(coffee_df['grouped_CarryAway'].value_counts())\n",
    "print(coffee_df['grouped_RestaurantLessThan20'].value_counts())\n",
    "print(coffee_df['grouped_Restaurant20To50'].value_counts())"
   ]
  },
  {
   "cell_type": "code",
   "execution_count": 578,
   "metadata": {},
   "outputs": [
    {
     "data": {
      "text/html": [
       "<div>\n",
       "<style scoped>\n",
       "    .dataframe tbody tr th:only-of-type {\n",
       "        vertical-align: middle;\n",
       "    }\n",
       "\n",
       "    .dataframe tbody tr th {\n",
       "        vertical-align: top;\n",
       "    }\n",
       "\n",
       "    .dataframe thead th {\n",
       "        text-align: right;\n",
       "    }\n",
       "</style>\n",
       "<table border=\"1\" class=\"dataframe\">\n",
       "  <thead>\n",
       "    <tr style=\"text-align: right;\">\n",
       "      <th>Y</th>\n",
       "      <th>grouped_CoffeeHouse</th>\n",
       "      <th>Accepted</th>\n",
       "      <th>Rejected</th>\n",
       "      <th>total_count</th>\n",
       "      <th>acceptance_rate</th>\n",
       "    </tr>\n",
       "  </thead>\n",
       "  <tbody>\n",
       "    <tr>\n",
       "      <th>0</th>\n",
       "      <td>a lot</td>\n",
       "      <td>1231</td>\n",
       "      <td>637</td>\n",
       "      <td>1868</td>\n",
       "      <td>65.9%</td>\n",
       "    </tr>\n",
       "    <tr>\n",
       "      <th>1</th>\n",
       "      <td>few</td>\n",
       "      <td>663</td>\n",
       "      <td>1285</td>\n",
       "      <td>1948</td>\n",
       "      <td>34.0%</td>\n",
       "    </tr>\n",
       "  </tbody>\n",
       "</table>\n",
       "</div>"
      ],
      "text/plain": [
       "Y grouped_CoffeeHouse  Accepted  Rejected  total_count acceptance_rate\n",
       "0               a lot      1231       637         1868           65.9%\n",
       "1                 few       663      1285         1948           34.0%"
      ]
     },
     "execution_count": 578,
     "metadata": {},
     "output_type": "execute_result"
    }
   ],
   "source": [
    "# Group by user habits columns and calculate the count for each value in 'Y' within each group\n",
    "grouped_df = coffee_df.groupby(['grouped_CoffeeHouse'])['Y'].value_counts().unstack(fill_value=0).reset_index()\n",
    "\n",
    "# Calculate the acceptance_rate for each group\n",
    "grouped_df['total_count'] = grouped_df['Rejected'] + grouped_df['Accepted']\n",
    "grouped_df['acceptance_rate'] = (grouped_df['Accepted'] / grouped_df['total_count'] * 100).round(1).astype(str) + '%'\n",
    "\n",
    "# Excluding data with a number of data too little to be compared ( here using 100 total count as minimum)\n",
    "grouped_df = grouped_df[grouped_df['total_count']>100].sort_values('acceptance_rate', ascending=False)\n",
    "grouped_df"
   ]
  },
  {
   "cell_type": "code",
   "execution_count": 579,
   "metadata": {},
   "outputs": [
    {
     "data": {
      "text/html": [
       "<div>\n",
       "<style scoped>\n",
       "    .dataframe tbody tr th:only-of-type {\n",
       "        vertical-align: middle;\n",
       "    }\n",
       "\n",
       "    .dataframe tbody tr th {\n",
       "        vertical-align: top;\n",
       "    }\n",
       "\n",
       "    .dataframe thead th {\n",
       "        text-align: right;\n",
       "    }\n",
       "</style>\n",
       "<table border=\"1\" class=\"dataframe\">\n",
       "  <thead>\n",
       "    <tr style=\"text-align: right;\">\n",
       "      <th>Y</th>\n",
       "      <th>grouped_Bar</th>\n",
       "      <th>Accepted</th>\n",
       "      <th>Rejected</th>\n",
       "      <th>total_count</th>\n",
       "      <th>acceptance_rate</th>\n",
       "    </tr>\n",
       "  </thead>\n",
       "  <tbody>\n",
       "    <tr>\n",
       "      <th>0</th>\n",
       "      <td>a lot</td>\n",
       "      <td>605</td>\n",
       "      <td>599</td>\n",
       "      <td>1204</td>\n",
       "      <td>50.2%</td>\n",
       "    </tr>\n",
       "    <tr>\n",
       "      <th>1</th>\n",
       "      <td>few</td>\n",
       "      <td>1289</td>\n",
       "      <td>1323</td>\n",
       "      <td>2612</td>\n",
       "      <td>49.3%</td>\n",
       "    </tr>\n",
       "  </tbody>\n",
       "</table>\n",
       "</div>"
      ],
      "text/plain": [
       "Y grouped_Bar  Accepted  Rejected  total_count acceptance_rate\n",
       "0       a lot       605       599         1204           50.2%\n",
       "1         few      1289      1323         2612           49.3%"
      ]
     },
     "execution_count": 579,
     "metadata": {},
     "output_type": "execute_result"
    }
   ],
   "source": [
    "# Group by user habits columns and calculate the count for each value in 'Y' within each group\n",
    "grouped_df = coffee_df.groupby(['grouped_Bar'])['Y'].value_counts().unstack(fill_value=0).reset_index()\n",
    "\n",
    "# Calculate the acceptance_rate for each group\n",
    "grouped_df['total_count'] = grouped_df['Rejected'] + grouped_df['Accepted']\n",
    "grouped_df['acceptance_rate'] = (grouped_df['Accepted'] / grouped_df['total_count'] * 100).round(1).astype(str) + '%'\n",
    "\n",
    "# Excluding data with a number of data too little to be compared ( here using 100 total count as minimum)\n",
    "grouped_df = grouped_df[grouped_df['total_count']>100].sort_values('acceptance_rate', ascending=False)\n",
    "grouped_df"
   ]
  },
  {
   "cell_type": "code",
   "execution_count": 580,
   "metadata": {},
   "outputs": [
    {
     "data": {
      "text/html": [
       "<div>\n",
       "<style scoped>\n",
       "    .dataframe tbody tr th:only-of-type {\n",
       "        vertical-align: middle;\n",
       "    }\n",
       "\n",
       "    .dataframe tbody tr th {\n",
       "        vertical-align: top;\n",
       "    }\n",
       "\n",
       "    .dataframe thead th {\n",
       "        text-align: right;\n",
       "    }\n",
       "</style>\n",
       "<table border=\"1\" class=\"dataframe\">\n",
       "  <thead>\n",
       "    <tr style=\"text-align: right;\">\n",
       "      <th>Y</th>\n",
       "      <th>grouped_CarryAway</th>\n",
       "      <th>Accepted</th>\n",
       "      <th>Rejected</th>\n",
       "      <th>total_count</th>\n",
       "      <th>acceptance_rate</th>\n",
       "    </tr>\n",
       "  </thead>\n",
       "  <tbody>\n",
       "    <tr>\n",
       "      <th>0</th>\n",
       "      <td>a lot</td>\n",
       "      <td>904</td>\n",
       "      <td>874</td>\n",
       "      <td>1778</td>\n",
       "      <td>50.8%</td>\n",
       "    </tr>\n",
       "    <tr>\n",
       "      <th>1</th>\n",
       "      <td>few</td>\n",
       "      <td>990</td>\n",
       "      <td>1048</td>\n",
       "      <td>2038</td>\n",
       "      <td>48.6%</td>\n",
       "    </tr>\n",
       "  </tbody>\n",
       "</table>\n",
       "</div>"
      ],
      "text/plain": [
       "Y grouped_CarryAway  Accepted  Rejected  total_count acceptance_rate\n",
       "0             a lot       904       874         1778           50.8%\n",
       "1               few       990      1048         2038           48.6%"
      ]
     },
     "execution_count": 580,
     "metadata": {},
     "output_type": "execute_result"
    }
   ],
   "source": [
    "# Group by user habits columns and calculate the count for each value in 'Y' within each group\n",
    "grouped_df = coffee_df.groupby(['grouped_CarryAway'])['Y'].value_counts().unstack(fill_value=0).reset_index()\n",
    "\n",
    "# Calculate the acceptance_rate for each group\n",
    "grouped_df['total_count'] = grouped_df['Rejected'] + grouped_df['Accepted']\n",
    "grouped_df['acceptance_rate'] = (grouped_df['Accepted'] / grouped_df['total_count'] * 100).round(1).astype(str) + '%'\n",
    "\n",
    "# Excluding data with a number of data too little to be compared ( here using 100 total count as minimum)\n",
    "grouped_df = grouped_df[grouped_df['total_count']>100].sort_values('acceptance_rate', ascending=False)\n",
    "grouped_df"
   ]
  },
  {
   "cell_type": "code",
   "execution_count": 581,
   "metadata": {},
   "outputs": [
    {
     "data": {
      "text/html": [
       "<div>\n",
       "<style scoped>\n",
       "    .dataframe tbody tr th:only-of-type {\n",
       "        vertical-align: middle;\n",
       "    }\n",
       "\n",
       "    .dataframe tbody tr th {\n",
       "        vertical-align: top;\n",
       "    }\n",
       "\n",
       "    .dataframe thead th {\n",
       "        text-align: right;\n",
       "    }\n",
       "</style>\n",
       "<table border=\"1\" class=\"dataframe\">\n",
       "  <thead>\n",
       "    <tr style=\"text-align: right;\">\n",
       "      <th>Y</th>\n",
       "      <th>grouped_RestaurantLessThan20</th>\n",
       "      <th>Accepted</th>\n",
       "      <th>Rejected</th>\n",
       "      <th>total_count</th>\n",
       "      <th>acceptance_rate</th>\n",
       "    </tr>\n",
       "  </thead>\n",
       "  <tbody>\n",
       "    <tr>\n",
       "      <th>0</th>\n",
       "      <td>a lot</td>\n",
       "      <td>786</td>\n",
       "      <td>737</td>\n",
       "      <td>1523</td>\n",
       "      <td>51.6%</td>\n",
       "    </tr>\n",
       "    <tr>\n",
       "      <th>1</th>\n",
       "      <td>few</td>\n",
       "      <td>1108</td>\n",
       "      <td>1185</td>\n",
       "      <td>2293</td>\n",
       "      <td>48.3%</td>\n",
       "    </tr>\n",
       "  </tbody>\n",
       "</table>\n",
       "</div>"
      ],
      "text/plain": [
       "Y grouped_RestaurantLessThan20  Accepted  Rejected  total_count  \\\n",
       "0                        a lot       786       737         1523   \n",
       "1                          few      1108      1185         2293   \n",
       "\n",
       "Y acceptance_rate  \n",
       "0           51.6%  \n",
       "1           48.3%  "
      ]
     },
     "execution_count": 581,
     "metadata": {},
     "output_type": "execute_result"
    }
   ],
   "source": [
    "# Group by user habits columns and calculate the count for each value in 'Y' within each group\n",
    "grouped_df = coffee_df.groupby(['grouped_RestaurantLessThan20'])['Y'].value_counts().unstack(fill_value=0).reset_index()\n",
    "\n",
    "# Calculate the acceptance_rate for each group\n",
    "grouped_df['total_count'] = grouped_df['Rejected'] + grouped_df['Accepted']\n",
    "grouped_df['acceptance_rate'] = (grouped_df['Accepted'] / grouped_df['total_count'] * 100).round(1).astype(str) + '%'\n",
    "\n",
    "# Excluding data with a number of data too little to be compared ( here using 100 total count as minimum)\n",
    "grouped_df = grouped_df[grouped_df['total_count']>100].sort_values('acceptance_rate', ascending=False)\n",
    "grouped_df"
   ]
  },
  {
   "cell_type": "code",
   "execution_count": 582,
   "metadata": {},
   "outputs": [
    {
     "data": {
      "text/html": [
       "<div>\n",
       "<style scoped>\n",
       "    .dataframe tbody tr th:only-of-type {\n",
       "        vertical-align: middle;\n",
       "    }\n",
       "\n",
       "    .dataframe tbody tr th {\n",
       "        vertical-align: top;\n",
       "    }\n",
       "\n",
       "    .dataframe thead th {\n",
       "        text-align: right;\n",
       "    }\n",
       "</style>\n",
       "<table border=\"1\" class=\"dataframe\">\n",
       "  <thead>\n",
       "    <tr style=\"text-align: right;\">\n",
       "      <th>Y</th>\n",
       "      <th>grouped_Restaurant20To50</th>\n",
       "      <th>Accepted</th>\n",
       "      <th>Rejected</th>\n",
       "      <th>total_count</th>\n",
       "      <th>acceptance_rate</th>\n",
       "    </tr>\n",
       "  </thead>\n",
       "  <tbody>\n",
       "    <tr>\n",
       "      <th>0</th>\n",
       "      <td>a lot</td>\n",
       "      <td>700</td>\n",
       "      <td>616</td>\n",
       "      <td>1316</td>\n",
       "      <td>53.2%</td>\n",
       "    </tr>\n",
       "    <tr>\n",
       "      <th>1</th>\n",
       "      <td>few</td>\n",
       "      <td>1194</td>\n",
       "      <td>1306</td>\n",
       "      <td>2500</td>\n",
       "      <td>47.8%</td>\n",
       "    </tr>\n",
       "  </tbody>\n",
       "</table>\n",
       "</div>"
      ],
      "text/plain": [
       "Y grouped_Restaurant20To50  Accepted  Rejected  total_count acceptance_rate\n",
       "0                    a lot       700       616         1316           53.2%\n",
       "1                      few      1194      1306         2500           47.8%"
      ]
     },
     "execution_count": 582,
     "metadata": {},
     "output_type": "execute_result"
    }
   ],
   "source": [
    "# Group by user habits columns and calculate the count for each value in 'Y' within each group\n",
    "grouped_df = coffee_df.groupby(['grouped_Restaurant20To50'])['Y'].value_counts().unstack(fill_value=0).reset_index()\n",
    "\n",
    "# Calculate the acceptance_rate for each group\n",
    "grouped_df['total_count'] = grouped_df['Rejected'] + grouped_df['Accepted']\n",
    "grouped_df['acceptance_rate'] = (grouped_df['Accepted'] / grouped_df['total_count'] * 100).round(1).astype(str) + '%'\n",
    "\n",
    "# Excluding data with a number of data too little to be compared ( here using 100 total count as minimum)\n",
    "grouped_df = grouped_df[grouped_df['total_count']>100].sort_values('acceptance_rate', ascending=False)\n",
    "grouped_df"
   ]
  },
  {
   "cell_type": "markdown",
   "metadata": {},
   "source": [
    "#### Concerning the user habits:\n",
    "- a driver who goes often to a coffee house (more than once a month) has a better acceptance rate\n",
    "- a driver who goes fewer to the other places has a slight better acceptance rate but it's not significant"
   ]
  },
  {
   "cell_type": "code",
   "execution_count": null,
   "metadata": {},
   "outputs": [],
   "source": []
  },
  {
   "cell_type": "code",
   "execution_count": 594,
   "metadata": {},
   "outputs": [],
   "source": [
    "# Count the occurrences of each unique value in the 'Y' column for those \n",
    "passengerSelection = {'Friend(s)', 'Partner'}\n",
    "ageSelection = {'below21', '21-26'}\n",
    "\n",
    "query  = 'grouped_CoffeeHouse == \"a lot\" '\n",
    "query += 'and passenger in @passengerSelection '\n",
    "query += 'and time == \"10AM\" '\n",
    "query += 'and expiration == \"1d\" '\n",
    "query += 'and grouped_age in @ageSelection '\n",
    "query += 'and destination == \"No Urgent Place\" '\n",
    "\n",
    "# Apply the query to filter the DataFrame\n",
    "filtered_df1 = coffee_df.query(query)\n",
    "filtered_df2 = coffee_df.query('~(' + query + ')')"
   ]
  },
  {
   "cell_type": "code",
   "execution_count": 595,
   "metadata": {},
   "outputs": [
    {
     "name": "stdout",
     "output_type": "stream",
     "text": [
      "Proportion of customers who accepted the coupon in selection: 84.00%\n",
      "Proportion of customers who accepted the coupon not in selection: 49.41%\n"
     ]
    }
   ],
   "source": [
    "# Calculate the sum of 'Y' for the specified conditions\n",
    "acceptance_counts1 = (filtered_df1['Y'] == 'Accepted').sum()\n",
    "acceptance_counts2 = (filtered_df2['Y'] == 'Accepted').sum()\n",
    "\n",
    "# Total of drivers\n",
    "# who go to bars more than once a month and had passengers that were not a kid and had occupations other than farming, fishing, or forestry (1) and others (2)\n",
    "total1 = len(filtered_df1)\n",
    "total2 = len(filtered_df2)\n",
    "\n",
    "# Calculate the proportion of customers who accepted the coupon (Y = 1) for those \n",
    "# who go to bars more than once a month and had passengers that were not a kid and had occupations other than farming, fishing, or forestry (1) and others (2)\n",
    "proportion_accepted1 = acceptance_counts1 / total1\n",
    "proportion_accepted2 = acceptance_counts2 / total2\n",
    "\n",
    "print(f\"Proportion of customers who accepted the coupon in selection: {proportion_accepted1:.2%}\")\n",
    "print(f\"Proportion of customers who accepted the coupon not in selection: {proportion_accepted2:.2%}\")"
   ]
  },
  {
   "cell_type": "markdown",
   "metadata": {},
   "source": [
    "#### The acceptance rate is very high (84%) for this target:\n",
    "- young drivers (under 30 years old)\n",
    "- drivers who use to go at least once a month in a coffee house\n",
    "- drivers with passengers other than kid(s)\n",
    "- drivers who drive to a No Urgent Place\n",
    "- at 10AM\n",
    "- with a coupon which expire in 1 day\n",
    "\n",
    "#### Drivers which are not entering in that selection have a fair rate of acceptance (49%)"
   ]
  }
 ],
 "metadata": {
  "kernelspec": {
   "display_name": "Python 3 (ipykernel)",
   "language": "python",
   "name": "python3"
  },
  "language_info": {
   "codemirror_mode": {
    "name": "ipython",
    "version": 3
   },
   "file_extension": ".py",
   "mimetype": "text/x-python",
   "name": "python",
   "nbconvert_exporter": "python",
   "pygments_lexer": "ipython3",
   "version": "3.11.5"
  },
  "widgets": {
   "application/vnd.jupyter.widget-state+json": {
    "state": {},
    "version_major": 2,
    "version_minor": 0
   }
  }
 },
 "nbformat": 4,
 "nbformat_minor": 4
}
